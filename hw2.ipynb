{
 "cells": [
  {
   "cell_type": "markdown",
   "metadata": {},
   "source": [
    "## Homework Set #2"
   ]
  },
  {
   "cell_type": "markdown",
   "metadata": {},
   "source": [
    "### 2.  Limb darkening basics"
   ]
  },
  {
   "cell_type": "markdown",
   "metadata": {},
   "source": [
    "a) We want to expand the source function with a MacLaurin series: $S_{\\nu}(\\tau_{\\nu})=\\Sigma^{\\infty}_{n=0}a_n\\tau^{n}_{\\nu}$. We want to also find an expression for emergent intensity $I^+_{\\nu}(\\tau_{\\nu}=0,\\mu)$."
   ]
  },
  {
   "cell_type": "markdown",
   "metadata": {},
   "source": [
    "If we have $S_\\nu$, then we can say the outward intensity is $I^+_\\nu(\\tau_\\nu,\\mu) = \\int^\\infty_{\\tau_\\nu}S_\\nu(t_\\nu)e^{-\\frac{(t_\\nu-\\tau_\\nu)}{\\mu}}\\frac{d\\tau_\\nu}{\\mu}$. \n",
    "Going forwards, emergent intensity is at $\\tau_\\nu = 0$, so we have $I^+_\\nu(\\tau_\\nu = 0,\\mu) = \\int^\\infty_{0}S_\\nu(t_\\nu)e^{-\\frac{(t_\\nu)}{\\mu}}\\frac{dt_\\nu}{\\mu}$. \n",
    "Plugging in the source function, $I^+_\\nu(0,\\mu) = \\int^\\infty_{0}\\Sigma^{\\infty}_{n=0}a_n t^{n}_{\\nu}e^{-\\frac{(t_\\nu)}{\\mu}}\\frac{dt_\\nu}{\\mu} = \\Sigma^{\\infty}_{n=0}a_n\\mu^n \\int^\\infty_{0}(\\frac{t_\\nu}{\\mu})^{n}e^{-\\frac{(t_\\nu)}{\\mu}}\\frac{dt_\\nu}{\\mu} = \\Sigma^{\\infty}_{n=0}a_n\\mu^n \\int^\\infty_{0}x^{n}e^{-x}dx = \\Sigma^{\\infty}_{n=0}a_n\\mu^n n!$."
   ]
  },
  {
   "cell_type": "markdown",
   "metadata": {},
   "source": [
    "b) We want to assume the linear case where $a_n = 0$ when $n\\geq2$ and show the Eddington-Barbier value for emergent intensity."
   ]
  },
  {
   "cell_type": "markdown",
   "metadata": {},
   "source": [
    "For this assumption, we have $I^+_\\nu(0,\\mu) = \\Sigma^{\\infty}_{n=0}a_n\\mu^n n! = a_0 \\mu^0 0! + a_1\\mu^1 1! = a_0 + a_1\\mu$ which is the EB value for emergent intensity."
   ]
  },
  {
   "cell_type": "markdown",
   "metadata": {},
   "source": [
    "c) Now we want to assume that the $a_2$ value isn't zero and repeat (b)."
   ]
  },
  {
   "cell_type": "markdown",
   "metadata": {},
   "source": [
    "For $a_2\\neq0$, $I^+_\\nu(0,\\mu) = \\Sigma^{\\infty}_{n=0}a_n\\mu^n n! = a_0 \\mu^0 0! + a_1\\mu^1 1! + a_2\\mu^2 2! = a_0 + a_1 \\mu + 6 a_2\\mu^2$."
   ]
  },
  {
   "cell_type": "markdown",
   "metadata": {},
   "source": [
    "d) Assuming we measure the emergent intensities at 2 points on the sun with known $\\mu_1$ and $\\mu_2$, we want to find the source function using the EB relation."
   ]
  },
  {
   "cell_type": "markdown",
   "metadata": {},
   "source": [
    "By assuming EB, we have $S_{\\nu}(\\tau_\\nu) = a_0+a_1\\tau_\\nu$ and $I^+_\\nu(0,\\mu) = a_0 + a_1\\mu$. Looking at two spots on the Sun, we have two emergent intensities: $I^+_{\\nu,1} = a_0 + a_1\\mu_1$ and $I^+_{\\nu,2} = a_0 + a_1\\mu_2$. Solving the linear equation for $a_1$ first, we find $a_1 = \\frac{I^+_{\\nu,1}-I^+_{\\nu,2}}{\\mu_1-\\mu_2}$. Plugging this into $I^+_{\\nu,1}$ and simplifying, we find $a_0 = \\frac{I^+_{\\nu,2}\\mu_1-I^+_{\\nu,1}\\mu_2}{\\mu_1-\\mu_2}$ which makes the source function: $S_\\nu(\\tau_\\nu)=\\frac{1}{\\mu_1-\\mu_2}[I^+_{\\nu,2}\\mu_1-I^+_{\\nu,1}\\mu_2+(I^+_{\\nu,1}-I^+_{\\nu,2})\\tau_\\nu]$"
   ]
  },
  {
   "cell_type": "markdown",
   "metadata": {},
   "source": [
    "e) Assuming $a_2>0$, we want to decide if the EB approximation over or underestimates the true source function."
   ]
  },
  {
   "cell_type": "markdown",
   "metadata": {},
   "source": [
    "Assuming the real source function, $S_{\\nu,r}$, has $a_2>0$ while the EB approximation's source function, $S_{\\nu,EB}$, has $a_2=0$, we can subtract the two to find $\\Delta S_\\nu = S_{\\nu,r}-S_{\\nu,EB} = a_2\\tau^2_\\nu$. As $a_2>0$ and $\\tau_\\nu$ is real, this would imply the difference between the source functions is positive, so the EB approximation underestimates the source function in this reality. "
   ]
  },
  {
   "cell_type": "markdown",
   "metadata": {},
   "source": [
    "### I think I need to come back to this"
   ]
  },
  {
   "cell_type": "markdown",
   "metadata": {},
   "source": [
    "f) Using part (e), we want to tell how we could look at the plot of $S_{\\nu,r}(\\tau_\\nu)$ near $\\tau_\\nu=\\mu$ qualitatively and figure out which direction our EB approximation would be off."
   ]
  },
  {
   "cell_type": "markdown",
   "metadata": {},
   "source": [
    "g) We want to determine how many measurements we would need to determine the source function of the sun at some range outside of EB approximations."
   ]
  },
  {
   "cell_type": "markdown",
   "metadata": {},
   "source": [
    "Following the logic of linear algebra, for a 2x2 system of linear equations we had two unknowns and needed two measurements (four variables) to solve it. This got us two unknowns, $a_0$ and $a_1$. If we were to go to a quadratic model for the source function, we would have a 3x3 system of linear equations with three unknowns. This would thus require three measurements consisting of six known variables ($\\mu_1$, $\\mu_2$, $\\mu_3$, $I^+_{\\nu,1}$, $I^+_{\\nu,2}$, $I^+_{\\nu,3}$). This pattern would increase to whatever order we want to solve the source function to. At order n$\\rightarrow$N, we need to solve a N+1xN+1 system of linear equations consisting of N+1 measurements at N+1 different known $\\mu$."
   ]
  },
  {
   "cell_type": "markdown",
   "metadata": {},
   "source": [
    "## 3. Integrals of $B_\\nu$\n",
    "\n",
    "### a) Integrator Setup"
   ]
  },
  {
   "cell_type": "code",
   "execution_count": 1,
   "metadata": {},
   "outputs": [],
   "source": [
    "from importlib import reload\n",
    "from astropy import units as u\n",
    "from astropy import constants as const\n",
    "from astropy.modeling.models import BlackBody\n",
    "from astropy.units.equivalencies import spectral\n",
    "\n",
    "import numpy as np\n",
    "import matplotlib.pyplot as plt\n",
    "\n",
    "from src import astro530\n",
    "from src import N_integrator"
   ]
  },
  {
   "cell_type": "code",
   "execution_count": 32,
   "metadata": {},
   "outputs": [],
   "source": [
    "astro530 = reload(astro530)\n",
    "N_integrator = reload(N_integrator)\n",
    "BoxInt = N_integrator.BoxInt\n",
    "Planck = astro530.Planck\n",
    "funct_BoxInt = N_integrator.funct_BoxInt"
   ]
  },
  {
   "cell_type": "code",
   "execution_count": 9,
   "metadata": {},
   "outputs": [],
   "source": [
    "?funct_BoxInt"
   ]
  },
  {
   "cell_type": "code",
   "execution_count": 10,
   "metadata": {},
   "outputs": [],
   "source": [
    "max_nu = 100\n",
    "n_size = 0.01\n",
    "wavenum = np.arange(0.001,max_nu,n_size)\n",
    "\n",
    "plk = astro530.Planck(wavenum,7500)"
   ]
  },
  {
   "cell_type": "code",
   "execution_count": 12,
   "metadata": {},
   "outputs": [
    {
     "data": {
      "text/plain": [
       "<function src.astro530.Planck(nu=1, T=1000)>"
      ]
     },
     "execution_count": 12,
     "metadata": {},
     "output_type": "execute_result"
    }
   ],
   "source": [
    "Planck"
   ]
  },
  {
   "cell_type": "code",
   "execution_count": 13,
   "metadata": {},
   "outputs": [
    {
     "data": {
      "text/latex": [
       "$6 \\; \\mathrm{K}$"
      ],
      "text/plain": [
       "<Quantity 6. K>"
      ]
     },
     "execution_count": 13,
     "metadata": {},
     "output_type": "execute_result"
    }
   ],
   "source": [
    "BoxInt([0,1,2,3,4]*u.K,[0,1,2,3,4])"
   ]
  },
  {
   "cell_type": "code",
   "execution_count": 15,
   "metadata": {},
   "outputs": [
    {
     "data": {
      "text/latex": [
       "$0.00019049615 \\; \\mathrm{\\frac{erg}{Hz\\,s\\,sr\\,\\mu m\\,cm^{2}}}$"
      ],
      "text/plain": [
       "<Quantity 0.0001905 erg / (cm2 Hz s sr um)>"
      ]
     },
     "execution_count": 15,
     "metadata": {},
     "output_type": "execute_result"
    }
   ],
   "source": [
    "BoxInt(wavenum*u.um**-1,plk,style=\"mp\")"
   ]
  },
  {
   "cell_type": "code",
   "execution_count": 18,
   "metadata": {},
   "outputs": [],
   "source": [
    "#funct_BoxInt(1e-16*u.um**-1,100*u.um**-1,n=1000,function=Planck,T=7500)"
   ]
  },
  {
   "cell_type": "markdown",
   "metadata": {},
   "source": [
    "### b) Determine its precision"
   ]
  },
  {
   "cell_type": "code",
   "execution_count": 41,
   "metadata": {},
   "outputs": [],
   "source": [
    "analytic_sol = astro530.Planck_Int(7500)\n",
    "calc = funct_BoxInt(1e-16*u.um**-1,100*u.um**-1,n_size=n_size,function=Planck,T=7500)\n",
    "#calc = funct_BoxInt(1e-16,100,n_size=0.01,function=Planck,T=7500)/u.um"
   ]
  },
  {
   "cell_type": "code",
   "execution_count": 42,
   "metadata": {},
   "outputs": [
    {
     "name": "stdout",
     "output_type": "stream",
     "text": [
      "0.00019049615514968505 erg / (cm2 Hz s sr um)\n",
      "0.0001904961551331248 erg / (cm2 Hz s sr um)\n"
     ]
    }
   ],
   "source": [
    "print(analytic_sol)\n",
    "print(calc)"
   ]
  },
  {
   "cell_type": "code",
   "execution_count": 43,
   "metadata": {},
   "outputs": [],
   "source": [
    "error = abs(analytic_sol-calc)/analytic_sol"
   ]
  },
  {
   "cell_type": "code",
   "execution_count": 44,
   "metadata": {},
   "outputs": [
    {
     "data": {
      "text/latex": [
       "$8.6932146 \\times 10^{-11} \\; \\mathrm{}$"
      ],
      "text/plain": [
       "<Quantity 8.69321457e-11>"
      ]
     },
     "execution_count": 44,
     "metadata": {},
     "output_type": "execute_result"
    }
   ],
   "source": [
    "error"
   ]
  },
  {
   "cell_type": "code",
   "execution_count": 45,
   "metadata": {},
   "outputs": [
    {
     "data": {
      "text/latex": [
       "$2.3689412 \\times 10^{-5} \\; \\mathrm{\\frac{erg}{Hz\\,s\\,sr\\,cm^{2}}}$"
      ],
      "text/plain": [
       "<Quantity 2.36894122e-05 erg / (cm2 Hz s sr)>"
      ]
     },
     "execution_count": 45,
     "metadata": {},
     "output_type": "execute_result"
    }
   ],
   "source": [
    "Planck(nu=1,T=5000)"
   ]
  },
  {
   "cell_type": "code",
   "execution_count": 46,
   "metadata": {},
   "outputs": [],
   "source": [
    "myplot_specs = {\n",
    "    'font.size' : 15,              # Larger fonts for labels, axes\n",
    "    'font.weight':'normal'\n",
    "}\n",
    "\n",
    "plt.rcParams.update(myplot_specs)"
   ]
  },
  {
   "cell_type": "code",
   "execution_count": null,
   "metadata": {},
   "outputs": [],
   "source": [
    "#n_default = 10**4\n",
    "n_size = 10**-3.5\n",
    "\n",
    "fig, (ax1, ax2, ax3) = plt.subplots(figsize = (15,5), nrows = 1, ncols = 3,squeeze=True,sharey=True)\n",
    "\n",
    "fig.tight_layout(w_pad=0)\n",
    "ax = ax1\n",
    "\n",
    "T = 7500 * u.K\n",
    "analytic_sol = astro530.Planck_Int(T)\n",
    "\n",
    "ax1.minorticks_on()\n",
    "ax1.grid(True,alpha=.5)\n",
    "\n",
    "ax1.set_xscale('log')\n",
    "ax1.set_yscale('log')\n",
    "ax1.yaxis.set_ticks_position('both')\n",
    "ax1.xaxis.set_ticks_position('both')\n",
    "\n",
    "ax1.tick_params(direction='in', axis='both',which='minor',length=3,width=1)#,labelsize=8)\n",
    "ax1.tick_params(direction='in', axis='both',which='major',length=6,width=2)#,labelsize=8)\n",
    "\n",
    "ax1.set_ylabel(\"Relative Precision\")\n",
    "ax1.set_xlabel(\"Step Size\")\n",
    "\n",
    "ax1.set_ylim([10**-17,1.5])\n",
    "#ax1.set_title(\"Comparing the Spectral Radiance \\n of Planck Function at T = 7000 K\")\n",
    "\n",
    "#ax1.set_xlim([0,12])\n",
    "\n",
    "n_val = [1,5,10,20,30,40,50,60,70,80,100,200,300,500,1000,3000,5000,10000]\n",
    "n_val = np.logspace(0,6,30)\n",
    "n_val = np.logspace(-4,0,20)\n",
    "#n_val = [10**3,10**6]\n",
    "#int_B = []\n",
    "error_n = []\n",
    "\n",
    "for n in n_val:\n",
    "    int_B = funct_BoxInt(0*u.um**-1,30*u.um**-1,n_size=n,function=Planck,T=T.value)\n",
    "    error_n.append(abs(analytic_sol-int_B)/analytic_sol)\n",
    "\n",
    "ax1.plot(n_val,error_n)\n",
    "\n",
    "ax2.minorticks_on()\n",
    "ax2.grid(True,alpha=.5)\n",
    "\n",
    "ax2.set_xscale('log')\n",
    "ax2.set_yscale('log')\n",
    "ax2.yaxis.set_ticks_position('both')\n",
    "ax2.xaxis.set_ticks_position('both')\n",
    "\n",
    "ax2.tick_params(direction='in', axis='both',which='minor',length=3,width=1)#,labelsize=8)\n",
    "ax2.tick_params(direction='in', axis='both',which='major',length=6,width=2)#,labelsize=8)\n",
    "\n",
    "#ax2.set_ylabel(\"Relative Precision\")\n",
    "ax2.set_xlabel(r\"Minimum Wavenumber [$\\mu$m$^{-1}$]\")\n",
    "\n",
    "nu_min = np.logspace(-15,1,50)\n",
    "error_xmin = []\n",
    "\n",
    "for xmin in nu_min:\n",
    "    int_B = funct_BoxInt(xmin*u.um**-1,30*u.um**-1,n_size=n_size,function=Planck,T=T.value)\n",
    "    error_xmin.append(abs(analytic_sol-int_B)/analytic_sol)\n",
    "    \n",
    "ax2.plot(nu_min,error_xmin)\n",
    "\n",
    "ax3.minorticks_on()\n",
    "ax3.grid(True,alpha=.5)\n",
    "\n",
    "ax3.set_xscale('log')\n",
    "ax3.set_yscale('log')\n",
    "ax3.yaxis.set_ticks_position('both')\n",
    "ax3.xaxis.set_ticks_position('both')\n",
    "\n",
    "ax3.tick_params(direction='in', axis='both',which='minor',length=3,width=1)#,labelsize=8)\n",
    "ax3.tick_params(direction='in', axis='both',which='major',length=6,width=2)#,labelsize=8)\n",
    "\n",
    "#ax3.set_ylabel(\"Relative Precision\")\n",
    "ax3.set_xlabel(r\"Maximum Wavenumber [$\\mu$m$^{-1}$]\")\n",
    "\n",
    "nu_max = np.logspace(0,2,50)\n",
    "error_xmax = []\n",
    "\n",
    "for xmax in nu_max:\n",
    "    int_B = funct_BoxInt(10**-16*u.um**-1,xmax*u.um**-1,n_size=n_size,function=Planck,T=T.value)\n",
    "    error_xmax.append(abs(analytic_sol-int_B)/analytic_sol)\n",
    "    \n",
    "ax3.plot(nu_max,error_xmax)\n",
    "\n",
    "fig.savefig(\"plots/3b.pdf\",bbox_inches='tight')"
   ]
  },
  {
   "cell_type": "code",
   "execution_count": null,
   "metadata": {},
   "outputs": [],
   "source": [
    "n_default = 10**4\n",
    "\n",
    "fig, (ax1, ax2, ax3) = plt.subplots(figsize = (15,5), nrows = 1, ncols = 3,squeeze=True,sharey=True)\n",
    "\n",
    "fig.tight_layout(w_pad=0)\n",
    "ax = ax1\n",
    "\n",
    "T = 7500 * u.K\n",
    "analytic_sol = astro530.Planck_Int(T)\n",
    "\n",
    "ax1.minorticks_on()\n",
    "ax1.grid(True,alpha=.5)\n",
    "\n",
    "ax1.set_xscale('log')\n",
    "ax1.set_yscale('log')\n",
    "ax1.yaxis.set_ticks_position('both')\n",
    "ax1.xaxis.set_ticks_position('both')\n",
    "\n",
    "ax1.tick_params(direction='in', axis='both',which='minor',length=3,width=1)#,labelsize=8)\n",
    "ax1.tick_params(direction='in', axis='both',which='major',length=6,width=2)#,labelsize=8)\n",
    "\n",
    "ax1.set_ylabel(\"Relative Precision\")\n",
    "ax1.set_xlabel(\"Number of Steps\")\n",
    "#ax1.set_title(\"Comparing the Spectral Radiance \\n of Planck Function at T = 7000 K\")\n",
    "\n",
    "#ax1.set_xlim([0,12])\n",
    "\n",
    "n_val = [1,5,10,20,30,40,50,60,70,80,100,200,300,500,1000,3000,5000,10000]\n",
    "n_val = np.logspace(0,6,50)\n",
    "#n_val = [10**5]\n",
    "#int_B = []\n",
    "error_n = []\n",
    "\n",
    "for n in n_val:\n",
    "    int_B = funct_BoxInt(10**-16*u.um**-1,30*u.um**-1,n=n,function=Planck,T=T.value)+0.1*analytic_sol\n",
    "    error_n.append(abs(analytic_sol-int_B)/analytic_sol)\n",
    "\n",
    "ax1.plot(n_val,error_n)\n",
    "\n",
    "ax2.minorticks_on()\n",
    "ax2.grid(True,alpha=.5)\n",
    "\n",
    "ax2.set_xscale('log')\n",
    "ax2.set_yscale('log')\n",
    "ax2.yaxis.set_ticks_position('both')\n",
    "ax2.xaxis.set_ticks_position('both')\n",
    "\n",
    "ax2.tick_params(direction='in', axis='both',which='minor',length=3,width=1)#,labelsize=8)\n",
    "ax2.tick_params(direction='in', axis='both',which='major',length=6,width=2)#,labelsize=8)\n",
    "\n",
    "#ax2.set_ylabel(\"Relative Precision\")\n",
    "ax2.set_xlabel(r\"Minimum Wavenumber [$\\mu$m$^{-1}$]\")\n",
    "\n",
    "nu_min = np.logspace(-15,1,50)\n",
    "error_xmin = []\n",
    "\n",
    "for xmin in nu_min:\n",
    "    int_B = funct_BoxInt(xmin*u.um**-1,20*u.um**-1,n=n_default,function=Planck,T=T.value)+0.1*analytic_sol\n",
    "    error_xmin.append(abs(analytic_sol-int_B)/analytic_sol)\n",
    "    \n",
    "ax2.plot(nu_min,error_xmin)\n",
    "\n",
    "ax3.minorticks_on()\n",
    "ax3.grid(True,alpha=.5)\n",
    "\n",
    "ax3.set_xscale('log')\n",
    "ax3.set_yscale('log')\n",
    "ax3.yaxis.set_ticks_position('both')\n",
    "ax3.xaxis.set_ticks_position('both')\n",
    "\n",
    "ax3.tick_params(direction='in', axis='both',which='minor',length=3,width=1)#,labelsize=8)\n",
    "ax3.tick_params(direction='in', axis='both',which='major',length=6,width=2)#,labelsize=8)\n",
    "\n",
    "#ax3.set_ylabel(\"Relative Precision\")\n",
    "ax3.set_xlabel(r\"Maximum Wavenumber [$\\mu$m$^{-1}$]\")\n",
    "\n",
    "nu_max = np.logspace(0,2,50)\n",
    "error_xmax = []\n",
    "\n",
    "for xmax in nu_max:\n",
    "    int_B = funct_BoxInt(10**-16*u.um**-1,xmax*u.um**-1,n=n_default,function=Planck,T=T.value)+0.1*analytic_sol\n",
    "    error_xmax.append(abs(analytic_sol-int_B)/analytic_sol)\n",
    "    \n",
    "ax3.plot(nu_max,error_xmax)\n",
    "\n",
    "fig.savefig('plots/3c.pdf',bbox_inches='tight')"
   ]
  },
  {
   "cell_type": "markdown",
   "metadata": {},
   "source": [
    "### d) Assuming we lack an analytic solution, we want to determine a method of finding appropriate parameters for our integrator. "
   ]
  },
  {
   "cell_type": "code",
   "execution_count": null,
   "metadata": {},
   "outputs": [],
   "source": [
    "tol = 1e-10\n",
    "\n",
    "T=7500*u.K\n",
    "\n",
    "xmins = np.logspace(0,-14,30)\n",
    "\n",
    "xmaxs = np.logspace(0.01,2,30)\n",
    "xmax = 13\n",
    "\n",
    "n_vals = np.logspace(0.2,5,30)\n",
    "n = 10\n",
    "\n",
    "min_index = 0\n",
    "max_index = 0\n",
    "n_index = 0\n",
    "\n",
    "dy_min = []\n",
    "dy_max = []\n",
    "dy_n = []\n",
    "\n",
    "indexes = []\n",
    "for runs in range(5):\n",
    "    min_index = 0\n",
    "    max_index = 0\n",
    "    n_index = 0\n",
    "\n",
    "    dy_min = []\n",
    "    dy_max = []\n",
    "    dy_n = []\n",
    "\n",
    "    dy = 1\n",
    "    for i in range(len(xmins)):\n",
    "        if dy > tol:\n",
    "            xmin = xmins[i]\n",
    "\n",
    "            min_index = i\n",
    "            if i != 0:\n",
    "                current = funct_BoxInt(xmin*u.um**-1,xmax*u.um**-1,n=n,function=Planck,T=T.value)\n",
    "                past = funct_BoxInt(xmins[i-1]*u.um**-1,xmax*u.um**-1,n=n,function=Planck,T=T.value)\n",
    "                dy = abs(current-past)/past\n",
    "                dy_min.append(dy.value)\n",
    "                indexes.append(i)\n",
    "\n",
    "    dy = 1          \n",
    "    for i in range(len(xmaxs)):\n",
    "        if dy > tol:\n",
    "            xmax = xmaxs[i]\n",
    "\n",
    "            max_index = i\n",
    "            if i != 0:\n",
    "                current = funct_BoxInt(xmin*u.um**-1,xmax*u.um**-1,n=n,function=Planck,T=T.value)\n",
    "                past = funct_BoxInt(xmins[i-1]*u.um**-1,xmax*u.um**-1,n=n,function=Planck,T=T.value)\n",
    "                dy = abs(current-past)/past\n",
    "                dy_max.append(dy.value)\n",
    "\n",
    "    dy = 1             \n",
    "    for i in range(len(n_vals)):\n",
    "        if dy > tol:\n",
    "            n = int(n_vals[i])\n",
    "\n",
    "            n_index = i\n",
    "            if i != 0:\n",
    "                current = funct_BoxInt(xmin*u.um**-1,xmax*u.um**-1,n=n,function=Planck,T=T.value)\n",
    "                past = funct_BoxInt(xmins[i-1]*u.um**-1,xmax*u.um**-1,n=n,function=Planck,T=T.value)\n",
    "                dy = abs(current-past)/past\n",
    "                dy_n.append(dy.value)\n",
    "\n",
    "# # Finding minimum parameters to solve for \n",
    "# for n in n_vals:\n",
    "#     if dy > tol:\n",
    "#         past = funct_BoxInt(xmin*u.um**-1,xmax*u.um**-1,n=n,function=Planck,T=T.value)"
   ]
  },
  {
   "cell_type": "code",
   "execution_count": null,
   "metadata": {},
   "outputs": [],
   "source": [
    "print(\"Minimum ν̃: \",xmin)\n",
    "print(\"Maximum ν̃: \",xmax)\n",
    "print(\"Steps necessary: \",n)"
   ]
  },
  {
   "cell_type": "code",
   "execution_count": null,
   "metadata": {},
   "outputs": [],
   "source": [
    "fig, (ax1, ax2, ax3) = plt.subplots(figsize = (15,5), nrows = 1, ncols = 3,squeeze=True,sharey=True)\n",
    "\n",
    "fig.tight_layout(w_pad=-.2)\n",
    "ax = ax1\n",
    "\n",
    "T = 7500 * u.K\n",
    "analytic_sol = astro530.Planck_Int(T)\n",
    "\n",
    "ax1.minorticks_on()\n",
    "ax1.grid(True,alpha=.5)\n",
    "\n",
    "ax1.set_xscale('log')\n",
    "ax1.set_yscale('log')\n",
    "ax1.yaxis.set_ticks_position('both')\n",
    "ax1.xaxis.set_ticks_position('both')\n",
    "\n",
    "ax1.tick_params(direction='in', axis='both',which='minor',length=3,width=1)#,labelsize=8)\n",
    "ax1.tick_params(direction='in', axis='both',which='major',length=6,width=2)#,labelsize=8)\n",
    "\n",
    "ax1.set_ylabel(\"Relative Precision\")\n",
    "ax1.set_xlabel(\"Number of Steps\")\n",
    "\n",
    "ax1.plot(n_vals[1:n_index+1],dy_n)\n",
    "\n",
    "ax2.minorticks_on()\n",
    "ax2.grid(True,alpha=.5)\n",
    "\n",
    "ax2.set_xscale('log')\n",
    "ax2.set_yscale('log')\n",
    "ax2.yaxis.set_ticks_position('both')\n",
    "ax2.xaxis.set_ticks_position('both')\n",
    "\n",
    "ax2.tick_params(direction='in', axis='both',which='minor',length=3,width=1)#,labelsize=8)\n",
    "ax2.tick_params(direction='in', axis='both',which='major',length=6,width=2)#,labelsize=8)\n",
    "\n",
    "#ax2.set_ylabel(\"Relative Precision\")\n",
    "ax2.set_xlabel(r\"Minimun Wavenumber [$\\mu$m$^{-1}$]\")\n",
    "\n",
    "ax2.invert_xaxis()\n",
    "\n",
    "ax2.plot(xmins[1:min_index+1],dy_min)\n",
    "\n",
    "ax3.minorticks_on()\n",
    "ax3.grid(True,alpha=.5)\n",
    "\n",
    "ax3.set_xscale('log')\n",
    "ax3.set_yscale('log')\n",
    "ax3.yaxis.set_ticks_position('both')\n",
    "ax3.xaxis.set_ticks_position('both')\n",
    "\n",
    "ax3.tick_params(direction='in', axis='both',which='minor',length=3,width=1)#,labelsize=8)\n",
    "ax3.tick_params(direction='in', axis='both',which='major',length=6,width=2)#,labelsize=8)\n",
    "\n",
    "#ax3.set_ylabel(\"Relative Precision\")\n",
    "ax3.set_xlabel(r\"Minimum Wavenumber [$\\mu$m$^{-1}$]\")\n",
    "\n",
    "ax3.invert_xaxis()\n",
    "\n",
    "ax3.plot(xmins[1:min_index+1],dy_min)\n",
    "\n",
    "fig.savefig(\"plots/3d.pdf\",bbox_inches='tight')"
   ]
  },
  {
   "cell_type": "code",
   "execution_count": null,
   "metadata": {},
   "outputs": [],
   "source": [
    "a = [0,1,2,3,4]\n",
    "print(a[3:0])"
   ]
  },
  {
   "cell_type": "code",
   "execution_count": null,
   "metadata": {},
   "outputs": [],
   "source": [
    "dy_min"
   ]
  },
  {
   "cell_type": "code",
   "execution_count": null,
   "metadata": {},
   "outputs": [],
   "source": [
    "xmins"
   ]
  },
  {
   "cell_type": "code",
   "execution_count": null,
   "metadata": {},
   "outputs": [],
   "source": []
  }
 ],
 "metadata": {
  "kernelspec": {
   "display_name": "Python 3",
   "language": "python",
   "name": "python3"
  },
  "language_info": {
   "codemirror_mode": {
    "name": "ipython",
    "version": 3
   },
   "file_extension": ".py",
   "mimetype": "text/x-python",
   "name": "python",
   "nbconvert_exporter": "python",
   "pygments_lexer": "ipython3",
   "version": "3.7.4"
  }
 },
 "nbformat": 4,
 "nbformat_minor": 2
}
