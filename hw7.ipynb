{
 "cells": [
  {
   "cell_type": "code",
   "execution_count": 1,
   "metadata": {},
   "outputs": [],
   "source": [
    "from importlib import reload\n",
    "from astropy import units as u\n",
    "from astropy import constants as const\n",
    "# from astropy.modeling.models import BlackBody\n",
    "# from astropy.units.equivalencies import spectral\n",
    "\n",
    "import math\n",
    "\n",
    "import numpy as np\n",
    "import matplotlib.pyplot as plt\n",
    "import pandas\n",
    "from scipy.interpolate import UnivariateSpline\n",
    "\n",
    "# from scipy.special import expn\n",
    "# from scipy.integrate import simpson\n",
    "\n",
    "from src import astro530\n",
    "from src import N_integrator"
   ]
  },
  {
   "cell_type": "code",
   "execution_count": 2,
   "metadata": {},
   "outputs": [],
   "source": [
    "myplot_specs = {\n",
    "    'font.size' : 15\n",
    "}\n",
    "\n",
    "plt.rcParams.update(myplot_specs)"
   ]
  },
  {
   "cell_type": "code",
   "execution_count": 3,
   "metadata": {},
   "outputs": [],
   "source": [
    "saha_LTE = astro530.saha_LTE"
   ]
  },
  {
   "cell_type": "code",
   "execution_count": 4,
   "metadata": {},
   "outputs": [],
   "source": [
    "def k_Hbf(T = 5000,wavelength = 1000,nmax = 100):    \n",
    "    \n",
    "    a0 = 1.0443e-26\n",
    "    \n",
    "    R=1.09678e-3\n",
    "    \n",
    "    if (wavelength*u.s).unit == u.s:\n",
    "        pass\n",
    "    else:\n",
    "        wavelength = (wavelength.to(u.angstrom)).value\n",
    "        T = (T.to(u.K)).value\n",
    "    K=0\n",
    "    for n in range(1,nmax+1):\n",
    "        #print(n)\n",
    "        lmax = n**2/R\n",
    "        \n",
    "        chi = 13.6*(1-1/n**2)\n",
    "        gbf = 1.-0.3456/(wavelength*R)**(1/3) * (wavelength*R/n**2 - 1/2)\n",
    "        \n",
    "        try:\n",
    "            for i,l in enumerate(wavelength):\n",
    "                if l > lmax: gbf[i] = 0\n",
    "        except:\n",
    "            if lmax < wavelength: gbf = 0\n",
    "        \n",
    "        K+= (wavelength/n)**3*gbf*10**(-5040/T * chi)\n",
    "    K *= a0\n",
    "    \n",
    "    return K*u.cm**2\n",
    "\n",
    "def k_Hff(T = 5000,wavelength = 1000):\n",
    "    a0 = 1.0443e-26\n",
    "    \n",
    "    R=1.09678e-3\n",
    "    \n",
    "    if (wavelength*u.s).unit == u.s:\n",
    "        pass\n",
    "    else:\n",
    "        wavelength = (wavelength.to(u.angstrom)).value\n",
    "        T = (T.to(u.K)).value\n",
    "        \n",
    "    theta = 5040/T\n",
    "    loge = 0.43429    \n",
    "    I = ((const.h*const.c*const.Ryd).to(u.eV)).value    \n",
    "    chi = 1.2398e4 / wavelength    \n",
    "    gff = 1+ 0.3456/(wavelength*R)**(1/3) * (loge/(theta*chi)+1/2)\n",
    "    \n",
    "    K = a0*wavelength**3*gff*loge/(2*theta*I)*10**(-theta*I)\n",
    "    \n",
    "    return K*u.cm**2\n",
    "\n",
    "def k_Hnbf(Pe,T = 5000,wavelength = 1000):\n",
    "    if (wavelength*u.s).unit == u.s:\n",
    "        pass\n",
    "    else:\n",
    "        wavelength = (wavelength.to(u.angstrom)).value\n",
    "        T = (T.to(u.K)).value\n",
    "        (Pe.to(u.dyne*u.cm**-2)).value\n",
    "    \n",
    "    a0 = 0.1199654\n",
    "    a1 = -1.18267e-6\n",
    "    a2 = 2.64243e-7\n",
    "    a3 = -4.40524e-11\n",
    "    a4 = 3.23992e-15\n",
    "    a5 = -1.39568e-19\n",
    "    a6 = 2.78701e-24\n",
    "    \n",
    "    abf = (a0+a1*wavelength+a2*wavelength**2+a3*wavelength**3+a4*wavelength**4+\n",
    "           a5*wavelength**5+a6*wavelength**6)*10**-17\n",
    "    \n",
    "    theta = 5040/T\n",
    "    \n",
    "    try:\n",
    "        zeroed = False\n",
    "        for i,a in enumerate(abf):\n",
    "            if a <= 0 or zeroed:\n",
    "                abf[i] = 0\n",
    "                zeroed = True\n",
    "    except:\n",
    "        if abf <= 0 or zeroed:\n",
    "            abf[i] = 0\n",
    "            zeroed = True\n",
    "    \n",
    "    K = 4.158e-10*abf*Pe*theta**(5/2) * 10**(0.754*theta)\n",
    "    \n",
    "    return K*u.cm**2\n",
    "\n",
    "def k_Hnff(Pe,T = 5000,wavelength = 9000):\n",
    "    if (wavelength*u.s).unit == u.s:\n",
    "        pass\n",
    "    else:\n",
    "        wavelength = (wavelength.to(u.angstrom)).value\n",
    "        T = (T.to(u.K)).value\n",
    "        Pe = (Pe.to(u.dyne*u.cm**-2)).value\n",
    "    \n",
    "        \n",
    "    logl = np.log10(wavelength)\n",
    "    logth = np.log10(5040/T)\n",
    "        \n",
    "    f0 = -2.2763 - 1.6850*logl + 0.76661*logl**2-0.053346*logl**3\n",
    "    f1 = 15.2827-9.2846*logl+1.99381*logl**2-0.142631*logl**3\n",
    "    f2 = -197.789+190.266*logl-67.9775*logl**2+10.6913*logl**3-0.625151*logl**4\n",
    "    \n",
    "    K = 1e-26*Pe*10**(f0+f1*logth+f2*logth**2)\n",
    "    \n",
    "    return K*u.cm**2"
   ]
  },
  {
   "cell_type": "code",
   "execution_count": 5,
   "metadata": {},
   "outputs": [],
   "source": [
    "def k_total(Pe=10*u.dyne/u.cm**2,T = 5000*u.K,wavelength = 9000*u.angstrom,**kwargs):\n",
    "    if (wavelength*u.s).unit == u.s:\n",
    "        pass\n",
    "    else:\n",
    "        wavelength = (wavelength.to(u.angstrom)).value\n",
    "        T = (T.to(u.K)).value\n",
    "        Pe = (Pe.to(u.dyne*u.cm**-2)).value\n",
    "        \n",
    "    KHbf = k_Hbf(T=T,wavelength=wavelength,**kwargs)\n",
    "    KHff = k_Hff(T=T,wavelength=wavelength)\n",
    "    KHnbf = k_Hnbf(Pe,T=T,wavelength=wavelength)\n",
    "    KHnff = k_Hnff(Pe,T=T,wavelength=wavelength)\n",
    "    \n",
    "    chi = 1.2398e4/wavelength\n",
    "    theta = 5040/T\n",
    "    \n",
    "    phi = saha_LTE(\"H\",temp=T)\n",
    "    \n",
    "    Kt = ((KHbf+KHff+KHnbf)*(1-10**(-chi*theta))+KHnff)*1/(1+phi/Pe)\n",
    "    \n",
    "    return Kt"
   ]
  },
  {
   "cell_type": "code",
   "execution_count": 6,
   "metadata": {},
   "outputs": [
    {
     "name": "stdout",
     "output_type": "stream",
     "text": [
      "   Z Element     mu       1ion\n",
      "0  1       H  1.008  13.598434\n"
     ]
    }
   ],
   "source": [
    "lb_arr = np.linspace(100,10000,1000)\n",
    "T= 7715*u.K\n",
    "Pe = 10**2.5\n",
    "#T_arr = np.array()\n",
    "KHbf = k_Hbf(T=T.value,wavelength=lb_arr,nmax = 2)\n",
    "Kt = k_total(Pe=Pe,T=T.value,wavelength=lb_arr)"
   ]
  },
  {
   "cell_type": "code",
   "execution_count": 7,
   "metadata": {},
   "outputs": [
    {
     "data": {
      "text/latex": [
       "$[1.3385946 \\times 10^{-20},~1.7546366 \\times 10^{-20},~2.2465304 \\times 10^{-20},~\\dots,~0,~0,~0] \\; \\mathrm{cm^{2}}$"
      ],
      "text/plain": [
       "<Quantity [1.33859458e-20, 1.75463656e-20, 2.24653035e-20, 2.81997419e-20,\n",
       "           3.48055639e-20, 4.23376030e-20, 5.08496869e-20, 6.03946745e-20,\n",
       "           7.10244899e-20, 8.27901520e-20, 9.57418009e-20, 1.09928723e-19,\n",
       "           1.25399370e-19, 1.42201385e-19, 1.60381614e-19, 1.79986128e-19,\n",
       "           2.01060236e-19, 2.23648500e-19, 2.47794752e-19, 2.73542102e-19,\n",
       "           3.00932952e-19, 3.30009009e-19, 3.60811294e-19, 3.93380151e-19,\n",
       "           4.27755259e-19, 4.63975640e-19, 5.02079668e-19, 5.42105076e-19,\n",
       "           5.84088965e-19, 6.28067812e-19, 6.74077474e-19, 7.22153200e-19,\n",
       "           7.72329633e-19, 8.24640820e-19, 8.79120213e-19, 9.35800682e-19,\n",
       "           9.94714514e-19, 1.05589342e-18, 1.11936855e-18, 1.18517047e-18,\n",
       "           1.25332921e-18, 1.32387423e-18, 1.39683445e-18, 1.47223823e-18,\n",
       "           1.55011339e-18, 1.63048723e-18, 1.71338651e-18, 1.79883744e-18,\n",
       "           1.88686573e-18, 1.97749655e-18, 2.07075457e-18, 2.16666393e-18,\n",
       "           2.26524827e-18, 2.36653070e-18, 2.47053386e-18, 2.57727986e-18,\n",
       "           2.68679032e-18, 2.79908637e-18, 2.91418865e-18, 3.03211729e-18,\n",
       "           3.15289195e-18, 3.27653181e-18, 3.40305555e-18, 3.53248140e-18,\n",
       "           3.66482709e-18, 3.80010988e-18, 3.93834656e-18, 4.07955347e-18,\n",
       "           4.22374646e-18, 4.37094092e-18, 4.52115178e-18, 4.67439353e-18,\n",
       "           4.83068017e-18, 4.99002527e-18, 5.15244193e-18, 5.31794283e-18,\n",
       "           5.48654015e-18, 5.65824568e-18, 5.83307072e-18, 6.01102615e-18,\n",
       "           6.19212241e-18, 6.37636949e-18, 2.33969028e-25, 2.41396889e-25,\n",
       "           2.48976565e-25, 2.56709459e-25, 2.64596971e-25, 2.72640495e-25,\n",
       "           2.80841426e-25, 2.89201151e-25, 2.97721057e-25, 3.06402526e-25,\n",
       "           3.15246939e-25, 3.24255672e-25, 3.33430098e-25, 3.42771588e-25,\n",
       "           3.52281508e-25, 3.61961221e-25, 3.71812090e-25, 3.81835472e-25,\n",
       "           3.92032721e-25, 4.02405189e-25, 4.12954224e-25, 4.23681172e-25,\n",
       "           4.34587376e-25, 4.45674174e-25, 4.56942903e-25, 4.68394897e-25,\n",
       "           4.80031486e-25, 4.91853997e-25, 5.03863755e-25, 5.16062082e-25,\n",
       "           5.28450297e-25, 5.41029714e-25, 5.53801647e-25, 5.66767405e-25,\n",
       "           5.79928297e-25, 5.93285625e-25, 6.06840691e-25, 6.20594794e-25,\n",
       "           6.34549229e-25, 6.48705289e-25, 6.63064264e-25, 6.77627441e-25,\n",
       "           6.92396103e-25, 7.07371533e-25, 7.22555010e-25, 7.37947809e-25,\n",
       "           7.53551203e-25, 7.69366462e-25, 7.85394855e-25, 8.01637646e-25,\n",
       "           8.18096097e-25, 8.34771468e-25, 8.51665015e-25, 8.68777992e-25,\n",
       "           8.86111651e-25, 9.03667239e-25, 9.21446004e-25, 9.39449188e-25,\n",
       "           9.57678032e-25, 9.76133772e-25, 9.94817646e-25, 1.01373089e-24,\n",
       "           1.03287472e-24, 1.05225038e-24, 1.07185908e-24, 1.09170205e-24,\n",
       "           1.11178051e-24, 1.13209568e-24, 1.15264877e-24, 1.17344098e-24,\n",
       "           1.19447354e-24, 1.21574764e-24, 1.23726450e-24, 1.25902530e-24,\n",
       "           1.28103126e-24, 1.30328357e-24, 1.32578341e-24, 1.34853199e-24,\n",
       "           1.37153048e-24, 1.39478009e-24, 1.41828198e-24, 1.44203734e-24,\n",
       "           1.46604736e-24, 1.49031319e-24, 1.51483603e-24, 1.53961704e-24,\n",
       "           1.56465739e-24, 1.58995824e-24, 1.61552076e-24, 1.64134611e-24,\n",
       "           1.66743545e-24, 1.69378994e-24, 1.72041072e-24, 1.74729895e-24,\n",
       "           1.77445578e-24, 1.80188236e-24, 1.82957983e-24, 1.85754932e-24,\n",
       "           1.88579199e-24, 1.91430897e-24, 1.94310139e-24, 1.97217038e-24,\n",
       "           2.00151707e-24, 2.03114260e-24, 2.06104808e-24, 2.09123464e-24,\n",
       "           2.12170339e-24, 2.15245547e-24, 2.18349197e-24, 2.21481402e-24,\n",
       "           2.24642273e-24, 2.27831920e-24, 2.31050453e-24, 2.34297984e-24,\n",
       "           2.37574623e-24, 2.40880479e-24, 2.44215662e-24, 2.47580281e-24,\n",
       "           2.50974446e-24, 2.54398266e-24, 2.57851849e-24, 2.61335304e-24,\n",
       "           2.64848739e-24, 2.68392262e-24, 2.71965981e-24, 2.75570004e-24,\n",
       "           2.79204438e-24, 2.82869390e-24, 2.86564967e-24, 2.90291276e-24,\n",
       "           2.94048423e-24, 2.97836515e-24, 3.01655657e-24, 3.05505955e-24,\n",
       "           3.09387515e-24, 3.13300442e-24, 3.17244841e-24, 3.21220818e-24,\n",
       "           3.25228476e-24, 3.29267920e-24, 3.33339255e-24, 3.37442584e-24,\n",
       "           3.41578012e-24, 3.45745641e-24, 3.49945575e-24, 3.54177917e-24,\n",
       "           3.58442771e-24, 3.62740238e-24, 3.67070422e-24, 3.71433423e-24,\n",
       "           3.75829346e-24, 3.80258290e-24, 3.84720359e-24, 3.89215653e-24,\n",
       "           3.93744273e-24, 3.98306320e-24, 4.02901895e-24, 4.07531099e-24,\n",
       "           4.12194031e-24, 4.16890792e-24, 4.21621482e-24, 4.26386200e-24,\n",
       "           4.31185046e-24, 4.36018119e-24, 4.40885518e-24, 4.45787341e-24,\n",
       "           4.50723688e-24, 4.55694656e-24, 4.60700344e-24, 4.65740850e-24,\n",
       "           4.70816271e-24, 4.75926705e-24, 4.81072249e-24, 4.86253001e-24,\n",
       "           4.91469056e-24, 4.96720513e-24, 5.02007466e-24, 5.07330013e-24,\n",
       "           5.12688250e-24, 5.18082272e-24, 5.23512175e-24, 5.28978054e-24,\n",
       "           5.34480005e-24, 5.40018123e-24, 5.45592502e-24, 5.51203236e-24,\n",
       "           5.56850421e-24, 5.62534151e-24, 5.68254519e-24, 5.74011619e-24,\n",
       "           5.79805544e-24, 5.85636389e-24, 5.91504246e-24, 5.97409208e-24,\n",
       "           6.03351368e-24, 6.09330819e-24, 6.15347652e-24, 6.21401959e-24,\n",
       "           6.27493834e-24, 6.33623367e-24, 6.39790649e-24, 6.45995773e-24,\n",
       "           6.52238830e-24, 6.58519909e-24, 6.64839102e-24, 6.71196500e-24,\n",
       "           6.77592192e-24, 6.84026270e-24, 6.90498821e-24, 6.97009938e-24,\n",
       "           7.03559708e-24, 7.10148221e-24, 7.16775566e-24, 7.23441832e-24,\n",
       "           7.30147109e-24, 7.36891483e-24, 7.43675044e-24, 7.50497880e-24,\n",
       "           7.57360078e-24, 7.64261726e-24, 7.71202913e-24, 7.78183724e-24,\n",
       "           7.85204247e-24, 7.92264570e-24, 7.99364778e-24, 8.06504959e-24,\n",
       "           8.13685198e-24, 8.20905582e-24, 8.28166196e-24, 8.35467127e-24,\n",
       "           8.42808460e-24, 8.50190280e-24, 8.57612673e-24, 8.65075723e-24,\n",
       "           8.72579515e-24, 8.80124134e-24, 8.87709663e-24, 8.95336188e-24,\n",
       "           9.03003792e-24, 9.10712559e-24, 9.18462573e-24, 9.26253917e-24,\n",
       "           9.34086673e-24, 9.41960926e-24, 9.49876758e-24, 9.57834252e-24,\n",
       "           9.65833490e-24, 9.73874554e-24, 9.81957526e-24, 9.90082489e-24,\n",
       "           9.98249524e-24, 1.00645871e-23, 1.01471013e-23, 1.02300387e-23,\n",
       "           1.03134001e-23, 1.03971862e-23, 1.04813979e-23, 1.05660360e-23,\n",
       "           1.06511013e-23, 1.07365945e-23, 1.08225166e-23, 1.09088682e-23,\n",
       "           1.09956502e-23, 1.10828634e-23, 1.11705085e-23, 1.12585863e-23,\n",
       "           1.13470977e-23, 1.14360434e-23, 1.15254242e-23, 1.16152409e-23,\n",
       "           1.17054942e-23, 1.17961850e-23, 1.18873139e-23, 1.19788819e-23,\n",
       "           1.20708896e-23, 1.21633378e-23, 0.00000000e+00, 0.00000000e+00,\n",
       "           0.00000000e+00, 0.00000000e+00, 0.00000000e+00, 0.00000000e+00,\n",
       "           0.00000000e+00, 0.00000000e+00, 0.00000000e+00, 0.00000000e+00,\n",
       "           0.00000000e+00, 0.00000000e+00, 0.00000000e+00, 0.00000000e+00,\n",
       "           0.00000000e+00, 0.00000000e+00, 0.00000000e+00, 0.00000000e+00,\n",
       "           0.00000000e+00, 0.00000000e+00, 0.00000000e+00, 0.00000000e+00,\n",
       "           0.00000000e+00, 0.00000000e+00, 0.00000000e+00, 0.00000000e+00,\n",
       "           0.00000000e+00, 0.00000000e+00, 0.00000000e+00, 0.00000000e+00,\n",
       "           0.00000000e+00, 0.00000000e+00, 0.00000000e+00, 0.00000000e+00,\n",
       "           0.00000000e+00, 0.00000000e+00, 0.00000000e+00, 0.00000000e+00,\n",
       "           0.00000000e+00, 0.00000000e+00, 0.00000000e+00, 0.00000000e+00,\n",
       "           0.00000000e+00, 0.00000000e+00, 0.00000000e+00, 0.00000000e+00,\n",
       "           0.00000000e+00, 0.00000000e+00, 0.00000000e+00, 0.00000000e+00,\n",
       "           0.00000000e+00, 0.00000000e+00, 0.00000000e+00, 0.00000000e+00,\n",
       "           0.00000000e+00, 0.00000000e+00, 0.00000000e+00, 0.00000000e+00,\n",
       "           0.00000000e+00, 0.00000000e+00, 0.00000000e+00, 0.00000000e+00,\n",
       "           0.00000000e+00, 0.00000000e+00, 0.00000000e+00, 0.00000000e+00,\n",
       "           0.00000000e+00, 0.00000000e+00, 0.00000000e+00, 0.00000000e+00,\n",
       "           0.00000000e+00, 0.00000000e+00, 0.00000000e+00, 0.00000000e+00,\n",
       "           0.00000000e+00, 0.00000000e+00, 0.00000000e+00, 0.00000000e+00,\n",
       "           0.00000000e+00, 0.00000000e+00, 0.00000000e+00, 0.00000000e+00,\n",
       "           0.00000000e+00, 0.00000000e+00, 0.00000000e+00, 0.00000000e+00,\n",
       "           0.00000000e+00, 0.00000000e+00, 0.00000000e+00, 0.00000000e+00,\n",
       "           0.00000000e+00, 0.00000000e+00, 0.00000000e+00, 0.00000000e+00,\n",
       "           0.00000000e+00, 0.00000000e+00, 0.00000000e+00, 0.00000000e+00,\n",
       "           0.00000000e+00, 0.00000000e+00, 0.00000000e+00, 0.00000000e+00,\n",
       "           0.00000000e+00, 0.00000000e+00, 0.00000000e+00, 0.00000000e+00,\n",
       "           0.00000000e+00, 0.00000000e+00, 0.00000000e+00, 0.00000000e+00,\n",
       "           0.00000000e+00, 0.00000000e+00, 0.00000000e+00, 0.00000000e+00,\n",
       "           0.00000000e+00, 0.00000000e+00, 0.00000000e+00, 0.00000000e+00,\n",
       "           0.00000000e+00, 0.00000000e+00, 0.00000000e+00, 0.00000000e+00,\n",
       "           0.00000000e+00, 0.00000000e+00, 0.00000000e+00, 0.00000000e+00,\n",
       "           0.00000000e+00, 0.00000000e+00, 0.00000000e+00, 0.00000000e+00,\n",
       "           0.00000000e+00, 0.00000000e+00, 0.00000000e+00, 0.00000000e+00,\n",
       "           0.00000000e+00, 0.00000000e+00, 0.00000000e+00, 0.00000000e+00,\n",
       "           0.00000000e+00, 0.00000000e+00, 0.00000000e+00, 0.00000000e+00,\n",
       "           0.00000000e+00, 0.00000000e+00, 0.00000000e+00, 0.00000000e+00,\n",
       "           0.00000000e+00, 0.00000000e+00, 0.00000000e+00, 0.00000000e+00,\n",
       "           0.00000000e+00, 0.00000000e+00, 0.00000000e+00, 0.00000000e+00,\n",
       "           0.00000000e+00, 0.00000000e+00, 0.00000000e+00, 0.00000000e+00,\n",
       "           0.00000000e+00, 0.00000000e+00, 0.00000000e+00, 0.00000000e+00,\n",
       "           0.00000000e+00, 0.00000000e+00, 0.00000000e+00, 0.00000000e+00,\n",
       "           0.00000000e+00, 0.00000000e+00, 0.00000000e+00, 0.00000000e+00,\n",
       "           0.00000000e+00, 0.00000000e+00, 0.00000000e+00, 0.00000000e+00,\n",
       "           0.00000000e+00, 0.00000000e+00, 0.00000000e+00, 0.00000000e+00,\n",
       "           0.00000000e+00, 0.00000000e+00, 0.00000000e+00, 0.00000000e+00,\n",
       "           0.00000000e+00, 0.00000000e+00, 0.00000000e+00, 0.00000000e+00,\n",
       "           0.00000000e+00, 0.00000000e+00, 0.00000000e+00, 0.00000000e+00,\n",
       "           0.00000000e+00, 0.00000000e+00, 0.00000000e+00, 0.00000000e+00,\n",
       "           0.00000000e+00, 0.00000000e+00, 0.00000000e+00, 0.00000000e+00,\n",
       "           0.00000000e+00, 0.00000000e+00, 0.00000000e+00, 0.00000000e+00,\n",
       "           0.00000000e+00, 0.00000000e+00, 0.00000000e+00, 0.00000000e+00,\n",
       "           0.00000000e+00, 0.00000000e+00, 0.00000000e+00, 0.00000000e+00,\n",
       "           0.00000000e+00, 0.00000000e+00, 0.00000000e+00, 0.00000000e+00,\n",
       "           0.00000000e+00, 0.00000000e+00, 0.00000000e+00, 0.00000000e+00,\n",
       "           0.00000000e+00, 0.00000000e+00, 0.00000000e+00, 0.00000000e+00,\n",
       "           0.00000000e+00, 0.00000000e+00, 0.00000000e+00, 0.00000000e+00,\n",
       "           0.00000000e+00, 0.00000000e+00, 0.00000000e+00, 0.00000000e+00,\n",
       "           0.00000000e+00, 0.00000000e+00, 0.00000000e+00, 0.00000000e+00,\n",
       "           0.00000000e+00, 0.00000000e+00, 0.00000000e+00, 0.00000000e+00,\n",
       "           0.00000000e+00, 0.00000000e+00, 0.00000000e+00, 0.00000000e+00,\n",
       "           0.00000000e+00, 0.00000000e+00, 0.00000000e+00, 0.00000000e+00,\n",
       "           0.00000000e+00, 0.00000000e+00, 0.00000000e+00, 0.00000000e+00,\n",
       "           0.00000000e+00, 0.00000000e+00, 0.00000000e+00, 0.00000000e+00,\n",
       "           0.00000000e+00, 0.00000000e+00, 0.00000000e+00, 0.00000000e+00,\n",
       "           0.00000000e+00, 0.00000000e+00, 0.00000000e+00, 0.00000000e+00,\n",
       "           0.00000000e+00, 0.00000000e+00, 0.00000000e+00, 0.00000000e+00,\n",
       "           0.00000000e+00, 0.00000000e+00, 0.00000000e+00, 0.00000000e+00,\n",
       "           0.00000000e+00, 0.00000000e+00, 0.00000000e+00, 0.00000000e+00,\n",
       "           0.00000000e+00, 0.00000000e+00, 0.00000000e+00, 0.00000000e+00,\n",
       "           0.00000000e+00, 0.00000000e+00, 0.00000000e+00, 0.00000000e+00,\n",
       "           0.00000000e+00, 0.00000000e+00, 0.00000000e+00, 0.00000000e+00,\n",
       "           0.00000000e+00, 0.00000000e+00, 0.00000000e+00, 0.00000000e+00,\n",
       "           0.00000000e+00, 0.00000000e+00, 0.00000000e+00, 0.00000000e+00,\n",
       "           0.00000000e+00, 0.00000000e+00, 0.00000000e+00, 0.00000000e+00,\n",
       "           0.00000000e+00, 0.00000000e+00, 0.00000000e+00, 0.00000000e+00,\n",
       "           0.00000000e+00, 0.00000000e+00, 0.00000000e+00, 0.00000000e+00,\n",
       "           0.00000000e+00, 0.00000000e+00, 0.00000000e+00, 0.00000000e+00,\n",
       "           0.00000000e+00, 0.00000000e+00, 0.00000000e+00, 0.00000000e+00,\n",
       "           0.00000000e+00, 0.00000000e+00, 0.00000000e+00, 0.00000000e+00,\n",
       "           0.00000000e+00, 0.00000000e+00, 0.00000000e+00, 0.00000000e+00,\n",
       "           0.00000000e+00, 0.00000000e+00, 0.00000000e+00, 0.00000000e+00,\n",
       "           0.00000000e+00, 0.00000000e+00, 0.00000000e+00, 0.00000000e+00,\n",
       "           0.00000000e+00, 0.00000000e+00, 0.00000000e+00, 0.00000000e+00,\n",
       "           0.00000000e+00, 0.00000000e+00, 0.00000000e+00, 0.00000000e+00,\n",
       "           0.00000000e+00, 0.00000000e+00, 0.00000000e+00, 0.00000000e+00,\n",
       "           0.00000000e+00, 0.00000000e+00, 0.00000000e+00, 0.00000000e+00,\n",
       "           0.00000000e+00, 0.00000000e+00, 0.00000000e+00, 0.00000000e+00,\n",
       "           0.00000000e+00, 0.00000000e+00, 0.00000000e+00, 0.00000000e+00,\n",
       "           0.00000000e+00, 0.00000000e+00, 0.00000000e+00, 0.00000000e+00,\n",
       "           0.00000000e+00, 0.00000000e+00, 0.00000000e+00, 0.00000000e+00,\n",
       "           0.00000000e+00, 0.00000000e+00, 0.00000000e+00, 0.00000000e+00,\n",
       "           0.00000000e+00, 0.00000000e+00, 0.00000000e+00, 0.00000000e+00,\n",
       "           0.00000000e+00, 0.00000000e+00, 0.00000000e+00, 0.00000000e+00,\n",
       "           0.00000000e+00, 0.00000000e+00, 0.00000000e+00, 0.00000000e+00,\n",
       "           0.00000000e+00, 0.00000000e+00, 0.00000000e+00, 0.00000000e+00,\n",
       "           0.00000000e+00, 0.00000000e+00, 0.00000000e+00, 0.00000000e+00,\n",
       "           0.00000000e+00, 0.00000000e+00, 0.00000000e+00, 0.00000000e+00,\n",
       "           0.00000000e+00, 0.00000000e+00, 0.00000000e+00, 0.00000000e+00,\n",
       "           0.00000000e+00, 0.00000000e+00, 0.00000000e+00, 0.00000000e+00,\n",
       "           0.00000000e+00, 0.00000000e+00, 0.00000000e+00, 0.00000000e+00,\n",
       "           0.00000000e+00, 0.00000000e+00, 0.00000000e+00, 0.00000000e+00,\n",
       "           0.00000000e+00, 0.00000000e+00, 0.00000000e+00, 0.00000000e+00,\n",
       "           0.00000000e+00, 0.00000000e+00, 0.00000000e+00, 0.00000000e+00,\n",
       "           0.00000000e+00, 0.00000000e+00, 0.00000000e+00, 0.00000000e+00,\n",
       "           0.00000000e+00, 0.00000000e+00, 0.00000000e+00, 0.00000000e+00,\n",
       "           0.00000000e+00, 0.00000000e+00, 0.00000000e+00, 0.00000000e+00,\n",
       "           0.00000000e+00, 0.00000000e+00, 0.00000000e+00, 0.00000000e+00,\n",
       "           0.00000000e+00, 0.00000000e+00, 0.00000000e+00, 0.00000000e+00,\n",
       "           0.00000000e+00, 0.00000000e+00, 0.00000000e+00, 0.00000000e+00,\n",
       "           0.00000000e+00, 0.00000000e+00, 0.00000000e+00, 0.00000000e+00,\n",
       "           0.00000000e+00, 0.00000000e+00, 0.00000000e+00, 0.00000000e+00,\n",
       "           0.00000000e+00, 0.00000000e+00, 0.00000000e+00, 0.00000000e+00,\n",
       "           0.00000000e+00, 0.00000000e+00, 0.00000000e+00, 0.00000000e+00,\n",
       "           0.00000000e+00, 0.00000000e+00, 0.00000000e+00, 0.00000000e+00,\n",
       "           0.00000000e+00, 0.00000000e+00, 0.00000000e+00, 0.00000000e+00,\n",
       "           0.00000000e+00, 0.00000000e+00, 0.00000000e+00, 0.00000000e+00,\n",
       "           0.00000000e+00, 0.00000000e+00, 0.00000000e+00, 0.00000000e+00,\n",
       "           0.00000000e+00, 0.00000000e+00, 0.00000000e+00, 0.00000000e+00,\n",
       "           0.00000000e+00, 0.00000000e+00, 0.00000000e+00, 0.00000000e+00,\n",
       "           0.00000000e+00, 0.00000000e+00, 0.00000000e+00, 0.00000000e+00,\n",
       "           0.00000000e+00, 0.00000000e+00, 0.00000000e+00, 0.00000000e+00,\n",
       "           0.00000000e+00, 0.00000000e+00, 0.00000000e+00, 0.00000000e+00,\n",
       "           0.00000000e+00, 0.00000000e+00, 0.00000000e+00, 0.00000000e+00,\n",
       "           0.00000000e+00, 0.00000000e+00, 0.00000000e+00, 0.00000000e+00,\n",
       "           0.00000000e+00, 0.00000000e+00, 0.00000000e+00, 0.00000000e+00,\n",
       "           0.00000000e+00, 0.00000000e+00, 0.00000000e+00, 0.00000000e+00,\n",
       "           0.00000000e+00, 0.00000000e+00, 0.00000000e+00, 0.00000000e+00,\n",
       "           0.00000000e+00, 0.00000000e+00, 0.00000000e+00, 0.00000000e+00,\n",
       "           0.00000000e+00, 0.00000000e+00, 0.00000000e+00, 0.00000000e+00,\n",
       "           0.00000000e+00, 0.00000000e+00, 0.00000000e+00, 0.00000000e+00,\n",
       "           0.00000000e+00, 0.00000000e+00, 0.00000000e+00, 0.00000000e+00,\n",
       "           0.00000000e+00, 0.00000000e+00, 0.00000000e+00, 0.00000000e+00,\n",
       "           0.00000000e+00, 0.00000000e+00, 0.00000000e+00, 0.00000000e+00,\n",
       "           0.00000000e+00, 0.00000000e+00, 0.00000000e+00, 0.00000000e+00,\n",
       "           0.00000000e+00, 0.00000000e+00, 0.00000000e+00, 0.00000000e+00,\n",
       "           0.00000000e+00, 0.00000000e+00, 0.00000000e+00, 0.00000000e+00,\n",
       "           0.00000000e+00, 0.00000000e+00, 0.00000000e+00, 0.00000000e+00,\n",
       "           0.00000000e+00, 0.00000000e+00, 0.00000000e+00, 0.00000000e+00,\n",
       "           0.00000000e+00, 0.00000000e+00, 0.00000000e+00, 0.00000000e+00,\n",
       "           0.00000000e+00, 0.00000000e+00, 0.00000000e+00, 0.00000000e+00,\n",
       "           0.00000000e+00, 0.00000000e+00, 0.00000000e+00, 0.00000000e+00,\n",
       "           0.00000000e+00, 0.00000000e+00, 0.00000000e+00, 0.00000000e+00,\n",
       "           0.00000000e+00, 0.00000000e+00, 0.00000000e+00, 0.00000000e+00,\n",
       "           0.00000000e+00, 0.00000000e+00, 0.00000000e+00, 0.00000000e+00,\n",
       "           0.00000000e+00, 0.00000000e+00, 0.00000000e+00, 0.00000000e+00,\n",
       "           0.00000000e+00, 0.00000000e+00, 0.00000000e+00, 0.00000000e+00,\n",
       "           0.00000000e+00, 0.00000000e+00, 0.00000000e+00, 0.00000000e+00,\n",
       "           0.00000000e+00, 0.00000000e+00, 0.00000000e+00, 0.00000000e+00,\n",
       "           0.00000000e+00, 0.00000000e+00, 0.00000000e+00, 0.00000000e+00,\n",
       "           0.00000000e+00, 0.00000000e+00, 0.00000000e+00, 0.00000000e+00,\n",
       "           0.00000000e+00, 0.00000000e+00, 0.00000000e+00, 0.00000000e+00,\n",
       "           0.00000000e+00, 0.00000000e+00, 0.00000000e+00, 0.00000000e+00,\n",
       "           0.00000000e+00, 0.00000000e+00, 0.00000000e+00, 0.00000000e+00,\n",
       "           0.00000000e+00, 0.00000000e+00, 0.00000000e+00, 0.00000000e+00,\n",
       "           0.00000000e+00, 0.00000000e+00, 0.00000000e+00, 0.00000000e+00,\n",
       "           0.00000000e+00, 0.00000000e+00, 0.00000000e+00, 0.00000000e+00,\n",
       "           0.00000000e+00, 0.00000000e+00, 0.00000000e+00, 0.00000000e+00,\n",
       "           0.00000000e+00, 0.00000000e+00, 0.00000000e+00, 0.00000000e+00,\n",
       "           0.00000000e+00, 0.00000000e+00, 0.00000000e+00, 0.00000000e+00,\n",
       "           0.00000000e+00, 0.00000000e+00, 0.00000000e+00, 0.00000000e+00] cm2>"
      ]
     },
     "execution_count": 7,
     "metadata": {},
     "output_type": "execute_result"
    }
   ],
   "source": [
    "k_Hbf(T=T.value,wavelength=lb_arr,nmax = 2)"
   ]
  },
  {
   "cell_type": "code",
   "execution_count": 8,
   "metadata": {},
   "outputs": [],
   "source": [
    "n = 2\n",
    "R=1.09678e-3\n",
    "wavelength = lb_arr#912\n",
    "T=7715\n",
    "\n",
    "chi = 13.6*(1-1/n**2)\n",
    "gbf = 1-0.3456/(wavelength*R)**(1/3) * (wavelength*R/n**2 - 1/2)\n",
    "\n",
    "#print(0.3456/(wavelength*R)**(1/3) * (wavelength*R/n**2 - 1/2))\n",
    "#print(10**(-5040/T * chi))"
   ]
  },
  {
   "cell_type": "code",
   "execution_count": 9,
   "metadata": {},
   "outputs": [],
   "source": [
    "def abf(wavelength,n):\n",
    "    a0 = 1.0443e-26\n",
    "    R = ((const.Ryd).to(u.angstrom**-1)).value\n",
    "    gbf = 1-0.3456/(wavelength*R)**(1/3) * (wavelength*R/n**2 - 1/2)\n",
    "    \n",
    "    lmax = n**2/R\n",
    "    \n",
    "    for i,l in enumerate(wavelength):\n",
    "        if l>lmax: gbf[i] = 0\n",
    "    \n",
    "    return a0 * gbf * wavelength**3/n**5"
   ]
  },
  {
   "cell_type": "code",
   "execution_count": 10,
   "metadata": {},
   "outputs": [],
   "source": [
    "def anbf(wavelength):\n",
    "    a0 = 0.1199654\n",
    "    a1 = -1.18267e-6\n",
    "    a2 = 2.64243e-7\n",
    "    a3 = -4.40524e-11\n",
    "    a4 = 3.23992e-15\n",
    "    a5 = -1.39568e-19\n",
    "    a6 = 2.78701e-24\n",
    "    \n",
    "    abf = (a0+a1*wavelength+a2*wavelength**2+a3*wavelength**3+a4*wavelength**4+\n",
    "           a5*wavelength**5+a6*wavelength**6)*10**-17\n",
    "    return abf"
   ]
  },
  {
   "cell_type": "code",
   "execution_count": 11,
   "metadata": {},
   "outputs": [
    {
     "data": {
      "text/plain": [
       "(0.001, 10)"
      ]
     },
     "execution_count": 11,
     "metadata": {},
     "output_type": "execute_result"
    },
    {
     "data": {
      "image/png": "[encoded data removed]",
      "text/plain": [
       "<Figure size 432x288 with 1 Axes>"
      ]
     },
     "metadata": {
      "needs_background": "light"
     },
     "output_type": "display_data"
    }
   ],
   "source": [
    "y = anbf(lb_arr)\n",
    "plt.plot(lb_arr,y*10**17)\n",
    "plt.yscale('log')\n",
    "plt.ylim([0.001,10])"
   ]
  },
  {
   "cell_type": "code",
   "execution_count": 12,
   "metadata": {},
   "outputs": [],
   "source": [
    "abf1 = abf(lb_arr,1)\n",
    "abf2 = abf(lb_arr,2)\n",
    "abf3 = abf(lb_arr,3)"
   ]
  },
  {
   "cell_type": "code",
   "execution_count": 13,
   "metadata": {},
   "outputs": [
    {
     "data": {
      "text/plain": [
       "[<matplotlib.lines.Line2D at 0x204dc6ddf08>]"
      ]
     },
     "execution_count": 13,
     "metadata": {},
     "output_type": "execute_result"
    },
    {
     "data": {
      "image/png": "[encoded data removed]",
      "text/plain": [
       "<Figure size 432x288 with 1 Axes>"
      ]
     },
     "metadata": {
      "needs_background": "light"
     },
     "output_type": "display_data"
    }
   ],
   "source": [
    "plt.plot(lb_arr,abf1)\n",
    "plt.plot(lb_arr,abf2)\n",
    "plt.plot(lb_arr,abf3)"
   ]
  },
  {
   "cell_type": "code",
   "execution_count": 14,
   "metadata": {},
   "outputs": [
    {
     "name": "stdout",
     "output_type": "stream",
     "text": [
      "   Z Element     mu       1ion\n",
      "0  1       H  1.008  13.598434\n"
     ]
    }
   ],
   "source": [
    "lb_arr = np.linspace(3000,21000,1000)\n",
    "T= 7715*u.K\n",
    "Pe = 10**2.5\n",
    "#T_arr = np.array()\n",
    "KHbf = k_Hbf(T=T.value,wavelength=lb_arr)\n",
    "KHff = k_Hff(T=T.value,wavelength=lb_arr)\n",
    "KHnbf = k_Hnbf(Pe=Pe,T=T.value,wavelength=lb_arr)\n",
    "KHnff = k_Hnff(Pe=Pe,T=T.value,wavelength=lb_arr)\n",
    "Kt = k_total(Pe=Pe,T=T.value,wavelength=lb_arr)"
   ]
  },
  {
   "cell_type": "code",
   "execution_count": 15,
   "metadata": {},
   "outputs": [
    {
     "data": {
      "text/plain": [
       "<matplotlib.legend.Legend at 0x204da4be948>"
      ]
     },
     "execution_count": 15,
     "metadata": {},
     "output_type": "execute_result"
    },
    {
     "data": {
      "image/png": "[encoded data removed]",
      "text/plain": [
       "<Figure size 720x504 with 1 Axes>"
      ]
     },
     "metadata": {
      "needs_background": "light"
     },
     "output_type": "display_data"
    }
   ],
   "source": [
    "fig, ax = plt.subplots(figsize = (10,7),nrows=1, ncols=1)\n",
    "    \n",
    "ax.yaxis.set_ticks_position('both')\n",
    "ax.xaxis.set_ticks_position('both')\n",
    "ax.minorticks_on()\n",
    "ax.grid(True,alpha=.3)\n",
    "\n",
    "ax.tick_params(direction='in', axis='both',which='minor',length=3,width=1)#,labelsize=8)\n",
    "ax.tick_params(direction='in',axis='both',which='major',length=6,width=2)#,labelsize=8)\n",
    "\n",
    "#ax.set_ylim([-0.2,5.8])\n",
    "\n",
    "ax.plot(lb_arr,KHbf*10**26/Pe, label = r\"H$_{\\mathrm{bf}}$\",c=\"orange\")\n",
    "ax.plot(lb_arr,KHff*10**26/Pe, label = r\"H$_{\\mathrm{ff}}$\",c=\"green\")\n",
    "ax.plot(lb_arr,KHnbf*10**26/Pe, label = r\"H$^-_{\\mathrm{bf}}$\",ls=\"--\",c=\"blue\")\n",
    "ax.plot(lb_arr,KHnff*10**26/Pe, label = r\"H$^-_{\\mathrm{ff}}$\",ls=\"--\",c=\"purple\")\n",
    "ax.plot(lb_arr,Kt*10**26/Pe, label = \"Total\",c=\"maroon\")\n",
    "\n",
    "title = \"T = \"+str(T)+r\" | log $P_e=$\"+str(np.log10(Pe))\n",
    "\n",
    "ax.set_title(title)\n",
    "\n",
    "ax.legend()"
   ]
  },
  {
   "cell_type": "code",
   "execution_count": 16,
   "metadata": {},
   "outputs": [
    {
     "data": {
      "text/latex": [
       "$0 \\; \\mathrm{cm^{2}}$"
      ],
      "text/plain": [
       "<Quantity 0. cm2>"
      ]
     },
     "execution_count": 16,
     "metadata": {},
     "output_type": "execute_result"
    }
   ],
   "source": [
    "k_Hbf(T=7715,wavelength=10000,nmax=3)"
   ]
  },
  {
   "cell_type": "code",
   "execution_count": 17,
   "metadata": {},
   "outputs": [
    {
     "data": {
      "text/latex": [
       "$3645.0682 \\; \\mathrm{\\mathring{A}}$"
      ],
      "text/plain": [
       "<Quantity 3645.06820233 Angstrom>"
      ]
     },
     "execution_count": 17,
     "metadata": {},
     "output_type": "execute_result"
    }
   ],
   "source": [
    "((const.Ryd*(1/4))**-1).to(u.angstrom)"
   ]
  },
  {
   "cell_type": "code",
   "execution_count": null,
   "metadata": {},
   "outputs": [],
   "source": []
  }
 ],
 "metadata": {
  "kernelspec": {
   "display_name": "Python 3",
   "language": "python",
   "name": "python3"
  },
  "language_info": {
   "codemirror_mode": {
    "name": "ipython",
    "version": 3
   },
   "file_extension": ".py",
   "mimetype": "text/x-python",
   "name": "python",
   "nbconvert_exporter": "python",
   "pygments_lexer": "ipython3",
   "version": "3.7.4"
  }
 },
 "nbformat": 4,
 "nbformat_minor": 2
}
