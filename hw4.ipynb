{
 "cells": [
  {
   "cell_type": "code",
   "execution_count": 1,
   "metadata": {},
   "outputs": [],
   "source": [
    "from importlib import reload\n",
    "from astropy import units as u\n",
    "from astropy import constants as const\n",
    "from astropy.modeling.models import BlackBody\n",
    "from astropy.units.equivalencies import spectral\n",
    "\n",
    "import numpy as np\n",
    "import matplotlib.pyplot as plt\n",
    "\n",
    "from scipy.special import expn\n",
    "from scipy.integrate import simpson\n",
    "\n",
    "from src import astro530\n",
    "from src import N_integrator"
   ]
  },
  {
   "cell_type": "markdown",
   "metadata": {},
   "source": [
    "## Problem 6) Problem 3: Redman’s eclipse spectrum\n",
    "### from Rutten without a, g, h\n",
    "\n",
    "This problem illustrates the transition from optically thick to optically thin line formation\n",
    "near the solar limb. R.O. Redman obtained a spectrum of the Ca II K line at λ$_K$ = 393.3 nm\n",
    "during a total solar eclipse. A tracing made from his plate is sketched in Fig. 10.10. The K\n",
    "line shows four peaks which we try to explain.\n",
    "\n",
    "The density in the solar atmosphere drops with height h as N ∼ exp(−h/H), with scale\n",
    "height H ≈ 100 km. Assume that the ratio of line-center extinction over continuum extinction η = α$^l$\n",
    "/α$^c$ has η$_K$ = 106 at all heights. Assume also, for the moment, that the\n",
    "atmosphere is isothermal with T = 6000 K for all h and that LTE holds."
   ]
  },
  {
   "cell_type": "markdown",
   "metadata": {},
   "source": [
    "b) Now the geometry (Fig. 10.11). Let us use τ for radial optical depth and t for optical\n",
    "thickness along the beam. The zero point of the radial height scale h = 0 km is defined\n",
    "as the location with radial optical depth τ c\n",
    "1 = 1 in the continuum close to the K line,\n",
    "i.e., measured along line of sight number 1. Why is this a logical definition? Where is\n",
    "τ c\n",
    "1 = 0? What is the optical thickness of the sun along this line of sight?\n",
    "\n",
    "The lines of sight 2 and 3 are tangential to the sun. The solar limb is defined to be the\n",
    "location hi at which the continuum optical thickness t\n",
    "c\n",
    "i of the sun along a tangential line\n",
    "of sight i equals unity: that direction i for which t\n",
    "c\n",
    "i = 1. In the continuum near the K\n",
    "line this is number 2, cutting through shells with h > 300 km and touching the limb at\n",
    "hL = h2 = 300 km. Why isn’t the limb at h = 0 km?\n",
    "\n",
    "Are there wavelengths in the spectrum with hL < 300 km?\n",
    "Line of sight 3 is tangential to the shell with h3 = 600 km. Estimate the continuum\n",
    "optical thickness tc\n",
    "3 of the sun for this viewing direction."
   ]
  },
  {
   "cell_type": "markdown",
   "metadata": {},
   "source": [
    "## Problem 7) Hν (0)\n",
    "Use your work from Problem 5 to write a function that calculates Hν (0) given an array of\n",
    "optical depths τν using an exponential integral. In addition to an array of optical depths,\n",
    "the function should take as an argument the name of another function that returns the\n",
    "relevant source function at those optical depths (or whatever the equivalent is in the\n",
    "language you are using). Choose a quadratic form for Sν (τν ) as in problem 1a) and\n",
    "compute Hν (0) for it.\n",
    "\n",
    "Confirm that this works as you expect it to for a linear source function.\n",
    "\n",
    "You are now just a source function and an optical depth grid away from calculating the\n",
    "emergent flux density of stars at a given wavelength.\n"
   ]
  },
  {
   "cell_type": "code",
   "execution_count": 2,
   "metadata": {},
   "outputs": [],
   "source": [
    "def source_func(t, a0 = 1, a1 = 1, a2 = 1):\n",
    "    \"\"\" Radiative transfer source function\n",
    "    Given τ_ν as a single value or an array, and key word values for a_n where \n",
    "    n < 3, the function will output the source function value. This is viable \n",
    "    up to quadratic form.\n",
    "    \n",
    "    input parameters:\n",
    "    \n",
    "    t [float or array]: values for τ_ν, the optical depth.\n",
    "    a0 [float]: Named variable for the zeroth order source term\n",
    "    a1 [float]: Named variable for the linear source term\n",
    "    a2 [float]: Named variable for the quadratic source term. Set to zero for a \n",
    "                linear source function.\n",
    "                \n",
    "    output values:\n",
    "    \n",
    "    S_ν [float or array]: outputs the value(s) for the source function. \n",
    "    \n",
    "    \"\"\"\n",
    "    return a0+a1*t+a2*t**2\n",
    "\n",
    "def astrophysical_flux(t_arr, function = source_func, **kwargs):\n",
    "    \"\"\" Astrophysical Flux H_ν(0)\n",
    "    Given an array of τ_ν, an optional function variable and keywords for said \n",
    "    function, this function will output the astrophysical flux at zero optical \n",
    "    depth as calculated using numerical integration with scipy.integrate.simpson  \n",
    "    \n",
    "    input parameters:\n",
    "    \n",
    "    t_arr [array-like]: values for optical depth from 0 to infinity.\n",
    "    function [function]: name of the source function's function which is given \n",
    "                        at least optical depth values in array form. \n",
    "    kwargs: keyword arguments for the source function.\n",
    "    \n",
    "    output values:\n",
    "    \n",
    "    H_ν(0) [float]: Outputs the value for the astrophysical flux at a τ_ν = 0.\n",
    "    \"\"\"\n",
    "    t_arr = np.array(t_arr)\n",
    "    S_arr = function(t_arr,**kwargs)\n",
    "    E2_arr = expn(2,t_arr)\n",
    "    \n",
    "    y_arr = np.array(S_arr * E2_arr)\n",
    "    #return y_arr\n",
    "    \n",
    "    return 1/2*simpson(y_arr, x = t_arr)"
   ]
  },
  {
   "cell_type": "code",
   "execution_count": 12,
   "metadata": {},
   "outputs": [
    {
     "name": "stdout",
     "output_type": "stream",
     "text": [
      "0.37500000000000383\n"
     ]
    }
   ],
   "source": [
    "x = np.logspace(-16,2,int(1e5))\n",
    "#x = x-np.min(x)\n",
    "#x = np.append(x,np.linspace(11,100,100))\n",
    "y = astrophysical_flux(x,a2=0)\n",
    "\n",
    "print((2/3-y)*3/2)\n",
    "\n",
    "#plt.xscale(\"log\")\n",
    "#plt.plot(x,y)"
   ]
  },
  {
   "cell_type": "code",
   "execution_count": 14,
   "metadata": {},
   "outputs": [
    {
     "data": {
      "text/plain": [
       "0.4166666666666667"
      ]
     },
     "execution_count": 14,
     "metadata": {},
     "output_type": "execute_result"
    }
   ],
   "source": [
    "5/12"
   ]
  },
  {
   "cell_type": "code",
   "execution_count": 15,
   "metadata": {},
   "outputs": [
    {
     "data": {
      "text/plain": [
       "6.261657858885883e-15"
      ]
     },
     "execution_count": 15,
     "metadata": {},
     "output_type": "execute_result"
    }
   ],
   "source": [
    "abs(5/12-y)*12/5"
   ]
  },
  {
   "cell_type": "code",
   "execution_count": 5,
   "metadata": {},
   "outputs": [
    {
     "data": {
      "text/plain": [
       "array([11.  , 11.89, 12.78, 13.67, 14.56, 15.45, 16.34, 17.23, 18.12,\n",
       "       19.01, 19.9 , 20.79, 21.68, 22.57, 23.46, 24.35, 25.24, 26.13,\n",
       "       27.02, 27.91, 28.8 , 29.69, 30.58, 31.47, 32.36, 33.25, 34.14,\n",
       "       35.03, 35.92, 36.81, 37.7 , 38.59, 39.48, 40.37, 41.26, 42.15,\n",
       "       43.04, 43.93, 44.82, 45.71, 46.6 , 47.49, 48.38, 49.27, 50.16,\n",
       "       51.05, 51.94, 52.83, 53.72, 54.61, 55.5 , 56.39, 57.28, 58.17,\n",
       "       59.06, 59.95, 60.84, 61.73, 62.62, 63.51, 64.4 , 65.29, 66.18,\n",
       "       67.07, 67.96, 68.85, 69.74, 70.63, 71.52, 72.41, 73.3 , 74.19,\n",
       "       75.08, 75.97, 76.86, 77.75, 78.64, 79.53, 80.42, 81.31, 82.2 ,\n",
       "       83.09, 83.98, 84.87, 85.76, 86.65, 87.54, 88.43, 89.32, 90.21,\n",
       "       91.1 , 91.99, 92.88, 93.77, 94.66, 95.55, 96.44, 97.33, 98.22,\n",
       "       99.11])"
      ]
     },
     "execution_count": 5,
     "metadata": {},
     "output_type": "execute_result"
    }
   ],
   "source": [
    "np.linspace(11,100,100,endpoint=False)"
   ]
  },
  {
   "cell_type": "code",
   "execution_count": 6,
   "metadata": {},
   "outputs": [
    {
     "data": {
      "text/plain": [
       "array([0.00000000e+00, 4.14555366e-20, 8.29282588e-20, ...,\n",
       "       1.00000000e+00, 2.00000000e+00, 3.00000000e+00])"
      ]
     },
     "execution_count": 6,
     "metadata": {},
     "output_type": "execute_result"
    }
   ],
   "source": [
    "np.append(x,[1,2,3])"
   ]
  },
  {
   "cell_type": "code",
   "execution_count": null,
   "metadata": {},
   "outputs": [],
   "source": []
  }
 ],
 "metadata": {
  "kernelspec": {
   "display_name": "Python 3",
   "language": "python",
   "name": "python3"
  },
  "language_info": {
   "codemirror_mode": {
    "name": "ipython",
    "version": 3
   },
   "file_extension": ".py",
   "mimetype": "text/x-python",
   "name": "python",
   "nbconvert_exporter": "python",
   "pygments_lexer": "ipython3",
   "version": "3.7.4"
  }
 },
 "nbformat": 4,
 "nbformat_minor": 2
}
