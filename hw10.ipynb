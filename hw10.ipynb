{
 "cells": [
  {
   "cell_type": "code",
   "execution_count": 1,
   "metadata": {},
   "outputs": [],
   "source": [
    "from importlib import reload\n",
    "from astropy import units as u\n",
    "from astropy import constants as const\n",
    "\n",
    "import pandas as pd\n",
    "import pandas as pandas\n",
    "import numpy as np\n",
    "import matplotlib.pyplot as plt\n",
    "\n",
    "from matplotlib import ticker\n",
    "import matplotlib.colors\n",
    "import matplotlib.ticker as mticker\n",
    "\n",
    "from scipy.interpolate import UnivariateSpline\n",
    "\n",
    "from src import astro530"
   ]
  },
  {
   "cell_type": "code",
   "execution_count": 2,
   "metadata": {},
   "outputs": [],
   "source": [
    "saha_LTE = astro530.saha_LTE\n",
    "Pe_calc = astro530.Pe_calc"
   ]
  },
  {
   "cell_type": "code",
   "execution_count": 3,
   "metadata": {},
   "outputs": [],
   "source": [
    "astro530 = reload(astro530)"
   ]
  },
  {
   "cell_type": "code",
   "execution_count": 4,
   "metadata": {},
   "outputs": [],
   "source": [
    "partition = astro530.partition"
   ]
  },
  {
   "cell_type": "code",
   "execution_count": 68,
   "metadata": {},
   "outputs": [],
   "source": [
    "from scipy.special import wofz\n",
    "def Voigt(a,u):\n",
    "    return np.real(wofz(u+1j*a))\n",
    "def Voigt_wrapper_Na(nu, T=5000*u.K, Pg=300*u.dyn/u.cm**2, uturb=0*u.km/u.s):\n",
    "    c = const.c\n",
    "    try: \n",
    "        nu = nu.to(u.Hz)\n",
    "        T = T.to(u.K)\n",
    "        Pg = Pg.to(u.Ba)\n",
    "        uturb = uturb.to(u.cm/u.s)\n",
    "    except: \n",
    "        nu = nu*u.Hz\n",
    "        T = T *u.K\n",
    "        Pg = Pg*u.Ba\n",
    "        uturb = uturb*u.cm/u.s\n",
    "    nu0 = (c/(np.array([5889.95,5895.924])*u.Angstrom)).to(u.Hz)\n",
    "    \n",
    "    delta_nu = nu0/c*np.sqrt((2*const.k_B*T/const.m_e)+uturb**2)\n",
    "    \n",
    "    Pe = Pe_calc(Pg=Pg,T=T)\n",
    "    try:\n",
    "        nu[0]\n",
    "        single_nu = False\n",
    "    except:\n",
    "        single_nu = True\n",
    "        \n",
    "    if single_nu:\n",
    "        gamma = lorentz_Na(nu, Pe=Pe,Pg=Pg,T=T)\n",
    "        eta = (nu-nu0)*c/nu0\n",
    "        u0 = (nu-nu0)/delta_nu\n",
    "        a0 = gamma/(4*np.pi*delta_nu)\n",
    "        return Voigt(a0,u0)\n",
    "    else: \n",
    "        V_list = []\n",
    "        for v in nu:\n",
    "            gamma = lorentz_Na(v, Pe=Pe, Pg=Pg,T=T)\n",
    "            eta = (v-nu0)*c/nu0\n",
    "        \n",
    "            u0 = (v-nu0)/delta_nu\n",
    "            a0 = gamma/(4*np.pi*delta_nu)\n",
    "            Vo = Voigt(a0,u0)\n",
    "            \n",
    "            V_list.append(Vo.value)\n",
    "        V_arr = np.array(V_list)*Vo.unit\n",
    "        V0 = V_arr[:,0]/(np.sqrt(2)*delta_nu[0])\n",
    "        V1 = V_arr[:,1]/(np.sqrt(2)*delta_nu[1])\n",
    "        return (np.array([V0,V1]).T*V0.unit).cgs\n",
    "def lorentz_Na(nu, Pe = 100*u.Ba, Pg = 300*u.Ba, T = 5000*u.K):\n",
    "    \n",
    "    # Radiation\n",
    "    yrad = np.array([6.16,6.14])*10**7*u.Hz\n",
    "    \n",
    "    # Gamma4\n",
    "    logC4 = np.array([-15.17,-15.33])\n",
    "    logy4 = 19+2/3*logC4+np.log10(Pe/(1*u.Ba))-5/6 * np.log10(T/(1*u.K))\n",
    "    \n",
    "    # Gamma6\n",
    "    I = 3.04*u.eV\n",
    "    chi_n = 0*u.eV#2.1*u.eV\n",
    "    chi_nu = const.h*nu\n",
    "#     print(I-chi_n-chi_nu)\n",
    "#     print(I-chi_n)\n",
    "    \n",
    "    logC6 = np.log10(0.3)-30+np.log10((1/(I-chi_n-chi_nu)**2-1/(I-chi_n)**2).cgs.value)\n",
    "    #logy6 = 20+2/5*np.log10(C6.cgs.value)+np.log(Pg/u.Ba)-7/10*np.log10(T/u.K)\n",
    "    logy6 = 20+2/5*logC6+np.log(Pg/u.Ba)-7/10*np.log10(T/u.K)\n",
    "    \n",
    "    y4 = 10**logy4\n",
    "    y6 = 10**logy6\n",
    "    #print(logy6)\n",
    "    return yrad + (y4+y6)*u.Hz\n",
    "def mono_line_ext_NA(nu, T=5000*u.K, Pg=300*u.dyn/u.cm**2, uturb=0*u.km/u.s):\n",
    "    c = const.c\n",
    "    h = const.h\n",
    "    try: \n",
    "        nu = nu.to(u.Hz)\n",
    "        T = T.to(u.K)\n",
    "        Pg = Pg.to(u.Ba)\n",
    "        uturb = uturb.to(u.cm/u.s)\n",
    "    except: \n",
    "        nu = nu*u.Hz\n",
    "        T = T *u.K\n",
    "        Pg = Pg*u.Ba\n",
    "        uturb = uturb*u.cm/u.s\n",
    "    nu0 = (c/(np.array([5889.95,5895.924])*u.Angstrom)).to(u.Hz)\n",
    "    Aul = np.array([6.16,6.14])*10**7*u.Hz\n",
    "    gu = np.array([4,2])\n",
    "    gl = np.array([2,2])\n",
    "    Bul = Aul*c**2/(2*h*nu0**3)\n",
    "    Blu = gu/gl*Bul\n",
    "    \n",
    "    #print(Blu.cgs)\n",
    "    ϕ = Voigt_wrapper_Na(nu, T=T, Pg=Pg, uturb=uturb)\n",
    "    \n",
    "    sig_0 = h*nu/(4*np.pi)*Blu[0]*ϕ[:,0]\n",
    "    sig_1 = h*nu/(4*np.pi)*Blu[1]*ϕ[:,1]\n",
    "    return (np.array([sig_0,sig_1]).T*sig_0.unit).cgs\n"
   ]
  },
  {
   "cell_type": "code",
   "execution_count": 69,
   "metadata": {},
   "outputs": [
    {
     "data": {
      "text/latex": [
       "$[[2.2506301 \\times 10^{-20},~2.2506301 \\times 10^{-20}],~\n",
       " [2.2513905 \\times 10^{-20},~2.2513905 \\times 10^{-20}],~\n",
       " [2.2551895 \\times 10^{-20},~2.2551895 \\times 10^{-20}]] \\; \\mathrm{s}$"
      ],
      "text/plain": [
       "<Quantity [[2.25063005e-20, 2.25063005e-20],\n",
       "           [2.25139053e-20, 2.25139053e-20],\n",
       "           [2.25518946e-20, 2.25518946e-20]] s>"
      ]
     },
     "execution_count": 69,
     "metadata": {},
     "output_type": "execute_result"
    }
   ],
   "source": [
    "Voigt_wrapper_Na((np.array([5889,5890,5895])*u.Angstrom).to(u.Hz,equivalencies=u.spectral()))\n"
   ]
  },
  {
   "cell_type": "code",
   "execution_count": 77,
   "metadata": {},
   "outputs": [],
   "source": [
    "nu_arr = (np.linspace(5800,6000,100)*u.Angstrom).to(u.Hz,equivalencies=u.spectral())\n",
    "sig = mono_line_ext_NA(nu_arr,T=6420*u.K,Pg=1.13e5*u.Ba)\n"
   ]
  },
  {
   "cell_type": "code",
   "execution_count": 78,
   "metadata": {},
   "outputs": [
    {
     "data": {
      "text/plain": [
       "[<matplotlib.lines.Line2D at 0x2213109ebc8>]"
      ]
     },
     "execution_count": 78,
     "metadata": {},
     "output_type": "execute_result"
    },
    {
     "data": {
      "image/png": "[encoded data removed]",
      "text/plain": [
       "<Figure size 432x288 with 1 Axes>"
      ]
     },
     "metadata": {
      "needs_background": "light"
     },
     "output_type": "display_data"
    }
   ],
   "source": [
    "plt.plot(nu_arr.to(u.Angstrom,equivalencies=u.spectral()),np.sum(sig,axis=1))"
   ]
  },
  {
   "cell_type": "code",
   "execution_count": 7,
   "metadata": {},
   "outputs": [
    {
     "data": {
      "text/latex": [
       "$5.9958492 \\times 10^{9} \\; \\mathrm{Hz}$"
      ],
      "text/plain": [
       "<Quantity 5.99584916e+09 Hz>"
      ]
     },
     "execution_count": 7,
     "metadata": {},
     "output_type": "execute_result"
    }
   ],
   "source": [
    "(5*u.cm).to(u.Hz,equivalencies=u.spectral())"
   ]
  },
  {
   "cell_type": "code",
   "execution_count": 8,
   "metadata": {},
   "outputs": [
    {
     "name": "stdout",
     "output_type": "stream",
     "text": [
      "20.332650214785453\n"
     ]
    },
    {
     "data": {
      "text/latex": [
       "$[2.1510486 \\times 10^{20},~2.1510486 \\times 10^{20}] \\; \\mathrm{Hz}$"
      ],
      "text/plain": [
       "<Quantity [2.15104856e+20, 2.15104856e+20] Hz>"
      ]
     },
     "execution_count": 8,
     "metadata": {},
     "output_type": "execute_result"
    }
   ],
   "source": [
    "lorentz_Na(5*10**14*u.Hz)"
   ]
  },
  {
   "cell_type": "code",
   "execution_count": 9,
   "metadata": {},
   "outputs": [
    {
     "data": {
      "text/latex": [
       "$5.0907193 \\times 10^{14} \\; \\mathrm{Hz}$"
      ],
      "text/plain": [
       "<Quantity 5.09071927e+14 Hz>"
      ]
     },
     "execution_count": 9,
     "metadata": {},
     "output_type": "execute_result"
    }
   ],
   "source": [
    "(const.c/(5889*u.Angstrom)).to(u.Hz)"
   ]
  },
  {
   "cell_type": "code",
   "execution_count": 49,
   "metadata": {},
   "outputs": [],
   "source": [
    "B = 1*u.s/u.g\n",
    "A = B*const.h*u.Hz**3/(const.c**2)"
   ]
  },
  {
   "cell_type": "code",
   "execution_count": 50,
   "metadata": {},
   "outputs": [
    {
     "data": {
      "text/latex": [
       "$7.3724973 \\times 10^{-41} \\; \\mathrm{\\frac{erg}{s}}$"
      ],
      "text/plain": [
       "<Quantity 7.37249732e-41 erg / s>"
      ]
     },
     "execution_count": 50,
     "metadata": {},
     "output_type": "execute_result"
    }
   ],
   "source": [
    "A.cgs"
   ]
  },
  {
   "cell_type": "code",
   "execution_count": 52,
   "metadata": {},
   "outputs": [
    {
     "data": {
      "text/latex": [
       "$10000000 \\; \\mathrm{\\frac{cm^{2}}{s}}$"
      ],
      "text/plain": [
       "<Quantity 10000000. cm2 / s>"
      ]
     },
     "execution_count": 52,
     "metadata": {},
     "output_type": "execute_result"
    }
   ],
   "source": [
    "(B*u.J).cgs"
   ]
  },
  {
   "cell_type": "code",
   "execution_count": null,
   "metadata": {},
   "outputs": [],
   "source": []
  }
 ],
 "metadata": {
  "kernelspec": {
   "display_name": "Python 3",
   "language": "python",
   "name": "python3"
  },
  "language_info": {
   "codemirror_mode": {
    "name": "ipython",
    "version": 3
   },
   "file_extension": ".py",
   "mimetype": "text/x-python",
   "name": "python",
   "nbconvert_exporter": "python",
   "pygments_lexer": "ipython3",
   "version": "3.7.4"
  }
 },
 "nbformat": 4,
 "nbformat_minor": 2
}
