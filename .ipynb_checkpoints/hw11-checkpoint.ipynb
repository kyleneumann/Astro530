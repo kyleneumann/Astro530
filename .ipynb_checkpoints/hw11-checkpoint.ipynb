{
 "cells": [
  {
   "cell_type": "code",
   "execution_count": 13,
   "metadata": {},
   "outputs": [],
   "source": [
    "from importlib import reload\n",
    "from astropy import units as u\n",
    "from astropy import constants as const\n",
    "\n",
    "import pandas as pd\n",
    "import pandas as pandas\n",
    "import numpy as np\n",
    "import matplotlib.pyplot as plt\n",
    "\n",
    "from matplotlib import ticker\n",
    "import matplotlib.colors\n",
    "import matplotlib.ticker as mticker\n",
    "\n",
    "from scipy.interpolate import UnivariateSpline\n",
    "\n",
    "from src import astro530"
   ]
  },
  {
   "cell_type": "code",
   "execution_count": 18,
   "metadata": {},
   "outputs": [],
   "source": [
    "astro530 = reload(astro530)"
   ]
  },
  {
   "cell_type": "code",
   "execution_count": 6,
   "metadata": {},
   "outputs": [
    {
     "data": {
      "text/plain": [
       "<function src.astro530.line_opacity_Na(nu, T=<Quantity 5000. K>, Pg=<Quantity 100. Ba>, uturb=<Quantity 0. km / s>, rho=<Quantity 10. g / cm3>, nH=<Quantity 1000000. 1 / cm3>, ne=<Quantity 1000000. 1 / cm3>, **kwargs)>"
      ]
     },
     "execution_count": 6,
     "metadata": {},
     "output_type": "execute_result"
    }
   ],
   "source": [
    "k_cont = astro530.k_cont\n",
    "line_opacity_Na = astro530.line_opacity_Na"
   ]
  },
  {
   "cell_type": "code",
   "execution_count": 3,
   "metadata": {},
   "outputs": [
    {
     "data": {
      "text/latex": [
       "$57.02061 \\; \\mathrm{\\frac{P}{s}}$"
      ],
      "text/plain": [
       "<Quantity 57.02061041 P / s>"
      ]
     },
     "execution_count": 3,
     "metadata": {},
     "output_type": "execute_result"
    }
   ],
   "source": [
    "(6.433e13/u.cm**3*const.k_B*6420*u.K).cgs"
   ]
  },
  {
   "cell_type": "code",
   "execution_count": 19,
   "metadata": {},
   "outputs": [],
   "source": [
    "def tau_nu(t500,nu):\n",
    "    \"\"\"\n",
    "    Calculates optical depth given τ500 and ν in Hz\n",
    "    \"\"\"\n",
    "    \n",
    "    "
   ]
  },
  {
   "cell_type": "code",
   "execution_count": 7,
   "metadata": {},
   "outputs": [
    {
     "name": "stdout",
     "output_type": "stream",
     "text": [
      "work\n"
     ]
    }
   ],
   "source": [
    "try: \n",
    "    raise ValueError(\"Break\")\n",
    "except:\n",
    "    print(\"work\")"
   ]
  },
  {
   "cell_type": "code",
   "execution_count": 20,
   "metadata": {},
   "outputs": [],
   "source": [
    "init_VAL = astro530.init_VAL"
   ]
  },
  {
   "cell_type": "code",
   "execution_count": 30,
   "metadata": {},
   "outputs": [],
   "source": [
    "def t500_parameters(t500):\n",
    "    try: \n",
    "        val_df\n",
    "    except:\n",
    "        val_df = init_VAL()\n",
    "    t500_arr = val_df.tau_500.to_numpy()\n",
    "    T_arr = val_df[\"T\"].to_numpy()\n",
    "    Pg_arr = val_df.Ptotal.to_numpy()*val_df[\"Pgas/Ptotal\"].to_numpy()\n",
    "    uturb_arr = val_df[\"V\"].to_numpy()\n",
    "    nH_arr = val_df[\"n_H\"].to_numpy()\n",
    "    ne_arr = val_df[\"n_e\"].to_numpy()\n",
    "    rho_arr = val_df[\"rho\"].to_numpy()\n",
    "    \n",
    "    T = UnivariateSpline(t500_arr,T_arr,s=0,k=2)(t500)*u.K\n",
    "    Pg = UnivariateSpline(t500_arr,Pg_arr,s=0,k=2)(t500)*u.Ba\n",
    "    uturb = UnivariateSpline(t500_arr,uturb_arr,s=0,k=2)(t500)*u.km/u.s\n",
    "    nH = UnivariateSpline(t500_arr,nH_arr,s=0,k=2)(t500)/u.cm**3\n",
    "    ne = UnivariateSpline(t500_arr,ne_arr,s=0,k=2)(t500)/u.cm**3\n",
    "    rho = UnivariateSpline(t500_arr,rho_arr,s=0,k=2)(t500)*u.g/u.cm**3\n",
    "    print(Pg)\n",
    "    df = pd.DataFrame()\n",
    "    df[\"tau_500\"] = t500\n",
    "    df[\"Pgas\"] = Pg\n",
    "    df[\"V\"] = uturb\n",
    "    df[\"n_H\"] = nH\n",
    "    df[\"n_e\"] = ne\n",
    "    df[\"rho\"] = rho\n",
    "    \n",
    "    return df"
   ]
  },
  {
   "cell_type": "code",
   "execution_count": 31,
   "metadata": {},
   "outputs": [
    {
     "name": "stdout",
     "output_type": "stream",
     "text": [
      "# h     m     tau_500     T     V     n_H     n_e     Ptotal  Pgas/Ptotal  rho\n",
      "\n",
      "# (km) (g cm )            (K)  (km/s) (cm^-3) (cm^-3) (dyn cm^-2)          (g cm^-3)\n",
      "\n",
      "85752.18461511648 Ba\n"
     ]
    },
    {
     "data": {
      "text/html": [
       "<div>\n",
       "<style scoped>\n",
       "    .dataframe tbody tr th:only-of-type {\n",
       "        vertical-align: middle;\n",
       "    }\n",
       "\n",
       "    .dataframe tbody tr th {\n",
       "        vertical-align: top;\n",
       "    }\n",
       "\n",
       "    .dataframe thead th {\n",
       "        text-align: right;\n",
       "    }\n",
       "</style>\n",
       "<table border=\"1\" class=\"dataframe\">\n",
       "  <thead>\n",
       "    <tr style=\"text-align: right;\">\n",
       "      <th></th>\n",
       "      <th>tau_500</th>\n",
       "      <th>Pgas</th>\n",
       "      <th>V</th>\n",
       "      <th>n_H</th>\n",
       "      <th>n_e</th>\n",
       "      <th>rho</th>\n",
       "    </tr>\n",
       "  </thead>\n",
       "  <tbody>\n",
       "  </tbody>\n",
       "</table>\n",
       "</div>"
      ],
      "text/plain": [
       "Empty DataFrame\n",
       "Columns: [tau_500, Pgas, V, n_H, n_e, rho]\n",
       "Index: []"
      ]
     },
     "execution_count": 31,
     "metadata": {},
     "output_type": "execute_result"
    }
   ],
   "source": [
    "t500_parameters(0.5)"
   ]
  },
  {
   "cell_type": "code",
   "execution_count": null,
   "metadata": {},
   "outputs": [],
   "source": []
  }
 ],
 "metadata": {
  "kernelspec": {
   "display_name": "Python 3",
   "language": "python",
   "name": "python3"
  },
  "language_info": {
   "codemirror_mode": {
    "name": "ipython",
    "version": 3
   },
   "file_extension": ".py",
   "mimetype": "text/x-python",
   "name": "python",
   "nbconvert_exporter": "python",
   "pygments_lexer": "ipython3",
   "version": "3.7.4"
  }
 },
 "nbformat": 4,
 "nbformat_minor": 2
}
