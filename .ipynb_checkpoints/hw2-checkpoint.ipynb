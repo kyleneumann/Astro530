{
 "cells": [
  {
   "cell_type": "markdown",
   "metadata": {},
   "source": [
    "## Homework Set #2"
   ]
  },
  {
   "cell_type": "markdown",
   "metadata": {},
   "source": [
    "### 2.  Limb darkening basics"
   ]
  },
  {
   "cell_type": "markdown",
   "metadata": {},
   "source": [
    "a) We want to expand the source function with a MacLaurin series: $S_{\\nu}(\\tau_{\\nu})=\\Sigma^{\\infty}_{n=0}a_n\\tau^{n}_{\\nu}$. We want to also find an expression for emergent intensity $I^+_{\\nu}(\\tau_{\\nu}=0,\\mu)$."
   ]
  },
  {
   "cell_type": "markdown",
   "metadata": {},
   "source": [
    "If we have $S_\\nu$, then we can say the outward intensity is $I^+_\\nu(\\tau_\\nu,\\mu) = \\int^\\infty_{\\tau_\\nu}S_\\nu(t_\\nu)e^{-\\frac{(t_\\nu-\\tau_\\nu)}{\\mu}}\\frac{d\\tau_\\nu}{\\mu}$. \n",
    "Going forwards, emergent intensity is at $\\tau_\\nu = 0$, so we have $I^+_\\nu(\\tau_\\nu = 0,\\mu) = \\int^\\infty_{0}S_\\nu(t_\\nu)e^{-\\frac{(t_\\nu)}{\\mu}}\\frac{dt_\\nu}{\\mu}$. \n",
    "Plugging in the source function, $I^+_\\nu(0,\\mu) = \\int^\\infty_{0}\\Sigma^{\\infty}_{n=0}a_n t^{n}_{\\nu}e^{-\\frac{(t_\\nu)}{\\mu}}\\frac{dt_\\nu}{\\mu} = \\Sigma^{\\infty}_{n=0}a_n\\mu^n \\int^\\infty_{0}(\\frac{t_\\nu}{\\mu})^{n}e^{-\\frac{(t_\\nu)}{\\mu}}\\frac{dt_\\nu}{\\mu} = \\Sigma^{\\infty}_{n=0}a_n\\mu^n \\int^\\infty_{0}x^{n}e^{-x}dx = \\Sigma^{\\infty}_{n=0}a_n\\mu^n n!$."
   ]
  },
  {
   "cell_type": "markdown",
   "metadata": {},
   "source": [
    "b) We want to assume the linear case where $a_n = 0$ when $n\\geq2$ and show the Eddington-Barbier value for emergent intensity."
   ]
  },
  {
   "cell_type": "markdown",
   "metadata": {},
   "source": [
    "For this assumption, we have $I^+_\\nu(0,\\mu) = \\Sigma^{\\infty}_{n=0}a_n\\mu^n n! = a_0 \\mu^0 0! + a_1\\mu^1 1! = a_0 + a_1\\mu$ which is the EB value for emergent intensity."
   ]
  },
  {
   "cell_type": "markdown",
   "metadata": {},
   "source": [
    "c) Now we want to assume that the $a_2$ value isn't zero and repeat (b)."
   ]
  },
  {
   "cell_type": "markdown",
   "metadata": {},
   "source": [
    "For $a_2\\neq0$, $I^+_\\nu(0,\\mu) = \\Sigma^{\\infty}_{n=0}a_n\\mu^n n! = a_0 \\mu^0 0! + a_1\\mu^1 1! + a_2\\mu^2 2! = a_0 + a_1 \\mu + 6 a_2\\mu^2$."
   ]
  },
  {
   "cell_type": "markdown",
   "metadata": {},
   "source": [
    "d) Assuming we measure the emergent intensities at 2 points on the sun with known $\\mu_1$ and $\\mu_2$, we want to find the source function using the EB relation."
   ]
  },
  {
   "cell_type": "markdown",
   "metadata": {},
   "source": [
    "By assuming EB, we have $S_{\\nu}(\\tau_\\nu) = a_0+a_1\\tau_\\nu$ and $I^+_\\nu(0,\\mu) = a_0 + a_1\\mu$. Looking at two spots on the Sun, we have two emergent intensities: $I^+_{\\nu,1} = a_0 + a_1\\mu_1$ and $I^+_{\\nu,2} = a_0 + a_1\\mu_2$. Solving the linear equation for $a_1$ first, we find $a_1 = \\frac{I^+_{\\nu,1}-I^+_{\\nu,2}}{\\mu_1-\\mu_2}$. Plugging this into $I^+_{\\nu,1}$ and simplifying, we find $a_0 = \\frac{I^+_{\\nu,2}\\mu_1-I^+_{\\nu,1}\\mu_2}{\\mu_1-\\mu_2}$ which makes the source function: $S_\\nu(\\tau_\\nu)=\\frac{1}{\\mu_1-\\mu_2}[I^+_{\\nu,2}\\mu_1-I^+_{\\nu,1}\\mu_2+(I^+_{\\nu,1}-I^+_{\\nu,2})\\tau_\\nu]$"
   ]
  },
  {
   "cell_type": "markdown",
   "metadata": {},
   "source": [
    "e) Assuming $a_2>0$, we want to decide if the EB approximation over or underestimates the true source function."
   ]
  },
  {
   "cell_type": "markdown",
   "metadata": {},
   "source": [
    "Assuming the real source function, $S_{\\nu,r}$, has $a_2>0$ while the EB approximation's source function, $S_{\\nu,EB}$, has $a_2=0$, we can subtract the two to find $\\Delta S_\\nu = S_{\\nu,r}-S_{\\nu,EB} = a_2\\tau^2_\\nu$. As $a_2>0$ and $\\tau_\\nu$ is real, this would imply the difference between the source functions is positive, so the EB approximation underestimates the source function in this reality. "
   ]
  },
  {
   "cell_type": "markdown",
   "metadata": {},
   "source": [
    "### I think I need to come back to this"
   ]
  },
  {
   "cell_type": "markdown",
   "metadata": {},
   "source": [
    "f) Using part (e), we want to tell how we could look at the plot of $S_{\\nu,r}(\\tau_\\nu)$ near $\\tau_\\nu=\\mu$ qualitatively and figure out which direction our EB approximation would be off."
   ]
  },
  {
   "cell_type": "markdown",
   "metadata": {},
   "source": [
    "g) We want to determine how many measurements we would need to determine the source function of the sun at some range outside of EB approximations."
   ]
  },
  {
   "cell_type": "markdown",
   "metadata": {},
   "source": [
    "Following the logic of linear algebra, for a 2x2 system of linear equations we had two unknowns and needed two measurements (four variables) to solve it. This got us two unknowns, $a_0$ and $a_1$. If we were to go to a quadratic model for the source function, we would have a 3x3 system of linear equations with three unknowns. This would thus require three measurements consisting of six known variables ($\\mu_1$, $\\mu_2$, $\\mu_3$, $I^+_{\\nu,1}$, $I^+_{\\nu,2}$, $I^+_{\\nu,3}$). This pattern would increase to whatever order we want to solve the source function to. At order n$\\rightarrow$N, we need to solve a N+1xN+1 system of linear equations consisting of N+1 measurements at N+1 different known $\\mu$."
   ]
  },
  {
   "cell_type": "markdown",
   "metadata": {},
   "source": [
    "## 3. Integrals of $B_\\nu$\n",
    "\n",
    "### a) Integrator Setup"
   ]
  },
  {
   "cell_type": "code",
   "execution_count": 1,
   "metadata": {},
   "outputs": [],
   "source": [
    "from importlib import reload\n",
    "from astropy import units as u\n",
    "from astropy import constants as const\n",
    "from astropy.modeling.models import BlackBody\n",
    "from astropy.units.equivalencies import spectral\n",
    "\n",
    "import numpy as np\n",
    "import matplotlib.pyplot as plt\n",
    "\n",
    "from src import astro530"
   ]
  },
  {
   "cell_type": "code",
   "execution_count": 2,
   "metadata": {},
   "outputs": [],
   "source": [
    "astro530 = reload(astro530)\n",
    "BoxInt = astro530.BoxInt\n",
    "Planck = astro530.Planck\n",
    "funct_BoxInt = astro530.funct_BoxInt"
   ]
  },
  {
   "cell_type": "code",
   "execution_count": 3,
   "metadata": {},
   "outputs": [
    {
     "name": "stderr",
     "output_type": "stream",
     "text": [
      "C:\\Users\\xkncr\\AppData\\Roaming\\Python\\Python37\\site-packages\\astropy\\units\\quantity.py:486: RuntimeWarning: invalid value encountered in true_divide\n",
      "  result = super().__array_ufunc__(function, method, *arrays, **kwargs)\n"
     ]
    }
   ],
   "source": [
    "max_nu = 100\n",
    "wavenum = np.linspace(0,max_nu,1000)\n",
    "\n",
    "plk = astro530.Planck(wavenum,7500)"
   ]
  },
  {
   "cell_type": "code",
   "execution_count": 4,
   "metadata": {},
   "outputs": [
    {
     "data": {
      "text/latex": [
       "$6 \\; \\mathrm{K}$"
      ],
      "text/plain": [
       "<Quantity 6. K>"
      ]
     },
     "execution_count": 4,
     "metadata": {},
     "output_type": "execute_result"
    }
   ],
   "source": [
    "BoxInt([0,1,2,3,4]*u.K,[0,1,2,3,4])"
   ]
  },
  {
   "cell_type": "code",
   "execution_count": 5,
   "metadata": {},
   "outputs": [
    {
     "data": {
      "text/latex": [
       "$0.00019049599 \\; \\mathrm{\\frac{erg}{Hz\\,s\\,sr\\,\\mu m\\,cm^{2}}}$"
      ],
      "text/plain": [
       "<Quantity 0.0001905 erg / (cm2 Hz s sr um)>"
      ]
     },
     "execution_count": 5,
     "metadata": {},
     "output_type": "execute_result"
    }
   ],
   "source": [
    "astro530.BoxInt(wavenum*u.um**-1,plk,style=\"mp\")"
   ]
  },
  {
   "cell_type": "code",
   "execution_count": 6,
   "metadata": {},
   "outputs": [
    {
     "data": {
      "text/latex": [
       "$0.00019049599 \\; \\mathrm{\\frac{erg}{Hz\\,s\\,sr\\,\\mu m\\,cm^{2}}}$"
      ],
      "text/plain": [
       "<Quantity 0.0001905 erg / (cm2 Hz s sr um)>"
      ]
     },
     "execution_count": 6,
     "metadata": {},
     "output_type": "execute_result"
    }
   ],
   "source": [
    "funct_BoxInt(0*u.um**-1,100*u.um**-1,n=1000,function=Planck,T=7500)"
   ]
  },
  {
   "cell_type": "markdown",
   "metadata": {},
   "source": [
    "### b) Determine its precision"
   ]
  },
  {
   "cell_type": "code",
   "execution_count": 7,
   "metadata": {},
   "outputs": [],
   "source": [
    "analytic_sol = astro530.Planck_Int(7500)\n",
    "calc = funct_BoxInt(0*u.um**-1,100*u.um**-1,n=1000,function=Planck,T=7500)"
   ]
  },
  {
   "cell_type": "code",
   "execution_count": 8,
   "metadata": {},
   "outputs": [],
   "source": [
    "error = abs(analytic_sol-calc)/analytic_sol"
   ]
  },
  {
   "cell_type": "code",
   "execution_count": 9,
   "metadata": {},
   "outputs": [
    {
     "data": {
      "text/latex": [
       "$8.724636 \\times 10^{-7} \\; \\mathrm{}$"
      ],
      "text/plain": [
       "<Quantity 8.72463604e-07>"
      ]
     },
     "execution_count": 9,
     "metadata": {},
     "output_type": "execute_result"
    }
   ],
   "source": [
    "error"
   ]
  },
  {
   "cell_type": "code",
   "execution_count": 10,
   "metadata": {},
   "outputs": [],
   "source": [
    "myplot_specs = {\n",
    "    'font.size' : 15,              # Larger fonts for labels, axes\n",
    "    'font.weight':'normal'\n",
    "}\n",
    "\n",
    "plt.rcParams.update(myplot_specs)"
   ]
  },
  {
   "cell_type": "code",
   "execution_count": 11,
   "metadata": {},
   "outputs": [
    {
     "data": {
      "image/png": "[encoded data removed]",
      "text/plain": [
       "<Figure size 1080x360 with 3 Axes>"
      ]
     },
     "metadata": {
      "needs_background": "light"
     },
     "output_type": "display_data"
    }
   ],
   "source": [
    "n_default = 10**4\n",
    "\n",
    "fig, (ax1, ax2, ax3) = plt.subplots(figsize = (15,5), nrows = 1, ncols = 3,squeeze=True,sharey=True)\n",
    "\n",
    "fig.tight_layout(w_pad=0)\n",
    "ax = ax1\n",
    "\n",
    "T = 7500 * u.K\n",
    "analytic_sol = astro530.Planck_Int(T)\n",
    "\n",
    "ax1.minorticks_on()\n",
    "ax1.grid(True,alpha=.5)\n",
    "\n",
    "ax1.set_xscale('log')\n",
    "ax1.set_yscale('log')\n",
    "ax1.yaxis.set_ticks_position('both')\n",
    "ax1.xaxis.set_ticks_position('both')\n",
    "\n",
    "ax1.tick_params(direction='in', axis='both',which='minor',length=3,width=1)#,labelsize=8)\n",
    "ax1.tick_params(direction='in', axis='both',which='major',length=6,width=2)#,labelsize=8)\n",
    "\n",
    "ax1.set_ylabel(\"Error Precision\")\n",
    "ax1.set_xlabel(\"Number of Steps\")\n",
    "\n",
    "ax1.set_ylim([10**-17,1.5])\n",
    "#ax1.set_title(\"Comparing the Spectral Radiance \\n of Planck Function at T = 7000 K\")\n",
    "\n",
    "#ax1.set_xlim([0,12])\n",
    "\n",
    "n_val = [1,5,10,20,30,40,50,60,70,80,100,200,300,500,1000,3000,5000,10000]\n",
    "n_val = np.logspace(0,6,30)\n",
    "#n_val = [10**3,10**6]\n",
    "#int_B = []\n",
    "error_n = []\n",
    "\n",
    "for n in n_val:\n",
    "    int_B = funct_BoxInt(0*u.um**-1,30*u.um**-1,n=n,function=Planck,T=T.value)\n",
    "    error_n.append(abs(analytic_sol-int_B)/analytic_sol)\n",
    "\n",
    "ax1.plot(n_val,error_n)\n",
    "\n",
    "ax2.minorticks_on()\n",
    "ax2.grid(True,alpha=.5)\n",
    "\n",
    "ax2.set_xscale('log')\n",
    "ax2.set_yscale('log')\n",
    "ax2.yaxis.set_ticks_position('both')\n",
    "ax2.xaxis.set_ticks_position('both')\n",
    "\n",
    "ax2.tick_params(direction='in', axis='both',which='minor',length=3,width=1)#,labelsize=8)\n",
    "ax2.tick_params(direction='in', axis='both',which='major',length=6,width=2)#,labelsize=8)\n",
    "\n",
    "#ax2.set_ylabel(\"Error Precision\")\n",
    "ax2.set_xlabel(r\"Minimun Wavenumber [$\\mu$m$^{-1}$]\")\n",
    "\n",
    "nu_min = np.logspace(-15,1,50)\n",
    "error_xmin = []\n",
    "\n",
    "for xmin in nu_min:\n",
    "    int_B = funct_BoxInt(xmin*u.um**-1,20*u.um**-1,n=n_default,function=Planck,T=T.value)\n",
    "    error_xmin.append(abs(analytic_sol-int_B)/analytic_sol)\n",
    "    \n",
    "ax2.plot(nu_min,error_xmin)\n",
    "\n",
    "ax3.minorticks_on()\n",
    "ax3.grid(True,alpha=.5)\n",
    "\n",
    "ax3.set_xscale('log')\n",
    "ax3.set_yscale('log')\n",
    "ax3.yaxis.set_ticks_position('both')\n",
    "ax3.xaxis.set_ticks_position('both')\n",
    "\n",
    "ax3.tick_params(direction='in', axis='both',which='minor',length=3,width=1)#,labelsize=8)\n",
    "ax3.tick_params(direction='in', axis='both',which='major',length=6,width=2)#,labelsize=8)\n",
    "\n",
    "#ax3.set_ylabel(\"Error Precision\")\n",
    "ax3.set_xlabel(r\"Maximum Wavenumber [$\\mu$m$^{-1}$]\")\n",
    "\n",
    "nu_max = np.logspace(0,2,50)\n",
    "error_xmax = []\n",
    "\n",
    "for xmax in nu_max:\n",
    "    int_B = funct_BoxInt(10**-16*u.um**-1,xmax*u.um**-1,n=n_default,function=Planck,T=T.value)\n",
    "    error_xmax.append(abs(analytic_sol-int_B)/analytic_sol)\n",
    "    \n",
    "ax3.plot(nu_max,error_xmax)\n",
    "\n",
    "fig.savefig(\"plots/3b.pdf\",bbox_inches='tight')"
   ]
  },
  {
   "cell_type": "code",
   "execution_count": 12,
   "metadata": {},
   "outputs": [
    {
     "data": {
      "image/png": "[encoded data removed]",
      "text/plain": [
       "<Figure size 1080x360 with 3 Axes>"
      ]
     },
     "metadata": {
      "needs_background": "light"
     },
     "output_type": "display_data"
    }
   ],
   "source": [
    "n_default = 10**4\n",
    "\n",
    "fig, (ax1, ax2, ax3) = plt.subplots(figsize = (15,5), nrows = 1, ncols = 3,squeeze=True,sharey=True)\n",
    "\n",
    "fig.tight_layout(w_pad=0)\n",
    "ax = ax1\n",
    "\n",
    "T = 7500 * u.K\n",
    "analytic_sol = astro530.Planck_Int(T)\n",
    "\n",
    "ax1.minorticks_on()\n",
    "ax1.grid(True,alpha=.5)\n",
    "\n",
    "ax1.set_xscale('log')\n",
    "ax1.set_yscale('log')\n",
    "ax1.yaxis.set_ticks_position('both')\n",
    "ax1.xaxis.set_ticks_position('both')\n",
    "\n",
    "ax1.tick_params(direction='in', axis='both',which='minor',length=3,width=1)#,labelsize=8)\n",
    "ax1.tick_params(direction='in', axis='both',which='major',length=6,width=2)#,labelsize=8)\n",
    "\n",
    "ax1.set_ylabel(\"Error Precision\")\n",
    "ax1.set_xlabel(\"Number of Steps\")\n",
    "#ax1.set_title(\"Comparing the Spectral Radiance \\n of Planck Function at T = 7000 K\")\n",
    "\n",
    "#ax1.set_xlim([0,12])\n",
    "\n",
    "n_val = [1,5,10,20,30,40,50,60,70,80,100,200,300,500,1000,3000,5000,10000]\n",
    "n_val = np.logspace(0,6,50)\n",
    "#n_val = [10**5]\n",
    "#int_B = []\n",
    "error_n = []\n",
    "\n",
    "for n in n_val:\n",
    "    int_B = funct_BoxInt(10**-16*u.um**-1,30*u.um**-1,n=n,function=Planck,T=T.value)+0.1*analytic_sol\n",
    "    error_n.append(abs(analytic_sol-int_B)/analytic_sol)\n",
    "\n",
    "ax1.plot(n_val,error_n)\n",
    "\n",
    "ax2.minorticks_on()\n",
    "ax2.grid(True,alpha=.5)\n",
    "\n",
    "ax2.set_xscale('log')\n",
    "ax2.set_yscale('log')\n",
    "ax2.yaxis.set_ticks_position('both')\n",
    "ax2.xaxis.set_ticks_position('both')\n",
    "\n",
    "ax2.tick_params(direction='in', axis='both',which='minor',length=3,width=1)#,labelsize=8)\n",
    "ax2.tick_params(direction='in', axis='both',which='major',length=6,width=2)#,labelsize=8)\n",
    "\n",
    "#ax2.set_ylabel(\"Error Precision\")\n",
    "ax2.set_xlabel(r\"Minimun Wavenumber [$\\mu$m$^{-1}$]\")\n",
    "\n",
    "nu_min = np.logspace(-15,1,50)\n",
    "error_xmin = []\n",
    "\n",
    "for xmin in nu_min:\n",
    "    int_B = funct_BoxInt(xmin*u.um**-1,20*u.um**-1,n=n_default,function=Planck,T=T.value)+0.1*analytic_sol\n",
    "    error_xmin.append(abs(analytic_sol-int_B)/analytic_sol)\n",
    "    \n",
    "ax2.plot(nu_min,error_xmin)\n",
    "\n",
    "ax3.minorticks_on()\n",
    "ax3.grid(True,alpha=.5)\n",
    "\n",
    "ax3.set_xscale('log')\n",
    "ax3.set_yscale('log')\n",
    "ax3.yaxis.set_ticks_position('both')\n",
    "ax3.xaxis.set_ticks_position('both')\n",
    "\n",
    "ax3.tick_params(direction='in', axis='both',which='minor',length=3,width=1)#,labelsize=8)\n",
    "ax3.tick_params(direction='in', axis='both',which='major',length=6,width=2)#,labelsize=8)\n",
    "\n",
    "#ax3.set_ylabel(\"Error Precision\")\n",
    "ax3.set_xlabel(r\"Maximum Wavenumber [$\\mu$m$^{-1}$]\")\n",
    "\n",
    "nu_max = np.logspace(0,2,50)\n",
    "error_xmax = []\n",
    "\n",
    "for xmax in nu_max:\n",
    "    int_B = funct_BoxInt(10**-16*u.um**-1,xmax*u.um**-1,n=n_default,function=Planck,T=T.value)+0.1*analytic_sol\n",
    "    error_xmax.append(abs(analytic_sol-int_B)/analytic_sol)\n",
    "    \n",
    "ax3.plot(nu_max,error_xmax)\n",
    "\n",
    "fig.savefig('plots/3c.pdf',bbox_inches='tight')"
   ]
  },
  {
   "cell_type": "code",
   "execution_count": 13,
   "metadata": {},
   "outputs": [
    {
     "data": {
      "text/plain": [
       "14.0"
      ]
     },
     "execution_count": 13,
     "metadata": {},
     "output_type": "execute_result"
    }
   ],
   "source": [
    "a = np.array([0,1,2,3]*u.K)\n",
    "b = np.array([0,1,2,3]*u.erg)\n",
    "np.sum(a*b)"
   ]
  },
  {
   "cell_type": "code",
   "execution_count": 14,
   "metadata": {},
   "outputs": [
    {
     "data": {
      "text/plain": [
       "array([0., 1., 4., 9.])"
      ]
     },
     "execution_count": 14,
     "metadata": {},
     "output_type": "execute_result"
    }
   ],
   "source": [
    "a*a"
   ]
  },
  {
   "cell_type": "code",
   "execution_count": null,
   "metadata": {},
   "outputs": [],
   "source": []
  },
  {
   "cell_type": "code",
   "execution_count": 15,
   "metadata": {},
   "outputs": [
    {
     "data": {
      "text/latex": [
       "$\\mathrm{}$"
      ],
      "text/plain": [
       "Unit(dimensionless)"
      ]
     },
     "execution_count": 15,
     "metadata": {},
     "output_type": "execute_result"
    }
   ],
   "source": [
    "(a * u.g/u.g).unit"
   ]
  },
  {
   "cell_type": "code",
   "execution_count": null,
   "metadata": {},
   "outputs": [],
   "source": []
  }
 ],
 "metadata": {
  "kernelspec": {
   "display_name": "Python 3",
   "language": "python",
   "name": "python3"
  },
  "language_info": {
   "codemirror_mode": {
    "name": "ipython",
    "version": 3
   },
   "file_extension": ".py",
   "mimetype": "text/x-python",
   "name": "python",
   "nbconvert_exporter": "python",
   "pygments_lexer": "ipython3",
   "version": "3.7.4"
  }
 },
 "nbformat": 4,
 "nbformat_minor": 2
}
