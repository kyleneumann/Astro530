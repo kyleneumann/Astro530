{
 "cells": [
  {
   "cell_type": "code",
   "execution_count": 1,
   "id": "0d473072",
   "metadata": {},
   "outputs": [],
   "source": [
    "from importlib import reload\n",
    "from astropy import units as u\n",
    "from astropy import constants as const\n",
    "from astropy.modeling.models import BlackBody\n",
    "from astropy.units.equivalencies import spectral\n",
    "\n",
    "import numpy as np\n",
    "import matplotlib.pyplot as plt\n",
    "\n",
    "from src import astro530\n",
    "from src import N_integrator"
   ]
  },
  {
   "cell_type": "code",
   "execution_count": 2,
   "id": "d3404fdd",
   "metadata": {},
   "outputs": [],
   "source": [
    "astro530 = reload(astro530)"
   ]
  },
  {
   "cell_type": "code",
   "execution_count": 3,
   "id": "10930f5e",
   "metadata": {},
   "outputs": [],
   "source": [
    "Planck = astro530.Planck\n",
    "BoxInt = N_integrator.BoxInt\n",
    "funct_BoxInt = N_integrator.funct_BoxInt"
   ]
  },
  {
   "cell_type": "markdown",
   "id": "44ceecfd",
   "metadata": {},
   "source": [
    "## 4) Emergent Intensity Integrator"
   ]
  },
  {
   "cell_type": "markdown",
   "id": "df3752eb",
   "metadata": {},
   "source": [
    "### a) Integrate the quadratic and EB source function numerically\n",
    "Illustrate your answer to Problem 2 (from last week) by numerically integrating the\n",
    "radial emergent intensity (I+\n",
    "ν (0, μ = 1)) from a quadratic source function. That is, use\n",
    "plots (and perhaps tables) to show that the Eddington-Barbier approximation holds (i.e.\n",
    "its prediction for the value of Sν (τν = 1) is valid) for a linear source function, and that\n",
    "quadratic terms have the effects you derived in Problem 1."
   ]
  },
  {
   "cell_type": "markdown",
   "id": "3bb4eb17",
   "metadata": {},
   "source": [
    "$I^+_\\nu(0,\\mu)=\\sum^\\infty_{n=0}a_n\\mu^n\\int^\\infty_0x^n e^{-x}dx = a_0\\int^\\infty_0e^{-x}dx + a_1\\mu\\int^\\infty_0xe^{-x}dx+a_2\\mu^2\\int^\\infty_0x^2e^{-x}dx$"
   ]
  },
  {
   "cell_type": "code",
   "execution_count": 5,
   "id": "047a0414",
   "metadata": {},
   "outputs": [
    {
     "data": {
      "text/latex": [
       "$2 \\; \\mathrm{}$"
      ],
      "text/plain": [
       "<Quantity 2.>"
      ]
     },
     "execution_count": 5,
     "metadata": {},
     "output_type": "execute_result"
    }
   ],
   "source": [
    "funct_BoxInt(0,2,m=0,b=1)"
   ]
  },
  {
   "cell_type": "code",
   "execution_count": 6,
   "id": "fa66c69a",
   "metadata": {},
   "outputs": [],
   "source": [
    "def zero_term(x):\n",
    "    return np.exp(-x)\n",
    "def first_term(x):\n",
    "    return x*np.exp(-x)\n",
    "def second_term(x):\n",
    "    return x**2*np.exp(-x)"
   ]
  },
  {
   "cell_type": "code",
   "execution_count": 21,
   "id": "dae2c5f1",
   "metadata": {},
   "outputs": [
    {
     "name": "stdout",
     "output_type": "stream",
     "text": [
      "Source function: S_v = a0 + a1 τ_v + a2 τ^2_v\n",
      "Emergent Intensity: I+(0,mu) = a0 1.0000000833334985 + a1 mu 0.9999999166665042 + a2 mu^2 1.9999999999999916\n"
     ]
    }
   ],
   "source": [
    "n_den = 1000\n",
    "xmin = 0\n",
    "xmax = 1000\n",
    "\n",
    "n_0 = funct_BoxInt(xmin,xmax,n_den = n_den, function=zero_term)\n",
    "n_1 = funct_BoxInt(xmin,xmax,n_den = n_den, function=first_term)\n",
    "n_2 = funct_BoxInt(xmin,xmax,n_den = n_den, function=second_term)\n",
    "\n",
    "print(\"Source function: S_v = a0 + a1 τ_v + a2 τ^2_v\") \n",
    "print(\"Emergent Intensity: I+(0,mu) = a0\",n_0,\"+ a1 mu\",n_1,\"+ a2 mu^2\",n_2)"
   ]
  },
  {
   "cell_type": "markdown",
   "id": "58d28f97",
   "metadata": {},
   "source": [
    "At $\\mu=1$, the emergent intensity is $I^+_\\nu(0,\\mu=1) \\approx a_0 + a_1 + 2 a_2$."
   ]
  },
  {
   "cell_type": "code",
   "execution_count": 22,
   "id": "d2406bb4",
   "metadata": {},
   "outputs": [
    {
     "name": "stdout",
     "output_type": "stream",
     "text": [
      "Source function: S_v = a0 + a1 τ_v + a2 τ^2_v\n",
      "Emergent Intensity: I+(τ_v=1,mu) = a0 0.36787947182812325 + a1 mu 0.7357588823428858 + a2 mu^2 1.8393971752005296\n"
     ]
    }
   ],
   "source": [
    "n_den = 1000\n",
    "xmin = 1\n",
    "xmax = 1000\n",
    "\n",
    "n_0 = funct_BoxInt(xmin,xmax,n_den = n_den, function=zero_term)\n",
    "n_1 = funct_BoxInt(xmin,xmax,n_den = n_den, function=first_term)\n",
    "n_2 = funct_BoxInt(xmin,xmax,n_den = n_den, function=second_term)\n",
    "\n",
    "print(\"Source function: S_v = a0 + a1 τ_v + a2 τ^2_v\") \n",
    "print(\"Emergent Intensity: I+(τ_v=1,mu) = a0\",n_0,\"+ a1 mu\",n_1,\"+ a2 mu^2\",n_2)"
   ]
  },
  {
   "cell_type": "code",
   "execution_count": null,
   "id": "abeb8bfc",
   "metadata": {},
   "outputs": [],
   "source": []
  }
 ],
 "metadata": {
  "kernelspec": {
   "display_name": "Python 3 (ipykernel)",
   "language": "python",
   "name": "python3"
  },
  "language_info": {
   "codemirror_mode": {
    "name": "ipython",
    "version": 3
   },
   "file_extension": ".py",
   "mimetype": "text/x-python",
   "name": "python",
   "nbconvert_exporter": "python",
   "pygments_lexer": "ipython3",
   "version": "3.11.5"
  }
 },
 "nbformat": 4,
 "nbformat_minor": 5
}
