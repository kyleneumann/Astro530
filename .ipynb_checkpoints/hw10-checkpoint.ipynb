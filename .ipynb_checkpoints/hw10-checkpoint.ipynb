{
 "cells": [
  {
   "cell_type": "code",
   "execution_count": 1,
   "metadata": {},
   "outputs": [],
   "source": [
    "from importlib import reload\n",
    "from astropy import units as u\n",
    "from astropy import constants as const\n",
    "\n",
    "import pandas as pd\n",
    "import pandas as pandas\n",
    "import numpy as np\n",
    "import matplotlib.pyplot as plt\n",
    "\n",
    "from matplotlib import ticker\n",
    "import matplotlib.colors\n",
    "import matplotlib.ticker as mticker\n",
    "\n",
    "from scipy.interpolate import UnivariateSpline\n",
    "\n",
    "from src import astro530"
   ]
  },
  {
   "cell_type": "code",
   "execution_count": 2,
   "metadata": {},
   "outputs": [],
   "source": [
    "saha_LTE = astro530.saha_LTE\n",
    "Pe_calc = astro530.Pe_calc"
   ]
  },
  {
   "cell_type": "code",
   "execution_count": 3,
   "metadata": {},
   "outputs": [],
   "source": [
    "astro530 = reload(astro530)"
   ]
  },
  {
   "cell_type": "code",
   "execution_count": 4,
   "metadata": {},
   "outputs": [],
   "source": [
    "partition = astro530.partition\n",
    "find_Abundance = astro530.find_Abundance"
   ]
  },
  {
   "cell_type": "code",
   "execution_count": 5,
   "metadata": {},
   "outputs": [
    {
     "data": {
      "text/plain": [
       "1423.708485837703"
      ]
     },
     "execution_count": 5,
     "metadata": {},
     "output_type": "execute_result"
    }
   ],
   "source": [
    "saha_LTE(species=\"Na\",temp=6420*u.K,Pe=55*u.Ba)"
   ]
  },
  {
   "cell_type": "code",
   "execution_count": 6,
   "metadata": {},
   "outputs": [],
   "source": [
    "from scipy.special import wofz\n",
    "m_Na = 22.9897*u.g/u.mol/const.N_A\n",
    "def Voigt(a,u):\n",
    "    return np.real(wofz(u+1j*a))\n",
    "def Voigt_wrapper_Na(nu, T=5000*u.K, Pg=300*u.dyn/u.cm**2, uturb=0*u.km/u.s, n_e = 10**6/u.cm**3,ideal_gas = False):\n",
    "    c = const.c\n",
    "    try: \n",
    "        nu = nu.to(u.Hz)\n",
    "        T = T.to(u.K)\n",
    "        Pg = Pg.to(u.Ba)\n",
    "        uturb = uturb.to(u.cm/u.s)\n",
    "    except: \n",
    "        nu = nu*u.Hz\n",
    "        T = T *u.K\n",
    "        Pg = Pg*u.Ba\n",
    "        uturb = uturb*u.cm/u.s\n",
    "    nu0 = (np.array([5889.95,5895.924])*u.Angstrom).to(u.Hz,equivalencies=u.spectral())\n",
    "    \n",
    "    delta_nu = nu0/c*np.sqrt((2*const.k_B*T/m_Na)+uturb**2)\n",
    "    \n",
    "    if ideal_gas:\n",
    "        Pe = n_e*const.k_B*T\n",
    "    else:\n",
    "        Pe = Pe_calc(Pg=Pg,T=T)\n",
    "    try:\n",
    "        nu[0]\n",
    "        single_nu = False\n",
    "    except:\n",
    "        single_nu = True\n",
    "        \n",
    "    if single_nu:\n",
    "        gamma = lorentz_Na(nu, Pe=Pe,Pg=Pg,T=T)\n",
    "        #eta = (nu-nu0)*c/nu0\n",
    "        print(\"delta_nu =\",delta_nu.cgs)\n",
    "        u0 = (nu-nu0)/delta_nu\n",
    "        a0 = gamma/(4*np.pi*delta_nu)\n",
    "        print(\"u =\",u0.cgs)\n",
    "        print(\"a =\",a0.cgs)\n",
    "        return Voigt(a0,u0)/(np.sqrt(np.pi)*delta_nu)\n",
    "    else: \n",
    "        V_list = []\n",
    "        for v in nu:\n",
    "            gamma = lorentz_Na(v, Pe=Pe, Pg=Pg,T=T)\n",
    "            #eta = (v-nu0)*c/nu0\n",
    "        \n",
    "            u0 = (v-nu0)/delta_nu\n",
    "            a0 = gamma/(4*np.pi*delta_nu)\n",
    "            Vo = Voigt(a0,u0)\n",
    "            \n",
    "            V_list.append(Vo.value)\n",
    "        V_arr = np.array(V_list)*Vo.unit\n",
    "        #return V_arr.cgs\n",
    "        V0 = V_arr[:,0]/(np.sqrt(np.pi)*delta_nu[0])\n",
    "        V1 = V_arr[:,1]/(np.sqrt(np.pi)*delta_nu[1])\n",
    "        return (np.array([V0,V1]).T*V0.unit).cgs\n",
    "def lorentz_Na(nu, Pe = 100*u.Ba, Pg = 300*u.Ba, T = 5000*u.K):\n",
    "    nu0 = (np.array([5889.95,5895.924])*u.Angstrom).to(u.Hz,equivalencies=u.spectral())\n",
    "    \n",
    "    # Radiation\n",
    "    yrad = 4*np.pi *np.array([6.16,6.14])*10**7*u.Hz\n",
    "    \n",
    "    # Gamma4\n",
    "    logC4 = np.array([-15.17,-15.33])\n",
    "    logy4 = 19+2/3*logC4+np.log10(Pe/(1*u.Ba))-5/6 * np.log10(T/(1*u.K))\n",
    "    \n",
    "    # Gamma6\n",
    "    I = 5.17*u.eV\n",
    "    chi_n = 0*u.eV#2.1*u.eV\n",
    "    chi_nu = const.h*nu0#nu\n",
    "#     print(I-chi_n-chi_nu)\n",
    "#     print(I-chi_n)\n",
    "    \n",
    "    logC6 = np.log10(0.3)-30+np.log10(((1/(I-chi_n-chi_nu)**2-1/(I-chi_n)**2).to(1/u.eV**2)).value)\n",
    "    #print(logC6)\n",
    "    #logy6 = 20+2/5*np.log10(C6.cgs.value)+np.log(Pg/u.Ba)-7/10*np.log10(T/u.K)\n",
    "    logy6 = 20+2/5*logC6+np.log10(Pg/u.Ba)-7/10*np.log10(T/u.K)\n",
    "    \n",
    "    y4 = 10**logy4\n",
    "    y6 = 10**logy6\n",
    "    \n",
    "#     print(\"logy4 =\",logy4)\n",
    "#     print(\"logy6 =\",logy6)\n",
    "    return yrad + (y4+y6)*u.Hz\n",
    "def mono_line_ext_NA(nu, T=5000*u.K, Pg=300*u.dyn/u.cm**2, uturb=0*u.km/u.s,**kwargs):\n",
    "    c = const.c\n",
    "    h = const.h\n",
    "    try: \n",
    "        nu = nu.to(u.Hz)\n",
    "        T = T.to(u.K)\n",
    "        Pg = Pg.to(u.Ba)\n",
    "        uturb = uturb.to(u.cm/u.s)\n",
    "    except: \n",
    "        nu = nu*u.Hz\n",
    "        T = T *u.K\n",
    "        Pg = Pg*u.Ba\n",
    "        uturb = uturb*u.cm/u.s\n",
    "    nu0 = (np.array([5889.95,5895.924])*u.Angstrom).to(u.Hz,equivalencies=u.spectral())\n",
    "    Aul = np.array([6.16,6.14])*10**7*u.Hz\n",
    "    gu = np.array([4,2])\n",
    "    gl = np.array([2,2])\n",
    "    Bul = Aul*c**2/(2*h*nu0**3)\n",
    "    Blu = gu/gl*Bul\n",
    "    delta_nu = nu0/c*np.sqrt((2*const.k_B*T/m_Na)+uturb**2)\n",
    "    #print(Blu.cgs)\n",
    "    ϕ = Voigt_wrapper_Na(nu, T=T, Pg=Pg, uturb=uturb,**kwargs)\n",
    "#     print(ϕ)\n",
    "#     print(ϕ*np.sqrt(np.pi)*delta_nu)\n",
    "    #print(np.sqrt(np.pi)*delta_nu*ϕ)\n",
    "    print(\"Δλ_D:\", (c*delta_nu/(nu0)**2).to(u.AA))\n",
    "    try:\n",
    "        sig_0 = h*nu/(4*np.pi)*Blu[0]*ϕ[:,0]\n",
    "        sig_1 = h*nu/(4*np.pi)*Blu[1]*ϕ[:,1]\n",
    "        return 4*np.pi*(np.array([sig_0,sig_1]).T*sig_0.unit).cgs\n",
    "    except:\n",
    "        return (h*nu*Blu*ϕ).cgs\n"
   ]
  },
  {
   "cell_type": "code",
   "execution_count": 7,
   "metadata": {},
   "outputs": [
    {
     "data": {
      "text/latex": [
       "$1.6726219 \\times 10^{-24} \\; \\mathrm{g}$"
      ],
      "text/plain": [
       "<Quantity 1.67262192e-24 g>"
      ]
     },
     "execution_count": 7,
     "metadata": {},
     "output_type": "execute_result"
    }
   ],
   "source": [
    "const.m_p.cgs"
   ]
  },
  {
   "cell_type": "code",
   "execution_count": 8,
   "metadata": {},
   "outputs": [
    {
     "data": {
      "text/latex": [
       "$[6.0151138 \\times 10^{9},~6.0017078 \\times 10^{9}] \\; \\mathrm{Hz}$"
      ],
      "text/plain": [
       "<Quantity [6.01511382e+09, 6.00170779e+09] Hz>"
      ]
     },
     "execution_count": 8,
     "metadata": {},
     "output_type": "execute_result"
    }
   ],
   "source": [
    "lorentz_Na((5890*u.Angstrom).to(u.Hz,equivalencies=u.spectral()), T=6420*u.K, Pe=57*u.Ba, Pg=1.137e5*u.Ba)"
   ]
  },
  {
   "cell_type": "code",
   "execution_count": 9,
   "metadata": {},
   "outputs": [
    {
     "data": {
      "text/latex": [
       "$[[2.4450071 \\times 10^{-18},~2.1495521 \\times 10^{-18}]] \\; \\mathrm{s}$"
      ],
      "text/plain": [
       "<Quantity [[2.44500714e-18, 2.14955209e-18]] s>"
      ]
     },
     "execution_count": 9,
     "metadata": {},
     "output_type": "execute_result"
    }
   ],
   "source": [
    "Voigt_wrapper_Na((np.array([5800])*u.Angstrom).to(u.Hz,equivalencies=u.spectral()), T=6420*u.K, Pg=1.137e5*u.Ba)\n"
   ]
  },
  {
   "cell_type": "code",
   "execution_count": 10,
   "metadata": {},
   "outputs": [
    {
     "name": "stdout",
     "output_type": "stream",
     "text": [
      "delta_nu = [4.55687132e+09 4.55225411e+09] 1 / s\n",
      "u = [-114.61467563   -1.43978766]\n",
      "a = [0.10503345 0.10490772]\n",
      "Δλ_D: [0.0527314  0.05278488] Angstrom\n"
     ]
    },
    {
     "data": {
      "text/latex": [
       "$[1.1924436 \\times 10^{-16},~2.052252 \\times 10^{-12}] \\; \\mathrm{cm^{2}}$"
      ],
      "text/plain": [
       "<Quantity [1.19244357e-16, 2.05225198e-12] cm2>"
      ]
     },
     "execution_count": 10,
     "metadata": {},
     "output_type": "execute_result"
    }
   ],
   "source": [
    "mono_line_ext_NA((5896*u.Angstrom).to(u.Hz,equivalencies=u.spectral()),T=6420*u.K,Pg=1.137e5*u.Ba,uturb=1.6*u.km/u.s)"
   ]
  },
  {
   "cell_type": "code",
   "execution_count": 11,
   "metadata": {},
   "outputs": [
    {
     "data": {
      "text/latex": [
       "$5.1688355 \\times 10^{14} \\; \\mathrm{Hz}$"
      ],
      "text/plain": [
       "<Quantity 5.16883548e+14 Hz>"
      ]
     },
     "execution_count": 11,
     "metadata": {},
     "output_type": "execute_result"
    }
   ],
   "source": [
    "(5800*u.Angstrom).to(u.Hz,equivalencies=u.spectral())"
   ]
  },
  {
   "cell_type": "code",
   "execution_count": 12,
   "metadata": {},
   "outputs": [
    {
     "name": "stdout",
     "output_type": "stream",
     "text": [
      "Δλ_D: [0.04233737 0.04238031] Angstrom\n"
     ]
    }
   ],
   "source": [
    "nu_arr = (np.linspace(5840,5940,2000)*u.Angstrom).to(u.Hz,equivalencies=u.spectral())\n",
    "lam_arr = nu_arr.to(u.AA,equivalencies=u.spectral())\n",
    "sig = mono_line_ext_NA(nu_arr,T=6420*u.K,Pg=1.137e5*u.Ba,uturb=0*u.km/u.s)\n"
   ]
  },
  {
   "cell_type": "code",
   "execution_count": 13,
   "metadata": {},
   "outputs": [
    {
     "data": {
      "image/png": "[encoded data removed]",
      "text/plain": [
       "<Figure size 432x288 with 1 Axes>"
      ]
     },
     "metadata": {
      "needs_background": "light"
     },
     "output_type": "display_data"
    }
   ],
   "source": [
    "fig, ax = plt.subplots(figsize = (6,4), nrows = 1, ncols = 1)\n",
    "fig.tight_layout(h_pad=-.5)\n",
    "\n",
    "    \n",
    "ax.yaxis.set_ticks_position('both')\n",
    "ax.xaxis.set_ticks_position('both')\n",
    "ax.minorticks_on()\n",
    "ax.grid(True,alpha=.3)\n",
    "\n",
    "ax.tick_params(direction='in', axis='both',which='minor',length=3,width=1)#,labelsize=8)\n",
    "ax.tick_params(direction='in',axis='both',which='major',length=6,width=2)#,labelsize=8)\n",
    "\n",
    "ax.set_yscale(\"log\")\n",
    "\n",
    "ax.plot(lam_arr,sig[:,0],label=r\"$\\lambda_{\\mathrm{Na~I}}=5890~\\AA$\")\n",
    "ax.plot(lam_arr,sig[:,1],label=r\"$\\lambda_{\\mathrm{Na~I}}=5896~\\AA$\")\n",
    "ax.plot(lam_arr,np.sum(sig,axis=1), label = \"Sum\")\n",
    "\n",
    "ax.set_ylabel(r\"$\\sigma^l_\\nu~$(cm$^2$)\")\n",
    "ax.set_xlabel(r\"Wavelength ($\\AA$)\")\n",
    "\n",
    "ax.legend()\n",
    "\n",
    "output_file = \"plots/20.pdf\"\n",
    "\n",
    "fig.savefig(output_file,bbox_inches='tight')"
   ]
  },
  {
   "cell_type": "code",
   "execution_count": 14,
   "metadata": {},
   "outputs": [
    {
     "name": "stdout",
     "output_type": "stream",
     "text": [
      "Δλ_D: [0.04233737 0.04238031] Angstrom\n",
      "Δλ_D: [1.96513196 1.96712513] Angstrom\n"
     ]
    },
    {
     "data": {
      "image/png": "[encoded data removed]",
      "text/plain": [
       "<Figure size 432x288 with 1 Axes>"
      ]
     },
     "metadata": {
      "needs_background": "light"
     },
     "output_type": "display_data"
    }
   ],
   "source": [
    "fig, ax = plt.subplots(figsize = (6,4), nrows = 1, ncols = 1)\n",
    "fig.tight_layout(h_pad=-.5)\n",
    "utr = [0,100]\n",
    "ls_a = [\"-\",\"--\"]\n",
    "\n",
    "ax.yaxis.set_ticks_position('both')\n",
    "ax.xaxis.set_ticks_position('both')\n",
    "ax.minorticks_on()\n",
    "ax.grid(True,alpha=.3)\n",
    "\n",
    "ax.tick_params(direction='in', axis='both',which='minor',length=3,width=1)#,labelsize=8)\n",
    "ax.tick_params(direction='in',axis='both',which='major',length=6,width=2)#,labelsize=8)\n",
    "\n",
    "ax.set_yscale(\"log\")\n",
    "\n",
    "sig = mono_line_ext_NA(nu_arr,T=6420*u.K,Pg=1.137e5*u.Ba,uturb=utr[0]*u.km/u.s)\n",
    "\n",
    "ax.plot(lam_arr,sig[:,0],label=r\"$\\lambda_{\\mathrm{Na~I}}=5890~\\AA$\",ls = \"-\",c=\"C0\")\n",
    "ax.plot(lam_arr,sig[:,1],label=r\"$\\lambda_{\\mathrm{Na~I}}=5896~\\AA$\",ls = \"-\",c=\"C1\")\n",
    "ax.plot(lam_arr,np.sum(sig,axis=1), label = \"Sum\",ls = ls_a[0],c=\"C2\",alpha=.7)\n",
    "\n",
    "sig = mono_line_ext_NA(nu_arr,T=6420*u.K,Pg=1.137e5*u.Ba,uturb=utr[1]*u.km/u.s)\n",
    "\n",
    "ax.plot(lam_arr,sig[:,0],ls = \"--\",c=\"C0\")\n",
    "ax.plot(lam_arr,sig[:,1],ls = \"--\",c=\"C1\")\n",
    "ax.plot(lam_arr,np.sum(sig,axis=1),ls = ls_a[1],c=\"C2\",alpha=.7)\n",
    "\n",
    "ax.set_ylabel(r\"$\\sigma^l_\\nu~$(cm$^2$)\")\n",
    "ax.set_xlabel(r\"Wavelength ($\\AA$)\")\n",
    "\n",
    "ax.legend()\n",
    "\n",
    "output_file = \"plots/20b.pdf\"\n",
    "\n",
    "fig.savefig(output_file,bbox_inches='tight')"
   ]
  },
  {
   "cell_type": "code",
   "execution_count": 15,
   "metadata": {},
   "outputs": [
    {
     "name": "stdout",
     "output_type": "stream",
     "text": [
      "Δλ_D: [0.04233737 0.04238031] Angstrom\n"
     ]
    },
    {
     "data": {
      "text/latex": [
       "$[[2.3452757 \\times 10^{11},~1617872.8]] \\; \\mathrm{\\frac{cm^{2}}{g}}$"
      ],
      "text/plain": [
       "<Quantity [[2.34527573e+11, 1.61787284e+06]] cm2 / g>"
      ]
     },
     "execution_count": 15,
     "metadata": {},
     "output_type": "execute_result"
    }
   ],
   "source": [
    "mono_line_ext_NA((np.array([5890])*u.Angstrom).to(u.Hz,equivalencies=u.spectral()),T=6420*u.K,Pg=1.13e5*u.Ba,uturb=0*u.km/u.s)/(22.9897*u.g/u.mol/const.N_A)\n"
   ]
  },
  {
   "cell_type": "code",
   "execution_count": 16,
   "metadata": {},
   "outputs": [],
   "source": [
    "def line_opacity_Na(nu,T=5000*u.K,Pg=100*u.Ba,uturb=0*u.km/u.s,rho = 10*u.g/u.cm**3,nH = 10**6/u.cm**3,**kwargs):\n",
    "    σ = mono_line_ext_NA(nu,T=T,Pg=Pg,uturb=uturb,**kwargs)\n",
    "    A = find_Abundance(\"Na\")\n",
    "    Pe = 57*u.Ba#Pe_calc(T=T,Pg=Pg)\n",
    "    fe = .86#2/partition(species=\"Na\",temp=T.value)\n",
    "    fi = 6.52e-4#1/(1+saha_LTE(species=\"Na\",temp=T,Pe = Pe))\n",
    "    spectral_emission = .9777#(1-np.exp(-const.h*(np.array([5890,5896])*u.Angstrom).to(u.Hz,equivalencies=u.spectral())/(const.k_B*T)))\n",
    "    \n",
    "    print(\"fe =\",fe)\n",
    "    print(\"fi =\",fi)\n",
    "    print(\"SEF =\", spectral_emission)\n",
    "    \n",
    "    try:\n",
    "        kappa_list = []\n",
    "        for s in σ:\n",
    "            kappa_list.append(s*A*nH/rho*fi*fe*spectral_emission)\n",
    "        return np.array(kappa_list)*kappa_list[0].unit\n",
    "        \n",
    "    except:\n",
    "        return σ*A*nH/rho*fi*fe*spectral_emission"
   ]
  },
  {
   "cell_type": "code",
   "execution_count": 17,
   "metadata": {},
   "outputs": [
    {
     "name": "stdout",
     "output_type": "stream",
     "text": [
      "Δλ_D: [0.0527314  0.05278488] Angstrom\n",
      "fe = 0.86\n",
      "fi = 0.000652\n",
      "SEF = 0.9777\n"
     ]
    },
    {
     "data": {
      "text/latex": [
       "$[[5398.9798,~0.031149833],~\n",
       " [0.23531579,~0.12797102],~\n",
       " [0.059815906,~1029.4601]] \\; \\mathrm{\\frac{cm^{2}}{g}}$"
      ],
      "text/plain": [
       "<Quantity [[5.39897980e+03, 3.11498328e-02],\n",
       "           [2.35315795e-01, 1.27971020e-01],\n",
       "           [5.98159057e-02, 1.02946013e+03]] cm2 / g>"
      ]
     },
     "execution_count": 17,
     "metadata": {},
     "output_type": "execute_result"
    }
   ],
   "source": [
    "line_opacity_Na(([5890,5893,5896]*u.Angstrom).to(u.Hz,equivalencies=u.spectral()),\n",
    "                T=6420*u.K,Pg=1.137e5*u.Ba,rho=2.727e-7*u.g/u.cm**3,nH=1.166e17/u.cm**3,uturb=1.6*u.km/u.s)"
   ]
  },
  {
   "cell_type": "code",
   "execution_count": 18,
   "metadata": {},
   "outputs": [
    {
     "name": "stdout",
     "output_type": "stream",
     "text": [
      "Δλ_D: [0.0527314  0.05278488] Angstrom\n",
      "fe = 0.86\n",
      "fi = 0.000652\n",
      "SEF = 0.9777\n"
     ]
    }
   ],
   "source": [
    "kl = line_opacity_Na(nu_arr,T=6420*u.K,Pg=1.137e5*u.Ba,rho=2.727e-7*u.g/u.cm**3,nH=1.166e17/u.cm**3,uturb=1.6*u.km/u.s)"
   ]
  },
  {
   "cell_type": "code",
   "execution_count": 19,
   "metadata": {},
   "outputs": [
    {
     "name": "stdout",
     "output_type": "stream",
     "text": [
      "Pe = 55.94020381510115 dyn / cm2\n",
      "k_total = [0.76985895 0.77050992] cm2 / g\n",
      "k_Hnbf = [0.7065048  0.70702354] cm2 / g\n",
      "k_Hnff = [0.04981066 0.04990463] cm2 / g\n",
      "k_Hbf = [0.01294243 0.01297936] cm2 / g\n",
      "k_Hff = [0.00044449 0.00044582] cm2 / g\n",
      "k_e = 0.00015657274298840808 cm2 / g\n"
     ]
    }
   ],
   "source": [
    "Pe_val = Pe_calc(T=6420*u.K,Pg=1.137e5*u.Ba)\n",
    "print(\"Pe =\",Pe_val)\n",
    "SJM = astro530.abundance_mass()\n",
    "k_t = astro530.k_cont(Pe=Pe_val,T=6420*u.K,wavelength=lam_arr,Pg=1.137e5*u.Ba)\n",
    "k_A = astro530.k_cont(Pe=Pe_val,T=6420*u.K,wavelength=[5890,5896]*u.AA,Pg=1.137e5*u.Ba)\n",
    "kHnbf = astro530.k_Hnbf(Pe=Pe_val,T=6420*u.K,wavelength=[5890,5896]*u.AA,stim_em_bool=True)/SJM\n",
    "kHnff = astro530.k_Hnff(Pe=Pe_val,T=6420*u.K,wavelength=[5890,5896]*u.AA)/SJM\n",
    "kHbf = astro530.k_Hbf(T=6420*u.K,wavelength=[5890,5896]*u.AA,stim_em_bool=True)/SJM\n",
    "kHff = astro530.k_Hff(T=6420*u.K,wavelength=[5890,5896]*u.AA,stim_em_bool=True)/SJM\n",
    "ke = astro530.k_e(Pe=Pe_val,Pg=1.137e5*u.Ba,species=\"all\")/SJM\n",
    "print(\"k_total =\", k_A)\n",
    "print(\"k_Hnbf =\", kHnbf)\n",
    "print(\"k_Hnff =\", kHnff)\n",
    "print(\"k_Hbf =\", kHbf)\n",
    "print(\"k_Hff =\", kHff)\n",
    "print(\"k_e =\", ke)"
   ]
  },
  {
   "cell_type": "code",
   "execution_count": null,
   "metadata": {},
   "outputs": [],
   "source": []
  },
  {
   "cell_type": "code",
   "execution_count": 20,
   "metadata": {},
   "outputs": [],
   "source": [
    "k_A = astro530.k_cont(Pe=Pe_val,T=6420*u.K,wavelength=lam_arr,Pg=1.137e5*u.Ba)\n",
    "kHnbf = astro530.k_Hnbf(Pe=Pe_val,T=6420*u.K,wavelength=lam_arr,stim_em_bool=True)/SJM\n",
    "kHnff = astro530.k_Hnff(Pe=Pe_val,T=6420*u.K,wavelength=lam_arr)/SJM\n",
    "kHbf = astro530.k_Hbf(T=6420*u.K,wavelength=lam_arr,stim_em_bool=True)/SJM\n",
    "kHff = astro530.k_Hff(T=6420*u.K,wavelength=lam_arr,stim_em_bool=True)/SJM\n",
    "ke = astro530.k_e(Pe=Pe_val,Pg=1.137e5*u.Ba,species=\"all\")/SJM\n",
    "k_T = (kHnbf+kHnff+kHbf+kHff)*1/(1+saha_LTE(species=\"H\",temp=6420*u.K,Pe=Pe_val))+ke"
   ]
  },
  {
   "cell_type": "code",
   "execution_count": 21,
   "metadata": {},
   "outputs": [
    {
     "data": {
      "text/latex": [
       "$2.2701369 \\times 10^{-24} \\; \\mathrm{g}$"
      ],
      "text/plain": [
       "<Quantity 2.27013687e-24 g>"
      ]
     },
     "execution_count": 21,
     "metadata": {},
     "output_type": "execute_result"
    }
   ],
   "source": [
    "astro530.abundance_mass()"
   ]
  },
  {
   "cell_type": "code",
   "execution_count": 22,
   "metadata": {},
   "outputs": [
    {
     "data": {
      "text/plain": [
       "<function src.astro530.saha_LTE(species='H', temp=5000, Pe=None)>"
      ]
     },
     "execution_count": 22,
     "metadata": {},
     "output_type": "execute_result"
    }
   ],
   "source": [
    "astro530.saha_LTE"
   ]
  },
  {
   "cell_type": "code",
   "execution_count": 23,
   "metadata": {},
   "outputs": [
    {
     "data": {
      "text/latex": [
       "$[0.00031661653,~0.00031661882,~0.0003166211,~\\dots,~0.00032111109,~0.00032111331,~0.00032111552] \\; \\mathrm{\\frac{cm^{2}}{g}}$"
      ],
      "text/plain": [
       "<Quantity [0.00031662, 0.00031662, 0.00031662, ..., 0.00032111, 0.00032111,\n",
       "           0.00032112] cm2 / g>"
      ]
     },
     "execution_count": 23,
     "metadata": {},
     "output_type": "execute_result"
    }
   ],
   "source": [
    "k_A-k_T"
   ]
  },
  {
   "cell_type": "code",
   "execution_count": 24,
   "metadata": {},
   "outputs": [
    {
     "data": {
      "text/plain": [
       "<function src.astro530.k_e(Pe=<Quantity 10. dyn / cm2>, Pg=<Quantity 20. dyn / cm2>, species='H')>"
      ]
     },
     "execution_count": 24,
     "metadata": {},
     "output_type": "execute_result"
    }
   ],
   "source": [
    "astro530.k_e"
   ]
  },
  {
   "cell_type": "code",
   "execution_count": 28,
   "metadata": {
    "scrolled": false
   },
   "outputs": [
    {
     "data": {
      "image/png": "[encoded data removed]",
      "text/plain": [
       "<Figure size 504x432 with 1 Axes>"
      ]
     },
     "metadata": {
      "needs_background": "light"
     },
     "output_type": "display_data"
    }
   ],
   "source": [
    "fig, ax = plt.subplots(figsize = (7,6), nrows = 1, ncols = 1)\n",
    "fig.tight_layout(h_pad=-.5)\n",
    "\n",
    "    \n",
    "ax.yaxis.set_ticks_position('both')\n",
    "ax.xaxis.set_ticks_position('both')\n",
    "ax.minorticks_on()\n",
    "ax.grid(True,alpha=.3)\n",
    "\n",
    "ax.tick_params(direction='in', axis='both',which='minor',length=3,width=1)#,labelsize=8)\n",
    "ax.tick_params(direction='in',axis='both',which='major',length=6,width=2)#,labelsize=8)\n",
    "\n",
    "ax.set_yscale(\"log\")\n",
    "\n",
    "ax.plot(lam_arr,kl[:,0],label=r\"$\\kappa^l_\\nu(5890~\\AA)$\")\n",
    "ax.plot(lam_arr,kl[:,1],label=r\"$\\kappa^l_\\nu(5896~\\AA)$\")\n",
    "\n",
    "ax.plot(lam_arr,kHbf,label=r\"$\\kappa^c_\\nu(\\mathrm{H}_{\\mathrm{bf}})$\")\n",
    "ax.plot(lam_arr,kHff,label=r\"$\\kappa^c_\\nu(\\mathrm{H}_{\\mathrm{ff}})$\")\n",
    "ax.plot(lam_arr,kHnbf,label=r\"$\\kappa^c_\\nu(\\mathrm{H}^-_{\\mathrm{bf}})$\")\n",
    "ax.plot(lam_arr,kHnff,label=r\"$\\kappa^c_\\nu(\\mathrm{H}^-_{\\mathrm{ff}})$\")\n",
    "ax.plot(lam_arr,ke*np.ones(np.shape(lam_arr)),label=r\"$\\kappa^c_\\nu(\\mathrm{e}^-)$\")\n",
    "\n",
    "ax.plot(lam_arr,k_t, label = r\"$\\kappa^c_\\nu$\")\n",
    "\n",
    "ax.plot(lam_arr,kl[:,0]+kl[:,1]+k_t, label = r\"$\\kappa_\\nu^{\\mathrm{total}}$\",c=\"k\")\n",
    "\n",
    "ax.set_ylabel(r\"$\\kappa^l_\\nu~$(cm$^2$/g)\")\n",
    "ax.set_xlabel(r\"Wavelength ($\\AA$)\")\n",
    "\n",
    "ax.legend()\n",
    "\n",
    "output_file = \"plots/21.pdf\"\n",
    "\n",
    "fig.savefig(output_file,bbox_inches='tight')"
   ]
  },
  {
   "cell_type": "code",
   "execution_count": null,
   "metadata": {},
   "outputs": [],
   "source": [
    "astro530.k_cont"
   ]
  },
  {
   "cell_type": "code",
   "execution_count": null,
   "metadata": {},
   "outputs": [],
   "source": [
    "2/partition(species=\"Na\",temp=6420)"
   ]
  },
  {
   "cell_type": "code",
   "execution_count": null,
   "metadata": {},
   "outputs": [],
   "source": [
    "1e4/(1+saha_LTE(species=\"Na\",temp=6420*u.K,Pe = Pe_calc(T=6420*u.K,Pg=1.13e5*u.Ba)))"
   ]
  },
  {
   "cell_type": "code",
   "execution_count": null,
   "metadata": {},
   "outputs": [],
   "source": [
    "k_t"
   ]
  },
  {
   "cell_type": "code",
   "execution_count": null,
   "metadata": {},
   "outputs": [],
   "source": []
  }
 ],
 "metadata": {
  "kernelspec": {
   "display_name": "Python 3",
   "language": "python",
   "name": "python3"
  },
  "language_info": {
   "codemirror_mode": {
    "name": "ipython",
    "version": 3
   },
   "file_extension": ".py",
   "mimetype": "text/x-python",
   "name": "python",
   "nbconvert_exporter": "python",
   "pygments_lexer": "ipython3",
   "version": "3.7.4"
  }
 },
 "nbformat": 4,
 "nbformat_minor": 2
}
