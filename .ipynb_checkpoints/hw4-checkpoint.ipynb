{
 "cells": [
  {
   "cell_type": "code",
   "execution_count": null,
   "metadata": {},
   "outputs": [],
   "source": [
    "from importlib import reload\n",
    "from astropy import units as u\n",
    "from astropy import constants as const\n",
    "from astropy.modeling.models import BlackBody\n",
    "from astropy.units.equivalencies import spectral\n",
    "\n",
    "import numpy as np\n",
    "import matplotlib.pyplot as plt\n",
    "\n",
    "from src import astro530\n",
    "from src import N_integrator"
   ]
  },
  {
   "cell_type": "markdown",
   "metadata": {},
   "source": [
    "## Problem 6) Problem 3: Redman’s eclipse spectrum\n",
    "### from Rutten without a, g, h\n",
    "\n",
    "This problem illustrates the transition from optically thick to optically thin line formation\n",
    "near the solar limb. R.O. Redman obtained a spectrum of the Ca II K line at λ$_K$ = 393.3 nm\n",
    "during a total solar eclipse. A tracing made from his plate is sketched in Fig. 10.10. The K\n",
    "line shows four peaks which we try to explain.\n",
    "\n",
    "The density in the solar atmosphere drops with height h as N ∼ exp(−h/H), with scale\n",
    "height H ≈ 100 km. Assume that the ratio of line-center extinction over continuum extinction η = α$^l$\n",
    "/α$^c$ has η$_K$ = 106 at all heights. Assume also, for the moment, that the\n",
    "atmosphere is isothermal with T = 6000 K for all h and that LTE holds."
   ]
  },
  {
   "cell_type": "markdown",
   "metadata": {},
   "source": [
    "b) Now the geometry (Fig. 10.11). Let us use τ for radial optical depth and t for optical\n",
    "thickness along the beam. The zero point of the radial height scale h = 0 km is defined\n",
    "as the location with radial optical depth τ c\n",
    "1 = 1 in the continuum close to the K line,\n",
    "i.e., measured along line of sight number 1. Why is this a logical definition? Where is\n",
    "τ c\n",
    "1 = 0? What is the optical thickness of the sun along this line of sight?\n",
    "\n",
    "The lines of sight 2 and 3 are tangential to the sun. The solar limb is defined to be the\n",
    "location hi at which the continuum optical thickness t\n",
    "c\n",
    "i of the sun along a tangential line\n",
    "of sight i equals unity: that direction i for which t\n",
    "c\n",
    "i = 1. In the continuum near the K\n",
    "line this is number 2, cutting through shells with h > 300 km and touching the limb at\n",
    "hL = h2 = 300 km. Why isn’t the limb at h = 0 km?\n",
    "\n",
    "Are there wavelengths in the spectrum with hL < 300 km?\n",
    "Line of sight 3 is tangential to the shell with h3 = 600 km. Estimate the continuum\n",
    "optical thickness tc\n",
    "3 of the sun for this viewing direction."
   ]
  },
  {
   "cell_type": "code",
   "execution_count": null,
   "metadata": {},
   "outputs": [],
   "source": []
  }
 ],
 "metadata": {
  "kernelspec": {
   "display_name": "Python 3",
   "language": "python",
   "name": "python3"
  },
  "language_info": {
   "codemirror_mode": {
    "name": "ipython",
    "version": 3
   },
   "file_extension": ".py",
   "mimetype": "text/x-python",
   "name": "python",
   "nbconvert_exporter": "python",
   "pygments_lexer": "ipython3",
   "version": "3.7.4"
  }
 },
 "nbformat": 4,
 "nbformat_minor": 2
}
