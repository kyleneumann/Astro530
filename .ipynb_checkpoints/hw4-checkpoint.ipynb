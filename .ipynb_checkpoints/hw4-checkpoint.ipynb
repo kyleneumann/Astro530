{
 "cells": [
  {
   "cell_type": "code",
   "execution_count": 1,
   "metadata": {},
   "outputs": [],
   "source": [
    "from importlib import reload\n",
    "from astropy import units as u\n",
    "from astropy import constants as const\n",
    "from astropy.modeling.models import BlackBody\n",
    "from astropy.units.equivalencies import spectral\n",
    "\n",
    "import numpy as np\n",
    "import matplotlib.pyplot as plt\n",
    "\n",
    "from scipy.special import expn\n",
    "from scipy.integrate import simpson\n",
    "\n",
    "from src import astro530\n",
    "from src import N_integrator"
   ]
  },
  {
   "cell_type": "code",
   "execution_count": 3,
   "metadata": {},
   "outputs": [],
   "source": [
    "simpson_wrapper = N_integrator.simpson_wrapper"
   ]
  },
  {
   "cell_type": "markdown",
   "metadata": {},
   "source": [
    "## Problem 6) Problem 3: Redman’s eclipse spectrum\n",
    "### from Rutten without a, g, h\n",
    "\n",
    "This problem illustrates the transition from optically thick to optically thin line formation\n",
    "near the solar limb. R.O. Redman obtained a spectrum of the Ca II K line at λ$_K$ = 393.3 nm\n",
    "during a total solar eclipse. A tracing made from his plate is sketched in Fig. 10.10. The K\n",
    "line shows four peaks which we try to explain.\n",
    "\n",
    "The density in the solar atmosphere drops with height h as N ∼ exp(−h/H), with scale\n",
    "height H ≈ 100 km. Assume that the ratio of line-center extinction over continuum extinction η = α$^l$\n",
    "/α$^c$ has η$_K$ = 106 at all heights. Assume also, for the moment, that the\n",
    "atmosphere is isothermal with T = 6000 K for all h and that LTE holds."
   ]
  },
  {
   "cell_type": "markdown",
   "metadata": {},
   "source": [
    "b) Now the geometry (Fig. 10.11). Let us use τ for radial optical depth and t for optical\n",
    "thickness along the beam. The zero point of the radial height scale h = 0 km is defined\n",
    "as the location with radial optical depth τ c\n",
    "1 = 1 in the continuum close to the K line,\n",
    "i.e., measured along line of sight number 1. Why is this a logical definition? Where is\n",
    "τ c\n",
    "1 = 0? What is the optical thickness of the sun along this line of sight?\n",
    "\n",
    "The lines of sight 2 and 3 are tangential to the sun. The solar limb is defined to be the\n",
    "location hi at which the continuum optical thickness t\n",
    "c\n",
    "i of the sun along a tangential line\n",
    "of sight i equals unity: that direction i for which t\n",
    "c\n",
    "i = 1. In the continuum near the K\n",
    "line this is number 2, cutting through shells with h > 300 km and touching the limb at\n",
    "hL = h2 = 300 km. Why isn’t the limb at h = 0 km?\n",
    "\n",
    "Are there wavelengths in the spectrum with hL < 300 km?\n",
    "Line of sight 3 is tangential to the shell with h3 = 600 km. Estimate the continuum\n",
    "optical thickness tc\n",
    "3 of the sun for this viewing direction."
   ]
  },
  {
   "cell_type": "markdown",
   "metadata": {},
   "source": [
    "## Problem 7) Hν (0)\n",
    "Use your work from Problem 5 to write a function that calculates Hν (0) given an array of\n",
    "optical depths τν using an exponential integral. In addition to an array of optical depths,\n",
    "the function should take as an argument the name of another function that returns the\n",
    "relevant source function at those optical depths (or whatever the equivalent is in the\n",
    "language you are using). Choose a quadratic form for Sν (τν ) as in problem 1a) and\n",
    "compute Hν (0) for it.\n",
    "\n",
    "Confirm that this works as you expect it to for a linear source function.\n",
    "\n",
    "You are now just a source function and an optical depth grid away from calculating the\n",
    "emergent flux density of stars at a given wavelength.\n"
   ]
  },
  {
   "cell_type": "code",
   "execution_count": 3,
   "metadata": {},
   "outputs": [],
   "source": [
    "def source_func(t, a0 = 1, a1 = 1, a2 = 1):\n",
    "    \"\"\" Radiative transfer source function\n",
    "    Given τ_ν as a single value or an array, and key word values for a_n where \n",
    "    n < 3, the function will output the source function value. This is viable \n",
    "    up to quadratic form.\n",
    "    \n",
    "    input parameters:\n",
    "    \n",
    "    t [float or array]: values for τ_ν, the optical depth.\n",
    "    a0 [float]: Named variable for the zeroth order source term\n",
    "    a1 [float]: Named variable for the linear source term\n",
    "    a2 [float]: Named variable for the quadratic source term. Set to zero for a \n",
    "                linear source function.\n",
    "                \n",
    "    output values:\n",
    "    \n",
    "    S_ν [float or array]: outputs the value(s) for the source function. \n",
    "    \n",
    "    \"\"\"\n",
    "    return a0+a1*t+a2*t**2\n",
    "\n",
    "def SvxEn(tval, tau = 0, n=2, src_func = source_func, **kwargs):\n",
    "    S = src_func(tval, **kwargs)\n",
    "    \n",
    "    if n == 1 and abs(tval-tau) == 0: return S*229.7  # E1(1e-100)\n",
    "    \n",
    "    En = expn(n,abs(tval-tau))\n",
    "    \n",
    "    return S*En\n",
    "\n",
    "def astrophysical_flux(t_arr, tmin = 0, tmax = 1e2, n_size = 1e-5, src_func = source_func, \n",
    "                       int_wrapper=simpson_wrapper, **kwargs):\n",
    "    \"\"\" Astrophysical Flux H_ν(t)\n",
    "    Given an array of τ_ν, an optional function variable and keywords for said \n",
    "    function, this function will output the astrophysical flux at zero optical \n",
    "    depth as calculated using numerical integration with scipy.integrate.simpson  \n",
    "    \n",
    "    input parameters:\n",
    "    \n",
    "    t_arr [array-like]: values for optical depth from 0 to infinity.\n",
    "    src_dunc [function]: name of the source function's function which is given \n",
    "                         at least optical depth values in array form. \n",
    "    int_wrapper [function]: name of the integration wrapper function which will \n",
    "                            numerically solve the flux problem. Make sure the \n",
    "                            function's inputs follow the same format as \n",
    "                            N_integrator.simpson_wrapper. \n",
    "    kwargs: keyword arguments for the source function and integrator.\n",
    "    \n",
    "    output values:\n",
    "    \n",
    "    H_ν(0) [float]: Outputs the value for the astrophysical flux at a τ_ν = 0.\n",
    "    \"\"\"\n",
    "    t_arr = np.array(t_arr)\n",
    "#     S_arr = src_func(t_arr,**kwargs)\n",
    "#     E2_arr = expn(2,t_arr)\n",
    "    \n",
    "#     y_arr = np.array(S_arr * E2_arr)\n",
    "    \n",
    "    Hv = np.zeros(len(t_arr))\n",
    "    \n",
    "    for i in range(len(t_arr)):\n",
    "        tv = t_arr[i]\n",
    "        \n",
    "        if tv < 0: raise ValueError(\"Optical depth cannot be negative. Fix index = \"+str(i))\n",
    "        \n",
    "        outward = int_wrapper(tv,tmax,n_size = n_size, scale = \"log\", function=SvxEn, \n",
    "                                  tau = tv, n = 2, src_func = src_func, **kwargs)\n",
    "        inward = -int_wrapper(tmin,tv,n_size = n_size, scale = \"log\", function=SvxEn, \n",
    "                                      tau = tv, n = 2, src_func=src_func, **kwargs)\n",
    "        Hv[i] = 1/2*(outward+inward)\n",
    "    #return y_arr\n",
    "    \n",
    "    return Hv"
   ]
  },
  {
   "cell_type": "code",
   "execution_count": 11,
   "metadata": {},
   "outputs": [
    {
     "data": {
      "text/plain": [
       "1.6653345369377348e-16"
      ]
     },
     "execution_count": 11,
     "metadata": {},
     "output_type": "execute_result"
    }
   ],
   "source": [
    "3/2*(astrophysical_flux([0])[0]-2/3)"
   ]
  },
  {
   "cell_type": "code",
   "execution_count": 13,
   "metadata": {},
   "outputs": [
    {
     "data": {
      "text/plain": [
       "-1.3322676295501878e-16"
      ]
     },
     "execution_count": 13,
     "metadata": {},
     "output_type": "execute_result"
    }
   ],
   "source": [
    "(astrophysical_flux([0],a2=0)[0]-5/12)*12/5"
   ]
  },
  {
   "cell_type": "code",
   "execution_count": null,
   "metadata": {},
   "outputs": [],
   "source": []
  }
 ],
 "metadata": {
  "kernelspec": {
   "display_name": "Python 3 (ipykernel)",
   "language": "python",
   "name": "python3"
  },
  "language_info": {
   "codemirror_mode": {
    "name": "ipython",
    "version": 3
   },
   "file_extension": ".py",
   "mimetype": "text/x-python",
   "name": "python",
   "nbconvert_exporter": "python",
   "pygments_lexer": "ipython3",
   "version": "3.11.5"
  }
 },
 "nbformat": 4,
 "nbformat_minor": 2
}
