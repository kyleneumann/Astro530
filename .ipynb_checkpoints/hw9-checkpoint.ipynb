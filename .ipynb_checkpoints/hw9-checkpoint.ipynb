{
 "cells": [
  {
   "cell_type": "code",
   "execution_count": 1,
   "metadata": {},
   "outputs": [],
   "source": [
    "from importlib import reload\n",
    "from astropy import units as u\n",
    "from astropy import constants as const\n",
    "\n",
    "import pandas as pd\n",
    "import numpy as np\n",
    "import matplotlib.pyplot as plt\n",
    "\n",
    "from src import astro530"
   ]
  },
  {
   "cell_type": "code",
   "execution_count": 2,
   "metadata": {},
   "outputs": [
    {
     "data": {
      "text/plain": [
       "<module 'src.astro530' from 'C:\\\\Users\\\\xkncr\\\\Documents\\\\PSU\\\\Astro530\\\\src\\\\astro530.py'>"
      ]
     },
     "execution_count": 2,
     "metadata": {},
     "output_type": "execute_result"
    }
   ],
   "source": [
    "reload(astro530)"
   ]
  },
  {
   "cell_type": "code",
   "execution_count": 3,
   "metadata": {},
   "outputs": [],
   "source": [
    "partition = astro530.partition"
   ]
  },
  {
   "cell_type": "code",
   "execution_count": 4,
   "metadata": {},
   "outputs": [],
   "source": [
    "openfile = open(\"data/VALIIIC_sci_e.txt\",\"r\")\n",
    "openlines = openfile.readlines()\n",
    "openfile.close()"
   ]
  },
  {
   "cell_type": "code",
   "execution_count": 5,
   "metadata": {},
   "outputs": [
    {
     "name": "stdout",
     "output_type": "stream",
     "text": [
      "# h     m     tau_500     T     V     n_H     n_e     Ptotal  Pgas/Ptotal  rho\n",
      "\n",
      "# (km) (g cm )            (K)  (km/s) (cm^-3) (cm^-3) (dyn cm^-2)          (g cm^-3)\n",
      "\n"
     ]
    }
   ],
   "source": [
    "table = []\n",
    "for i,line in enumerate(openlines):\n",
    "    data = line.split()\n",
    "    if len(data) == 0: continue\n",
    "    if data[0] == \"#\":\n",
    "        if i == 0:\n",
    "            header = data[1:]\n",
    "        print(line)\n",
    "        continue\n",
    "    table.append(data)"
   ]
  },
  {
   "cell_type": "code",
   "execution_count": 6,
   "metadata": {},
   "outputs": [],
   "source": [
    "table = np.array(table,dtype=float)"
   ]
  },
  {
   "cell_type": "code",
   "execution_count": 7,
   "metadata": {},
   "outputs": [
    {
     "data": {
      "text/plain": [
       "list"
      ]
     },
     "execution_count": 7,
     "metadata": {},
     "output_type": "execute_result"
    }
   ],
   "source": [
    "a = [0,1,2,3,4]\n",
    "a[1:]\n",
    "type(a[:])"
   ]
  },
  {
   "cell_type": "code",
   "execution_count": 8,
   "metadata": {},
   "outputs": [
    {
     "data": {
      "text/html": [
       "<div>\n",
       "<style scoped>\n",
       "    .dataframe tbody tr th:only-of-type {\n",
       "        vertical-align: middle;\n",
       "    }\n",
       "\n",
       "    .dataframe tbody tr th {\n",
       "        vertical-align: top;\n",
       "    }\n",
       "\n",
       "    .dataframe thead th {\n",
       "        text-align: right;\n",
       "    }\n",
       "</style>\n",
       "<table border=\"1\" class=\"dataframe\">\n",
       "  <thead>\n",
       "    <tr style=\"text-align: right;\">\n",
       "      <th></th>\n",
       "      <th>h</th>\n",
       "      <th>m</th>\n",
       "      <th>tau_500</th>\n",
       "      <th>T</th>\n",
       "      <th>V</th>\n",
       "      <th>n_H</th>\n",
       "      <th>n_e</th>\n",
       "      <th>Ptotal</th>\n",
       "      <th>Pgas/Ptotal</th>\n",
       "      <th>rho</th>\n",
       "    </tr>\n",
       "  </thead>\n",
       "  <tbody>\n",
       "    <tr>\n",
       "      <td>0</td>\n",
       "      <td>2543.0</td>\n",
       "      <td>0.000005</td>\n",
       "      <td>0.000000e+00</td>\n",
       "      <td>447000.0</td>\n",
       "      <td>11.28</td>\n",
       "      <td>1.005000e+09</td>\n",
       "      <td>1.205000e+09</td>\n",
       "      <td>0.1440</td>\n",
       "      <td>0.9896</td>\n",
       "      <td>2.349000e-15</td>\n",
       "    </tr>\n",
       "    <tr>\n",
       "      <td>1</td>\n",
       "      <td>2298.0</td>\n",
       "      <td>0.000005</td>\n",
       "      <td>3.712000e-08</td>\n",
       "      <td>141000.0</td>\n",
       "      <td>9.87</td>\n",
       "      <td>3.205000e+09</td>\n",
       "      <td>3.839000e+09</td>\n",
       "      <td>0.1470</td>\n",
       "      <td>0.9752</td>\n",
       "      <td>7.494000e-15</td>\n",
       "    </tr>\n",
       "    <tr>\n",
       "      <td>2</td>\n",
       "      <td>2290.0</td>\n",
       "      <td>0.000005</td>\n",
       "      <td>3.969000e-08</td>\n",
       "      <td>89100.0</td>\n",
       "      <td>9.82</td>\n",
       "      <td>5.041000e+09</td>\n",
       "      <td>5.961000e+09</td>\n",
       "      <td>0.1472</td>\n",
       "      <td>0.9614</td>\n",
       "      <td>1.179000e-14</td>\n",
       "    </tr>\n",
       "    <tr>\n",
       "      <td>3</td>\n",
       "      <td>2280.0</td>\n",
       "      <td>0.000005</td>\n",
       "      <td>4.491000e-08</td>\n",
       "      <td>50000.0</td>\n",
       "      <td>9.76</td>\n",
       "      <td>9.038000e+09</td>\n",
       "      <td>9.993000e+09</td>\n",
       "      <td>0.1477</td>\n",
       "      <td>0.9318</td>\n",
       "      <td>2.113000e-14</td>\n",
       "    </tr>\n",
       "    <tr>\n",
       "      <td>4</td>\n",
       "      <td>2274.0</td>\n",
       "      <td>0.000005</td>\n",
       "      <td>4.952000e-08</td>\n",
       "      <td>37000.0</td>\n",
       "      <td>9.73</td>\n",
       "      <td>1.201000e+10</td>\n",
       "      <td>1.318000e+10</td>\n",
       "      <td>0.1481</td>\n",
       "      <td>0.9102</td>\n",
       "      <td>2.808000e-14</td>\n",
       "    </tr>\n",
       "    <tr>\n",
       "      <td>5</td>\n",
       "      <td>2271.0</td>\n",
       "      <td>0.000005</td>\n",
       "      <td>5.234000e-08</td>\n",
       "      <td>32000.0</td>\n",
       "      <td>9.71</td>\n",
       "      <td>1.378000e+10</td>\n",
       "      <td>1.498000e+10</td>\n",
       "      <td>0.1483</td>\n",
       "      <td>0.8976</td>\n",
       "      <td>3.222000e-14</td>\n",
       "    </tr>\n",
       "    <tr>\n",
       "      <td>6</td>\n",
       "      <td>2267.0</td>\n",
       "      <td>0.000005</td>\n",
       "      <td>5.657000e-08</td>\n",
       "      <td>28000.0</td>\n",
       "      <td>9.70</td>\n",
       "      <td>1.567000e+10</td>\n",
       "      <td>1.677000e+10</td>\n",
       "      <td>0.1487</td>\n",
       "      <td>0.8840</td>\n",
       "      <td>3.665000e-14</td>\n",
       "    </tr>\n",
       "    <tr>\n",
       "      <td>7</td>\n",
       "      <td>2263.0</td>\n",
       "      <td>0.000005</td>\n",
       "      <td>6.124000e-08</td>\n",
       "      <td>25500.0</td>\n",
       "      <td>9.68</td>\n",
       "      <td>1.718000e+10</td>\n",
       "      <td>1.812000e+10</td>\n",
       "      <td>0.1491</td>\n",
       "      <td>0.8738</td>\n",
       "      <td>4.017000e-14</td>\n",
       "    </tr>\n",
       "    <tr>\n",
       "      <td>8</td>\n",
       "      <td>2255.0</td>\n",
       "      <td>0.000005</td>\n",
       "      <td>7.110000e-08</td>\n",
       "      <td>24500.0</td>\n",
       "      <td>9.64</td>\n",
       "      <td>1.797000e+10</td>\n",
       "      <td>1.881000e+10</td>\n",
       "      <td>0.1500</td>\n",
       "      <td>0.8698</td>\n",
       "      <td>4.203000e-14</td>\n",
       "    </tr>\n",
       "    <tr>\n",
       "      <td>9</td>\n",
       "      <td>2230.0</td>\n",
       "      <td>0.000006</td>\n",
       "      <td>1.030000e-07</td>\n",
       "      <td>24200.0</td>\n",
       "      <td>9.49</td>\n",
       "      <td>1.862000e+10</td>\n",
       "      <td>1.943000e+10</td>\n",
       "      <td>0.1530</td>\n",
       "      <td>0.8718</td>\n",
       "      <td>4.355000e-14</td>\n",
       "    </tr>\n",
       "    <tr>\n",
       "      <td>10</td>\n",
       "      <td>2200.0</td>\n",
       "      <td>0.000006</td>\n",
       "      <td>1.426000e-07</td>\n",
       "      <td>24000.0</td>\n",
       "      <td>9.33</td>\n",
       "      <td>1.932000e+10</td>\n",
       "      <td>2.009000e+10</td>\n",
       "      <td>0.1566</td>\n",
       "      <td>0.8645</td>\n",
       "      <td>4.517000e-14</td>\n",
       "    </tr>\n",
       "    <tr>\n",
       "      <td>11</td>\n",
       "      <td>2160.0</td>\n",
       "      <td>0.000006</td>\n",
       "      <td>1.977000e-07</td>\n",
       "      <td>23500.0</td>\n",
       "      <td>9.08</td>\n",
       "      <td>2.051000e+10</td>\n",
       "      <td>2.120000e+10</td>\n",
       "      <td>0.1617</td>\n",
       "      <td>0.8778</td>\n",
       "      <td>4.795000e-14</td>\n",
       "    </tr>\n",
       "    <tr>\n",
       "      <td>12</td>\n",
       "      <td>2129.0</td>\n",
       "      <td>0.000006</td>\n",
       "      <td>2.427000e-07</td>\n",
       "      <td>23000.0</td>\n",
       "      <td>8.87</td>\n",
       "      <td>2.163000e+10</td>\n",
       "      <td>2.219000e+10</td>\n",
       "      <td>0.1659</td>\n",
       "      <td>0.8801</td>\n",
       "      <td>5.058000e-14</td>\n",
       "    </tr>\n",
       "    <tr>\n",
       "      <td>13</td>\n",
       "      <td>2120.0</td>\n",
       "      <td>0.000006</td>\n",
       "      <td>2.562000e-07</td>\n",
       "      <td>22500.0</td>\n",
       "      <td>8.81</td>\n",
       "      <td>2.231000e+10</td>\n",
       "      <td>2.276000e+10</td>\n",
       "      <td>0.1672</td>\n",
       "      <td>0.8789</td>\n",
       "      <td>5.216000e-14</td>\n",
       "    </tr>\n",
       "    <tr>\n",
       "      <td>14</td>\n",
       "      <td>2115.0</td>\n",
       "      <td>0.000006</td>\n",
       "      <td>2.640000e-07</td>\n",
       "      <td>21000.0</td>\n",
       "      <td>8.78</td>\n",
       "      <td>2.403000e+10</td>\n",
       "      <td>2.402000e+10</td>\n",
       "      <td>0.1679</td>\n",
       "      <td>0.8710</td>\n",
       "      <td>5.619000e-14</td>\n",
       "    </tr>\n",
       "    <tr>\n",
       "      <td>15</td>\n",
       "      <td>2113.0</td>\n",
       "      <td>0.000006</td>\n",
       "      <td>2.674000e-07</td>\n",
       "      <td>18500.0</td>\n",
       "      <td>8.77</td>\n",
       "      <td>2.732000e+10</td>\n",
       "      <td>2.620000e+10</td>\n",
       "      <td>0.1682</td>\n",
       "      <td>0.8539</td>\n",
       "      <td>6.390000e-14</td>\n",
       "    </tr>\n",
       "    <tr>\n",
       "      <td>16</td>\n",
       "      <td>2109.0</td>\n",
       "      <td>0.000006</td>\n",
       "      <td>2.754000e-07</td>\n",
       "      <td>12300.0</td>\n",
       "      <td>8.74</td>\n",
       "      <td>4.092000e+10</td>\n",
       "      <td>3.306000e+10</td>\n",
       "      <td>0.1691</td>\n",
       "      <td>0.7839</td>\n",
       "      <td>9.569000e-14</td>\n",
       "    </tr>\n",
       "    <tr>\n",
       "      <td>17</td>\n",
       "      <td>2107.0</td>\n",
       "      <td>0.000006</td>\n",
       "      <td>2.801000e-07</td>\n",
       "      <td>10700.0</td>\n",
       "      <td>8.72</td>\n",
       "      <td>4.673000e+10</td>\n",
       "      <td>3.535000e+10</td>\n",
       "      <td>0.1697</td>\n",
       "      <td>0.7552</td>\n",
       "      <td>1.093000e-13</td>\n",
       "    </tr>\n",
       "    <tr>\n",
       "      <td>18</td>\n",
       "      <td>2104.0</td>\n",
       "      <td>0.000006</td>\n",
       "      <td>2.877000e-07</td>\n",
       "      <td>9500.0</td>\n",
       "      <td>8.71</td>\n",
       "      <td>5.239000e+10</td>\n",
       "      <td>3.705000e+10</td>\n",
       "      <td>0.1706</td>\n",
       "      <td>0.7277</td>\n",
       "      <td>1.225000e-13</td>\n",
       "    </tr>\n",
       "    <tr>\n",
       "      <td>19</td>\n",
       "      <td>2090.0</td>\n",
       "      <td>0.000006</td>\n",
       "      <td>3.243000e-07</td>\n",
       "      <td>8440.0</td>\n",
       "      <td>8.60</td>\n",
       "      <td>6.127000e+10</td>\n",
       "      <td>3.799000e+10</td>\n",
       "      <td>0.1758</td>\n",
       "      <td>0.6986</td>\n",
       "      <td>1.433000e-13</td>\n",
       "    </tr>\n",
       "    <tr>\n",
       "      <td>20</td>\n",
       "      <td>2080.0</td>\n",
       "      <td>0.000007</td>\n",
       "      <td>3.507000e-07</td>\n",
       "      <td>8180.0</td>\n",
       "      <td>8.55</td>\n",
       "      <td>6.541000e+10</td>\n",
       "      <td>3.780000e+10</td>\n",
       "      <td>0.1798</td>\n",
       "      <td>0.6891</td>\n",
       "      <td>1.530000e-13</td>\n",
       "    </tr>\n",
       "    <tr>\n",
       "      <td>21</td>\n",
       "      <td>2070.0</td>\n",
       "      <td>0.000007</td>\n",
       "      <td>3.770000e-07</td>\n",
       "      <td>7940.0</td>\n",
       "      <td>8.50</td>\n",
       "      <td>6.960000e+10</td>\n",
       "      <td>3.783000e+10</td>\n",
       "      <td>0.1842</td>\n",
       "      <td>0.6808</td>\n",
       "      <td>1.628000e-13</td>\n",
       "    </tr>\n",
       "    <tr>\n",
       "      <td>22</td>\n",
       "      <td>2050.0</td>\n",
       "      <td>0.000007</td>\n",
       "      <td>4.299000e-07</td>\n",
       "      <td>7660.0</td>\n",
       "      <td>8.42</td>\n",
       "      <td>7.705000e+10</td>\n",
       "      <td>3.792000e+10</td>\n",
       "      <td>0.1936</td>\n",
       "      <td>0.6701</td>\n",
       "      <td>1.802000e-13</td>\n",
       "    </tr>\n",
       "    <tr>\n",
       "      <td>23</td>\n",
       "      <td>2016.0</td>\n",
       "      <td>0.000008</td>\n",
       "      <td>5.203000e-07</td>\n",
       "      <td>7360.0</td>\n",
       "      <td>8.22</td>\n",
       "      <td>9.075000e+10</td>\n",
       "      <td>3.811000e+10</td>\n",
       "      <td>0.2118</td>\n",
       "      <td>0.6616</td>\n",
       "      <td>2.122000e-13</td>\n",
       "    </tr>\n",
       "    <tr>\n",
       "      <td>24</td>\n",
       "      <td>1990.0</td>\n",
       "      <td>0.000008</td>\n",
       "      <td>5.903000e-07</td>\n",
       "      <td>7160.0</td>\n",
       "      <td>8.01</td>\n",
       "      <td>1.033000e+11</td>\n",
       "      <td>3.858000e+10</td>\n",
       "      <td>0.2280</td>\n",
       "      <td>0.6600</td>\n",
       "      <td>2.417000e-13</td>\n",
       "    </tr>\n",
       "    <tr>\n",
       "      <td>25</td>\n",
       "      <td>1925.0</td>\n",
       "      <td>0.000010</td>\n",
       "      <td>7.717000e-07</td>\n",
       "      <td>6940.0</td>\n",
       "      <td>7.63</td>\n",
       "      <td>1.380000e+11</td>\n",
       "      <td>4.028000e+10</td>\n",
       "      <td>0.2780</td>\n",
       "      <td>0.6620</td>\n",
       "      <td>3.227000e-13</td>\n",
       "    </tr>\n",
       "    <tr>\n",
       "      <td>26</td>\n",
       "      <td>1785.0</td>\n",
       "      <td>0.000016</td>\n",
       "      <td>1.212000e-06</td>\n",
       "      <td>6630.0</td>\n",
       "      <td>6.92</td>\n",
       "      <td>2.601000e+11</td>\n",
       "      <td>4.771000e+10</td>\n",
       "      <td>0.4511</td>\n",
       "      <td>0.6772</td>\n",
       "      <td>6.082000e-13</td>\n",
       "    </tr>\n",
       "    <tr>\n",
       "      <td>27</td>\n",
       "      <td>1605.0</td>\n",
       "      <td>0.000034</td>\n",
       "      <td>1.958000e-06</td>\n",
       "      <td>6440.0</td>\n",
       "      <td>5.85</td>\n",
       "      <td>6.386000e+11</td>\n",
       "      <td>6.005000e+10</td>\n",
       "      <td>0.9334</td>\n",
       "      <td>0.7262</td>\n",
       "      <td>1.493000e-12</td>\n",
       "    </tr>\n",
       "    <tr>\n",
       "      <td>28</td>\n",
       "      <td>1515.0</td>\n",
       "      <td>0.000051</td>\n",
       "      <td>2.420000e-06</td>\n",
       "      <td>6370.0</td>\n",
       "      <td>5.26</td>\n",
       "      <td>1.048000e+12</td>\n",
       "      <td>6.456000e+10</td>\n",
       "      <td>1.4090</td>\n",
       "      <td>0.7595</td>\n",
       "      <td>2.450000e-12</td>\n",
       "    </tr>\n",
       "    <tr>\n",
       "      <td>29</td>\n",
       "      <td>1380.0</td>\n",
       "      <td>0.000101</td>\n",
       "      <td>3.286000e-06</td>\n",
       "      <td>6280.0</td>\n",
       "      <td>4.51</td>\n",
       "      <td>2.273000e+12</td>\n",
       "      <td>7.600000e+10</td>\n",
       "      <td>2.7740</td>\n",
       "      <td>0.8051</td>\n",
       "      <td>5.315000e-12</td>\n",
       "    </tr>\n",
       "    <tr>\n",
       "      <td>30</td>\n",
       "      <td>1280.0</td>\n",
       "      <td>0.000175</td>\n",
       "      <td>4.084000e-06</td>\n",
       "      <td>6220.0</td>\n",
       "      <td>3.92</td>\n",
       "      <td>4.200000e+12</td>\n",
       "      <td>7.486000e+10</td>\n",
       "      <td>4.7860</td>\n",
       "      <td>0.8423</td>\n",
       "      <td>9.822000e-12</td>\n",
       "    </tr>\n",
       "    <tr>\n",
       "      <td>31</td>\n",
       "      <td>1180.0</td>\n",
       "      <td>0.000311</td>\n",
       "      <td>5.075000e-06</td>\n",
       "      <td>6150.0</td>\n",
       "      <td>3.48</td>\n",
       "      <td>7.865000e+12</td>\n",
       "      <td>8.108000e+10</td>\n",
       "      <td>8.5270</td>\n",
       "      <td>0.8694</td>\n",
       "      <td>1.839000e-11</td>\n",
       "    </tr>\n",
       "    <tr>\n",
       "      <td>32</td>\n",
       "      <td>1065.0</td>\n",
       "      <td>0.000630</td>\n",
       "      <td>6.861000e-06</td>\n",
       "      <td>6040.0</td>\n",
       "      <td>2.73</td>\n",
       "      <td>1.711000e+13</td>\n",
       "      <td>9.349000e+10</td>\n",
       "      <td>17.2600</td>\n",
       "      <td>0.9136</td>\n",
       "      <td>4.000000e-11</td>\n",
       "    </tr>\n",
       "    <tr>\n",
       "      <td>33</td>\n",
       "      <td>980.0</td>\n",
       "      <td>0.001098</td>\n",
       "      <td>9.148000e-06</td>\n",
       "      <td>5925.0</td>\n",
       "      <td>2.14</td>\n",
       "      <td>3.147000e+13</td>\n",
       "      <td>1.041000e+11</td>\n",
       "      <td>30.0800</td>\n",
       "      <td>0.9440</td>\n",
       "      <td>7.359000e-11</td>\n",
       "    </tr>\n",
       "    <tr>\n",
       "      <td>34</td>\n",
       "      <td>905.0</td>\n",
       "      <td>0.001840</td>\n",
       "      <td>1.239000e-05</td>\n",
       "      <td>5755.0</td>\n",
       "      <td>1.70</td>\n",
       "      <td>5.546000e+13</td>\n",
       "      <td>1.049000e+11</td>\n",
       "      <td>50.4300</td>\n",
       "      <td>0.9628</td>\n",
       "      <td>1.297000e-10</td>\n",
       "    </tr>\n",
       "    <tr>\n",
       "      <td>35</td>\n",
       "      <td>855.0</td>\n",
       "      <td>0.002632</td>\n",
       "      <td>1.553000e-05</td>\n",
       "      <td>5650.0</td>\n",
       "      <td>1.53</td>\n",
       "      <td>8.135000e+13</td>\n",
       "      <td>1.064000e+11</td>\n",
       "      <td>72.1000</td>\n",
       "      <td>0.9691</td>\n",
       "      <td>1.902000e-10</td>\n",
       "    </tr>\n",
       "    <tr>\n",
       "      <td>36</td>\n",
       "      <td>755.0</td>\n",
       "      <td>0.005577</td>\n",
       "      <td>2.537000e-05</td>\n",
       "      <td>5280.0</td>\n",
       "      <td>1.23</td>\n",
       "      <td>1.864000e+14</td>\n",
       "      <td>8.838000e+10</td>\n",
       "      <td>152.8000</td>\n",
       "      <td>0.9784</td>\n",
       "      <td>4.358000e-10</td>\n",
       "    </tr>\n",
       "    <tr>\n",
       "      <td>37</td>\n",
       "      <td>705.0</td>\n",
       "      <td>0.008333</td>\n",
       "      <td>3.288000e-05</td>\n",
       "      <td>5030.0</td>\n",
       "      <td>1.09</td>\n",
       "      <td>2.935000e+14</td>\n",
       "      <td>7.664000e+10</td>\n",
       "      <td>228.3000</td>\n",
       "      <td>0.9821</td>\n",
       "      <td>6.864000e-10</td>\n",
       "    </tr>\n",
       "    <tr>\n",
       "      <td>38</td>\n",
       "      <td>655.0</td>\n",
       "      <td>0.012760</td>\n",
       "      <td>4.452000e-05</td>\n",
       "      <td>4730.0</td>\n",
       "      <td>0.96</td>\n",
       "      <td>4.794000e+14</td>\n",
       "      <td>8.085000e+10</td>\n",
       "      <td>349.5000</td>\n",
       "      <td>0.9852</td>\n",
       "      <td>1.121000e-09</td>\n",
       "    </tr>\n",
       "    <tr>\n",
       "      <td>39</td>\n",
       "      <td>605.0</td>\n",
       "      <td>0.020130</td>\n",
       "      <td>7.022000e-05</td>\n",
       "      <td>4420.0</td>\n",
       "      <td>0.83</td>\n",
       "      <td>8.119000e+14</td>\n",
       "      <td>1.112000e+11</td>\n",
       "      <td>551.6000</td>\n",
       "      <td>0.9881</td>\n",
       "      <td>1.899000e-09</td>\n",
       "    </tr>\n",
       "    <tr>\n",
       "      <td>40</td>\n",
       "      <td>555.0</td>\n",
       "      <td>0.032700</td>\n",
       "      <td>1.456000e-04</td>\n",
       "      <td>4230.0</td>\n",
       "      <td>0.70</td>\n",
       "      <td>1.382000e+15</td>\n",
       "      <td>1.733000e+11</td>\n",
       "      <td>895.8000</td>\n",
       "      <td>0.9912</td>\n",
       "      <td>3.232000e-09</td>\n",
       "    </tr>\n",
       "    <tr>\n",
       "      <td>41</td>\n",
       "      <td>515.0</td>\n",
       "      <td>0.048780</td>\n",
       "      <td>3.014000e-04</td>\n",
       "      <td>4170.0</td>\n",
       "      <td>0.60</td>\n",
       "      <td>2.096000e+15</td>\n",
       "      <td>2.495000e+11</td>\n",
       "      <td>1336.0000</td>\n",
       "      <td>0.9934</td>\n",
       "      <td>4.902000e-09</td>\n",
       "    </tr>\n",
       "    <tr>\n",
       "      <td>42</td>\n",
       "      <td>450.0</td>\n",
       "      <td>0.093780</td>\n",
       "      <td>1.017000e-03</td>\n",
       "      <td>4220.0</td>\n",
       "      <td>0.53</td>\n",
       "      <td>3.989000e+15</td>\n",
       "      <td>4.516000e+11</td>\n",
       "      <td>2569.0000</td>\n",
       "      <td>0.9949</td>\n",
       "      <td>9.327000e-09</td>\n",
       "    </tr>\n",
       "    <tr>\n",
       "      <td>43</td>\n",
       "      <td>350.0</td>\n",
       "      <td>0.248100</td>\n",
       "      <td>5.626000e-03</td>\n",
       "      <td>4465.0</td>\n",
       "      <td>0.52</td>\n",
       "      <td>9.979000e+15</td>\n",
       "      <td>1.110000e+12</td>\n",
       "      <td>6798.0000</td>\n",
       "      <td>0.9954</td>\n",
       "      <td>2.334000e-08</td>\n",
       "    </tr>\n",
       "    <tr>\n",
       "      <td>44</td>\n",
       "      <td>250.0</td>\n",
       "      <td>0.617200</td>\n",
       "      <td>2.670000e-02</td>\n",
       "      <td>4780.0</td>\n",
       "      <td>0.63</td>\n",
       "      <td>2.315000e+16</td>\n",
       "      <td>2.674000e+12</td>\n",
       "      <td>16910.0000</td>\n",
       "      <td>0.9936</td>\n",
       "      <td>5.413000e-08</td>\n",
       "    </tr>\n",
       "    <tr>\n",
       "      <td>45</td>\n",
       "      <td>150.0</td>\n",
       "      <td>1.433000</td>\n",
       "      <td>1.117000e-01</td>\n",
       "      <td>5180.0</td>\n",
       "      <td>1.00</td>\n",
       "      <td>4.917000e+16</td>\n",
       "      <td>6.476000e+12</td>\n",
       "      <td>39260.0000</td>\n",
       "      <td>0.9854</td>\n",
       "      <td>1.150000e-07</td>\n",
       "    </tr>\n",
       "    <tr>\n",
       "      <td>46</td>\n",
       "      <td>100.0</td>\n",
       "      <td>2.118000</td>\n",
       "      <td>2.201000e-01</td>\n",
       "      <td>5455.0</td>\n",
       "      <td>1.20</td>\n",
       "      <td>6.866000e+16</td>\n",
       "      <td>1.066000e+13</td>\n",
       "      <td>58040.0000</td>\n",
       "      <td>0.9801</td>\n",
       "      <td>1.606000e-07</td>\n",
       "    </tr>\n",
       "    <tr>\n",
       "      <td>47</td>\n",
       "      <td>50.0</td>\n",
       "      <td>3.056000</td>\n",
       "      <td>4.395000e-01</td>\n",
       "      <td>5840.0</td>\n",
       "      <td>1.40</td>\n",
       "      <td>9.203000e+16</td>\n",
       "      <td>2.122000e+13</td>\n",
       "      <td>82740.0000</td>\n",
       "      <td>0.9748</td>\n",
       "      <td>2.152000e-07</td>\n",
       "    </tr>\n",
       "    <tr>\n",
       "      <td>48</td>\n",
       "      <td>0.0</td>\n",
       "      <td>4.279000</td>\n",
       "      <td>9.953000e-01</td>\n",
       "      <td>6420.0</td>\n",
       "      <td>1.60</td>\n",
       "      <td>1.166000e+17</td>\n",
       "      <td>6.433000e+13</td>\n",
       "      <td>117200.0000</td>\n",
       "      <td>0.9702</td>\n",
       "      <td>2.727000e-07</td>\n",
       "    </tr>\n",
       "    <tr>\n",
       "      <td>49</td>\n",
       "      <td>-25.0</td>\n",
       "      <td>4.991000</td>\n",
       "      <td>1.683000e+00</td>\n",
       "      <td>6910.0</td>\n",
       "      <td>1.70</td>\n",
       "      <td>1.261000e+17</td>\n",
       "      <td>1.547000e+14</td>\n",
       "      <td>136800.0000</td>\n",
       "      <td>0.9688</td>\n",
       "      <td>2.949000e-07</td>\n",
       "    </tr>\n",
       "    <tr>\n",
       "      <td>50</td>\n",
       "      <td>-50.0</td>\n",
       "      <td>5.747000</td>\n",
       "      <td>3.338000e+00</td>\n",
       "      <td>7610.0</td>\n",
       "      <td>1.76</td>\n",
       "      <td>1.317000e+17</td>\n",
       "      <td>4.645000e+14</td>\n",
       "      <td>157500.0000</td>\n",
       "      <td>0.9697</td>\n",
       "      <td>3.080000e-07</td>\n",
       "    </tr>\n",
       "    <tr>\n",
       "      <td>51</td>\n",
       "      <td>-75.0</td>\n",
       "      <td>6.534000</td>\n",
       "      <td>7.445000e+00</td>\n",
       "      <td>8320.0</td>\n",
       "      <td>1.80</td>\n",
       "      <td>1.365000e+17</td>\n",
       "      <td>1.204000e+15</td>\n",
       "      <td>179000.0000</td>\n",
       "      <td>0.9711</td>\n",
       "      <td>3.192000e-07</td>\n",
       "    </tr>\n",
       "  </tbody>\n",
       "</table>\n",
       "</div>"
      ],
      "text/plain": [
       "         h         m       tau_500         T      V           n_H  \\\n",
       "0   2543.0  0.000005  0.000000e+00  447000.0  11.28  1.005000e+09   \n",
       "1   2298.0  0.000005  3.712000e-08  141000.0   9.87  3.205000e+09   \n",
       "2   2290.0  0.000005  3.969000e-08   89100.0   9.82  5.041000e+09   \n",
       "3   2280.0  0.000005  4.491000e-08   50000.0   9.76  9.038000e+09   \n",
       "4   2274.0  0.000005  4.952000e-08   37000.0   9.73  1.201000e+10   \n",
       "5   2271.0  0.000005  5.234000e-08   32000.0   9.71  1.378000e+10   \n",
       "6   2267.0  0.000005  5.657000e-08   28000.0   9.70  1.567000e+10   \n",
       "7   2263.0  0.000005  6.124000e-08   25500.0   9.68  1.718000e+10   \n",
       "8   2255.0  0.000005  7.110000e-08   24500.0   9.64  1.797000e+10   \n",
       "9   2230.0  0.000006  1.030000e-07   24200.0   9.49  1.862000e+10   \n",
       "10  2200.0  0.000006  1.426000e-07   24000.0   9.33  1.932000e+10   \n",
       "11  2160.0  0.000006  1.977000e-07   23500.0   9.08  2.051000e+10   \n",
       "12  2129.0  0.000006  2.427000e-07   23000.0   8.87  2.163000e+10   \n",
       "13  2120.0  0.000006  2.562000e-07   22500.0   8.81  2.231000e+10   \n",
       "14  2115.0  0.000006  2.640000e-07   21000.0   8.78  2.403000e+10   \n",
       "15  2113.0  0.000006  2.674000e-07   18500.0   8.77  2.732000e+10   \n",
       "16  2109.0  0.000006  2.754000e-07   12300.0   8.74  4.092000e+10   \n",
       "17  2107.0  0.000006  2.801000e-07   10700.0   8.72  4.673000e+10   \n",
       "18  2104.0  0.000006  2.877000e-07    9500.0   8.71  5.239000e+10   \n",
       "19  2090.0  0.000006  3.243000e-07    8440.0   8.60  6.127000e+10   \n",
       "20  2080.0  0.000007  3.507000e-07    8180.0   8.55  6.541000e+10   \n",
       "21  2070.0  0.000007  3.770000e-07    7940.0   8.50  6.960000e+10   \n",
       "22  2050.0  0.000007  4.299000e-07    7660.0   8.42  7.705000e+10   \n",
       "23  2016.0  0.000008  5.203000e-07    7360.0   8.22  9.075000e+10   \n",
       "24  1990.0  0.000008  5.903000e-07    7160.0   8.01  1.033000e+11   \n",
       "25  1925.0  0.000010  7.717000e-07    6940.0   7.63  1.380000e+11   \n",
       "26  1785.0  0.000016  1.212000e-06    6630.0   6.92  2.601000e+11   \n",
       "27  1605.0  0.000034  1.958000e-06    6440.0   5.85  6.386000e+11   \n",
       "28  1515.0  0.000051  2.420000e-06    6370.0   5.26  1.048000e+12   \n",
       "29  1380.0  0.000101  3.286000e-06    6280.0   4.51  2.273000e+12   \n",
       "30  1280.0  0.000175  4.084000e-06    6220.0   3.92  4.200000e+12   \n",
       "31  1180.0  0.000311  5.075000e-06    6150.0   3.48  7.865000e+12   \n",
       "32  1065.0  0.000630  6.861000e-06    6040.0   2.73  1.711000e+13   \n",
       "33   980.0  0.001098  9.148000e-06    5925.0   2.14  3.147000e+13   \n",
       "34   905.0  0.001840  1.239000e-05    5755.0   1.70  5.546000e+13   \n",
       "35   855.0  0.002632  1.553000e-05    5650.0   1.53  8.135000e+13   \n",
       "36   755.0  0.005577  2.537000e-05    5280.0   1.23  1.864000e+14   \n",
       "37   705.0  0.008333  3.288000e-05    5030.0   1.09  2.935000e+14   \n",
       "38   655.0  0.012760  4.452000e-05    4730.0   0.96  4.794000e+14   \n",
       "39   605.0  0.020130  7.022000e-05    4420.0   0.83  8.119000e+14   \n",
       "40   555.0  0.032700  1.456000e-04    4230.0   0.70  1.382000e+15   \n",
       "41   515.0  0.048780  3.014000e-04    4170.0   0.60  2.096000e+15   \n",
       "42   450.0  0.093780  1.017000e-03    4220.0   0.53  3.989000e+15   \n",
       "43   350.0  0.248100  5.626000e-03    4465.0   0.52  9.979000e+15   \n",
       "44   250.0  0.617200  2.670000e-02    4780.0   0.63  2.315000e+16   \n",
       "45   150.0  1.433000  1.117000e-01    5180.0   1.00  4.917000e+16   \n",
       "46   100.0  2.118000  2.201000e-01    5455.0   1.20  6.866000e+16   \n",
       "47    50.0  3.056000  4.395000e-01    5840.0   1.40  9.203000e+16   \n",
       "48     0.0  4.279000  9.953000e-01    6420.0   1.60  1.166000e+17   \n",
       "49   -25.0  4.991000  1.683000e+00    6910.0   1.70  1.261000e+17   \n",
       "50   -50.0  5.747000  3.338000e+00    7610.0   1.76  1.317000e+17   \n",
       "51   -75.0  6.534000  7.445000e+00    8320.0   1.80  1.365000e+17   \n",
       "\n",
       "             n_e       Ptotal  Pgas/Ptotal           rho  \n",
       "0   1.205000e+09       0.1440       0.9896  2.349000e-15  \n",
       "1   3.839000e+09       0.1470       0.9752  7.494000e-15  \n",
       "2   5.961000e+09       0.1472       0.9614  1.179000e-14  \n",
       "3   9.993000e+09       0.1477       0.9318  2.113000e-14  \n",
       "4   1.318000e+10       0.1481       0.9102  2.808000e-14  \n",
       "5   1.498000e+10       0.1483       0.8976  3.222000e-14  \n",
       "6   1.677000e+10       0.1487       0.8840  3.665000e-14  \n",
       "7   1.812000e+10       0.1491       0.8738  4.017000e-14  \n",
       "8   1.881000e+10       0.1500       0.8698  4.203000e-14  \n",
       "9   1.943000e+10       0.1530       0.8718  4.355000e-14  \n",
       "10  2.009000e+10       0.1566       0.8645  4.517000e-14  \n",
       "11  2.120000e+10       0.1617       0.8778  4.795000e-14  \n",
       "12  2.219000e+10       0.1659       0.8801  5.058000e-14  \n",
       "13  2.276000e+10       0.1672       0.8789  5.216000e-14  \n",
       "14  2.402000e+10       0.1679       0.8710  5.619000e-14  \n",
       "15  2.620000e+10       0.1682       0.8539  6.390000e-14  \n",
       "16  3.306000e+10       0.1691       0.7839  9.569000e-14  \n",
       "17  3.535000e+10       0.1697       0.7552  1.093000e-13  \n",
       "18  3.705000e+10       0.1706       0.7277  1.225000e-13  \n",
       "19  3.799000e+10       0.1758       0.6986  1.433000e-13  \n",
       "20  3.780000e+10       0.1798       0.6891  1.530000e-13  \n",
       "21  3.783000e+10       0.1842       0.6808  1.628000e-13  \n",
       "22  3.792000e+10       0.1936       0.6701  1.802000e-13  \n",
       "23  3.811000e+10       0.2118       0.6616  2.122000e-13  \n",
       "24  3.858000e+10       0.2280       0.6600  2.417000e-13  \n",
       "25  4.028000e+10       0.2780       0.6620  3.227000e-13  \n",
       "26  4.771000e+10       0.4511       0.6772  6.082000e-13  \n",
       "27  6.005000e+10       0.9334       0.7262  1.493000e-12  \n",
       "28  6.456000e+10       1.4090       0.7595  2.450000e-12  \n",
       "29  7.600000e+10       2.7740       0.8051  5.315000e-12  \n",
       "30  7.486000e+10       4.7860       0.8423  9.822000e-12  \n",
       "31  8.108000e+10       8.5270       0.8694  1.839000e-11  \n",
       "32  9.349000e+10      17.2600       0.9136  4.000000e-11  \n",
       "33  1.041000e+11      30.0800       0.9440  7.359000e-11  \n",
       "34  1.049000e+11      50.4300       0.9628  1.297000e-10  \n",
       "35  1.064000e+11      72.1000       0.9691  1.902000e-10  \n",
       "36  8.838000e+10     152.8000       0.9784  4.358000e-10  \n",
       "37  7.664000e+10     228.3000       0.9821  6.864000e-10  \n",
       "38  8.085000e+10     349.5000       0.9852  1.121000e-09  \n",
       "39  1.112000e+11     551.6000       0.9881  1.899000e-09  \n",
       "40  1.733000e+11     895.8000       0.9912  3.232000e-09  \n",
       "41  2.495000e+11    1336.0000       0.9934  4.902000e-09  \n",
       "42  4.516000e+11    2569.0000       0.9949  9.327000e-09  \n",
       "43  1.110000e+12    6798.0000       0.9954  2.334000e-08  \n",
       "44  2.674000e+12   16910.0000       0.9936  5.413000e-08  \n",
       "45  6.476000e+12   39260.0000       0.9854  1.150000e-07  \n",
       "46  1.066000e+13   58040.0000       0.9801  1.606000e-07  \n",
       "47  2.122000e+13   82740.0000       0.9748  2.152000e-07  \n",
       "48  6.433000e+13  117200.0000       0.9702  2.727000e-07  \n",
       "49  1.547000e+14  136800.0000       0.9688  2.949000e-07  \n",
       "50  4.645000e+14  157500.0000       0.9697  3.080000e-07  \n",
       "51  1.204000e+15  179000.0000       0.9711  3.192000e-07  "
      ]
     },
     "execution_count": 8,
     "metadata": {},
     "output_type": "execute_result"
    }
   ],
   "source": [
    "df = pd.DataFrame(table,columns = header)\n",
    "df"
   ]
  },
  {
   "cell_type": "code",
   "execution_count": 9,
   "metadata": {},
   "outputs": [
    {
     "data": {
      "text/plain": [
       "[<matplotlib.lines.Line2D at 0x2e6c66c76c8>]"
      ]
     },
     "execution_count": 9,
     "metadata": {},
     "output_type": "execute_result"
    },
    {
     "data": {
      "image/png": "[encoded data removed]",
      "text/plain": [
       "<Figure size 432x288 with 1 Axes>"
      ]
     },
     "metadata": {
      "needs_background": "light"
     },
     "output_type": "display_data"
    }
   ],
   "source": [
    "plt.yscale(\"log\")\n",
    "plt.plot(df[\"h\"],df[\"T\"])"
   ]
  },
  {
   "cell_type": "code",
   "execution_count": 10,
   "metadata": {},
   "outputs": [],
   "source": [
    "Pe = ((df[\"n_e\"]*df[\"T\"]).to_numpy()*const.k_B.cgs).value\n",
    "#partition(species=\"H\",temp=df[\"T\"])"
   ]
  },
  {
   "cell_type": "code",
   "execution_count": 11,
   "metadata": {},
   "outputs": [
    {
     "data": {
      "text/plain": [
       "array([7.43665874e-02, 7.47343923e-02, 7.33297338e-02, 6.89841273e-02,\n",
       "       6.73287291e-02, 6.61827905e-02, 6.48297544e-02, 6.37942677e-02,\n",
       "       6.36265188e-02, 6.49189444e-02, 6.65693722e-02, 6.87839332e-02,\n",
       "       7.04641830e-02, 7.07030353e-02, 6.96426969e-02, 6.69200570e-02,\n",
       "       5.61424348e-02, 5.22223581e-02, 4.85953932e-02, 4.42685221e-02,\n",
       "       4.26902193e-02, 4.14705816e-02, 4.01033249e-02, 3.87257686e-02,\n",
       "       3.81380539e-02, 3.85951040e-02, 4.36723164e-02, 5.33927343e-02,\n",
       "       5.67788035e-02, 6.58956155e-02, 6.42870489e-02, 6.88449579e-02,\n",
       "       7.79624325e-02, 8.51573948e-02, 8.33497111e-02, 8.29990953e-02,\n",
       "       6.44274886e-02, 5.32239085e-02, 5.27988481e-02, 6.78594506e-02,\n",
       "       1.01209718e-01, 1.43644793e-01, 2.63117459e-01, 6.84270354e-01,\n",
       "       1.76470689e+00, 4.63148095e+00, 8.02851535e+00, 1.71096651e+01,\n",
       "       5.70206104e+01, 1.47588203e+02, 4.88038021e+02, 1.38303476e+03])"
      ]
     },
     "execution_count": 11,
     "metadata": {},
     "output_type": "execute_result"
    }
   ],
   "source": [
    "Pe"
   ]
  },
  {
   "cell_type": "code",
   "execution_count": 12,
   "metadata": {},
   "outputs": [
    {
     "data": {
      "text/latex": [
       "$1.380649 \\times 10^{-16} \\; \\mathrm{\\frac{erg}{K}}$"
      ],
      "text/plain": [
       "<Quantity 1.380649e-16 erg / K>"
      ]
     },
     "execution_count": 12,
     "metadata": {},
     "output_type": "execute_result"
    }
   ],
   "source": [
    "const.k_B.cgs"
   ]
  },
  {
   "cell_type": "code",
   "execution_count": 13,
   "metadata": {},
   "outputs": [],
   "source": [
    "n_p=astro530.saha_LTE(species=\"H\",temp=df[\"T\"],Pe=Pe)*df[\"n_H\"].to_numpy()"
   ]
  },
  {
   "cell_type": "code",
   "execution_count": 14,
   "metadata": {},
   "outputs": [
    {
     "data": {
      "image/png": "[encoded data removed]",
      "text/plain": [
       "<Figure size 504x360 with 1 Axes>"
      ]
     },
     "metadata": {
      "needs_background": "light"
     },
     "output_type": "display_data"
    }
   ],
   "source": [
    "fig, ax = plt.subplots(figsize = (7,5), nrows = 1, ncols = 1)\n",
    "fig.tight_layout(h_pad=-.5)\n",
    "\n",
    "    \n",
    "ax.yaxis.set_ticks_position('both')\n",
    "ax.xaxis.set_ticks_position('both')\n",
    "ax.minorticks_on()\n",
    "ax.grid(True,alpha=.3)\n",
    "\n",
    "ax.tick_params(direction='in', axis='both',which='minor',length=3,width=1)#,labelsize=8)\n",
    "ax.tick_params(direction='in',axis='both',which='major',length=6,width=2)#,labelsize=8)\n",
    "\n",
    "output_file = \"plots/18b.pdf\"\n",
    "#label = r\"$T = $\"+str((T*u.g/u.g).value*u.K)+r\" | log $P_g = $\"+str(round(np.log10((Pg*u.g/u.g).value),2))+r\" | log $P_e = $\"+str(round(np.log10(Pe_arr[-1].value),2))\n",
    "#ax.plot(i_arr,Pe_arr,lw=3,label=label)\n",
    "\n",
    "ax.set_yscale(\"log\")\n",
    "ax.set_xlim([800,0])\n",
    "ax.set_ylim([10**8,10**14])\n",
    "ax.plot(df[\"h\"],n_p,label=r\"$n_p$\")\n",
    "ax.plot(df[\"h\"],df[\"n_e\"],label=r\"$n_e$\")\n",
    "\n",
    "ax.set_xlabel(\"h (km)\")\n",
    "ax.set_ylabel(r\"n (cm$^{-3}$)\")\n",
    "\n",
    "ax.legend()\n",
    "\n",
    "fig.savefig(output_file,bbox_inches='tight')"
   ]
  },
  {
   "cell_type": "code",
   "execution_count": 15,
   "metadata": {},
   "outputs": [
    {
     "data": {
      "text/html": [
       "<div>\n",
       "<style scoped>\n",
       "    .dataframe tbody tr th:only-of-type {\n",
       "        vertical-align: middle;\n",
       "    }\n",
       "\n",
       "    .dataframe tbody tr th {\n",
       "        vertical-align: top;\n",
       "    }\n",
       "\n",
       "    .dataframe thead th {\n",
       "        text-align: right;\n",
       "    }\n",
       "</style>\n",
       "<table border=\"1\" class=\"dataframe\">\n",
       "  <thead>\n",
       "    <tr style=\"text-align: right;\">\n",
       "      <th></th>\n",
       "      <th>h</th>\n",
       "      <th>m</th>\n",
       "      <th>tau_500</th>\n",
       "      <th>T</th>\n",
       "      <th>V</th>\n",
       "      <th>n_H</th>\n",
       "      <th>n_e</th>\n",
       "      <th>Ptotal</th>\n",
       "      <th>Pgas/Ptotal</th>\n",
       "      <th>rho</th>\n",
       "    </tr>\n",
       "  </thead>\n",
       "  <tbody>\n",
       "    <tr>\n",
       "      <td>35</td>\n",
       "      <td>855.0</td>\n",
       "      <td>0.002632</td>\n",
       "      <td>0.000016</td>\n",
       "      <td>5650.0</td>\n",
       "      <td>1.53</td>\n",
       "      <td>8.135000e+13</td>\n",
       "      <td>1.064000e+11</td>\n",
       "      <td>72.1</td>\n",
       "      <td>0.9691</td>\n",
       "      <td>1.902000e-10</td>\n",
       "    </tr>\n",
       "    <tr>\n",
       "      <td>36</td>\n",
       "      <td>755.0</td>\n",
       "      <td>0.005577</td>\n",
       "      <td>0.000025</td>\n",
       "      <td>5280.0</td>\n",
       "      <td>1.23</td>\n",
       "      <td>1.864000e+14</td>\n",
       "      <td>8.838000e+10</td>\n",
       "      <td>152.8</td>\n",
       "      <td>0.9784</td>\n",
       "      <td>4.358000e-10</td>\n",
       "    </tr>\n",
       "  </tbody>\n",
       "</table>\n",
       "</div>"
      ],
      "text/plain": [
       "        h         m   tau_500       T     V           n_H           n_e  \\\n",
       "35  855.0  0.002632  0.000016  5650.0  1.53  8.135000e+13  1.064000e+11   \n",
       "36  755.0  0.005577  0.000025  5280.0  1.23  1.864000e+14  8.838000e+10   \n",
       "\n",
       "    Ptotal  Pgas/Ptotal           rho  \n",
       "35    72.1       0.9691  1.902000e-10  \n",
       "36   152.8       0.9784  4.358000e-10  "
      ]
     },
     "execution_count": 15,
     "metadata": {},
     "output_type": "execute_result"
    }
   ],
   "source": [
    "h800 = df.loc[df[\"h\"]<900].loc[df[\"h\"]>740]\n",
    "h800"
   ]
  },
  {
   "cell_type": "code",
   "execution_count": 16,
   "metadata": {},
   "outputs": [],
   "source": [
    "pe = h800[\"n_e\"].to_numpy()*h800[\"T\"].to_numpy()*(const.k_B.cgs).value\n",
    "T_arr = np.linspace(4500,5600,20)\n",
    "prot=astro530.saha_LTE(species=\"H\",temp=T_arr,Pe=pe.mean())*(h800[\"n_H\"].to_numpy()).mean()\n",
    "res = abs(prot-10**11)"
   ]
  },
  {
   "cell_type": "code",
   "execution_count": 17,
   "metadata": {},
   "outputs": [
    {
     "data": {
      "text/plain": [
       "<function matplotlib.pyplot.show(close=None, block=None)>"
      ]
     },
     "execution_count": 17,
     "metadata": {},
     "output_type": "execute_result"
    },
    {
     "data": {
      "image/png": "[encoded data removed]",
      "text/plain": [
       "<Figure size 432x288 with 1 Axes>"
      ]
     },
     "metadata": {
      "needs_background": "light"
     },
     "output_type": "display_data"
    }
   ],
   "source": [
    "plt.plot(T_arr,res)\n",
    "plt.plot([4500,5600],[10**11,10**11])\n",
    "plt.yscale(\"log\")\n",
    "plt.show"
   ]
  },
  {
   "cell_type": "code",
   "execution_count": 18,
   "metadata": {},
   "outputs": [],
   "source": [
    "minr= res[0]\n",
    "mint = T_arr[0]\n",
    "for i,r in enumerate(res):\n",
    "    if r < minr:\n",
    "        minr = r\n",
    "        mint = T_arr[i]"
   ]
  },
  {
   "cell_type": "code",
   "execution_count": null,
   "metadata": {},
   "outputs": [],
   "source": [
    "\n"
   ]
  },
  {
   "cell_type": "code",
   "execution_count": 19,
   "metadata": {},
   "outputs": [],
   "source": [
    "# PeH=astro530.calc_Pe(species=\"H\",T=df[\"T\"].to_numpy()*u.K,Pg=df[\"Pgas/Ptotal\"].to_numpy()*df[\"Ptotal\"].to_numpy()*u.dyn/u.cm**2)\n",
    "# PeFe=astro530.calc_Pe(species=\"Fe\",T=df[\"T\"].to_numpy()*u.K,Pg=df[\"Pgas/Ptotal\"].to_numpy()*df[\"Ptotal\"].to_numpy()*u.dyn/u.cm**2)\n",
    "# PeMg=astro530.calc_Pe(species=\"Mg\",T=df[\"T\"].to_numpy()*u.K,Pg=df[\"Pgas/Ptotal\"].to_numpy()*df[\"Ptotal\"].to_numpy()*u.dyn/u.cm**2)\n",
    "# PeSi=astro530.calc_Pe(species=\"Si\",T=df[\"T\"].to_numpy()*u.K,Pg=df[\"Pgas/Ptotal\"].to_numpy()*df[\"Ptotal\"].to_numpy()*u.dyn/u.cm**2)"
   ]
  },
  {
   "cell_type": "code",
   "execution_count": 20,
   "metadata": {},
   "outputs": [],
   "source": [
    "# n_e = df[\"n_e\"].loc[df[\"h\"]<900].loc[df['h']>=-1]\n",
    "# T = df[\"T\"].loc[df[\"h\"]<900].loc[df['h']>=-1].to_numpy()*u.K\n",
    "# Pg = df[\"Pgas/Ptotal\"].loc[df[\"h\"]<900].loc[df['h']>=-1].to_numpy()*df[\"Ptotal\"]\n",
    "#.loc[df[\"h\"]<900].loc[df['h']>=-1].to_numpy()*u.dyn/u.cm**2\n",
    "n_e = df[\"n_e\"].to_numpy()\n",
    "T = df[\"T\"].to_numpy()*u.K\n",
    "Pg = df[\"Pgas/Ptotal\"].to_numpy()*df[\"Ptotal\"].to_numpy()*u.dyn/u.cm**2"
   ]
  },
  {
   "cell_type": "code",
   "execution_count": 21,
   "metadata": {},
   "outputs": [],
   "source": [
    "# PeH = []\n",
    "# PeFe = []\n",
    "# PeMg = []\n",
    "# PeSi = []\n",
    "# for i in range(len(T)):\n",
    "#     print(i)\n",
    "#     PeH.append(astro530.true_Pe(species=\"H\",T=T[i],Pg=Pg[i],tol=1e-3)[0].value)\n",
    "#     PeFe.append(astro530.true_Pe(species=\"Fe\",T=T[i],Pg=Pg[i],tol=1e-3)[0].value)\n",
    "#     PeMg.append(astro530.true_Pe(species=\"Mg\",T=T[i],Pg=Pg[i],tol=1e-3)[0].value)\n",
    "#     PeSi.append(astro530.true_Pe(species=\"Si\",T=T[i],Pg=Pg[i],tol=1e-3)[0].value)"
   ]
  },
  {
   "cell_type": "code",
   "execution_count": 22,
   "metadata": {},
   "outputs": [
    {
     "name": "stdout",
     "output_type": "stream",
     "text": [
      "0\n",
      "1\n",
      "2\n",
      "3\n",
      "4\n",
      "5\n",
      "6\n",
      "7\n",
      "8\n",
      "9\n",
      "10\n",
      "11\n",
      "12\n",
      "13\n",
      "14\n",
      "15\n",
      "16\n",
      "17\n",
      "18\n",
      "19\n",
      "20\n",
      "21\n",
      "22\n",
      "23\n",
      "24\n",
      "25\n",
      "26\n",
      "27\n",
      "28\n",
      "29\n",
      "30\n",
      "31\n",
      "32\n",
      "33\n",
      "34\n",
      "35\n",
      "36\n",
      "37\n",
      "38\n",
      "39\n",
      "40\n",
      "41\n",
      "42\n",
      "43\n",
      "44\n",
      "45\n",
      "46\n",
      "47\n",
      "48\n",
      "49\n",
      "50\n",
      "51\n"
     ]
    }
   ],
   "source": [
    "Pe_true = []\n",
    "spec = [\"H\",\"He\",\"Fe\",\"Mg\",\"Si\"]\n",
    "for i in range(len(T)):\n",
    "    print(i)\n",
    "    Pe_true.append(astro530.true_Pe(species=spec,T=T[i],Pg=Pg[i],tol=1e-3,single=True).value)\n",
    "Pe_true = np.array(Pe_true)*u.dyn/u.cm**2"
   ]
  },
  {
   "cell_type": "code",
   "execution_count": 23,
   "metadata": {},
   "outputs": [
    {
     "data": {
      "text/plain": [
       "array([7.43665874e-02, 7.47343923e-02, 7.33297338e-02, 6.89841273e-02,\n",
       "       6.73287291e-02, 6.61827905e-02, 6.48297544e-02, 6.37942677e-02,\n",
       "       6.36265188e-02, 6.49189444e-02, 6.65693722e-02, 6.87839332e-02,\n",
       "       7.04641830e-02, 7.07030353e-02, 6.96426969e-02, 6.69200570e-02,\n",
       "       5.61424348e-02, 5.22223581e-02, 4.85953932e-02, 4.42685221e-02,\n",
       "       4.26902193e-02, 4.14705816e-02, 4.01033249e-02, 3.87257686e-02,\n",
       "       3.81380539e-02, 3.85951040e-02, 4.36723164e-02, 5.33927343e-02,\n",
       "       5.67788035e-02, 6.58956155e-02, 6.42870489e-02, 6.88449579e-02,\n",
       "       7.79624325e-02, 8.51573948e-02, 8.33497111e-02, 8.29990953e-02,\n",
       "       6.44274886e-02, 5.32239085e-02, 5.27988481e-02, 6.78594506e-02,\n",
       "       1.01209718e-01, 1.43644793e-01, 2.63117459e-01, 6.84270354e-01,\n",
       "       1.76470689e+00, 4.63148095e+00, 8.02851535e+00, 1.71096651e+01,\n",
       "       5.70206104e+01, 1.47588203e+02, 4.88038021e+02, 1.38303476e+03])"
      ]
     },
     "execution_count": 23,
     "metadata": {},
     "output_type": "execute_result"
    }
   ],
   "source": [
    "# Pe_true = Pe*u.dyn/u.cm**2\n",
    "Pe"
   ]
  },
  {
   "cell_type": "code",
   "execution_count": 24,
   "metadata": {},
   "outputs": [],
   "source": [
    "AFe = astro530.find_Abundance(species=\"Fe\")\n",
    "AMg = astro530.find_Abundance(species=\"Mg\")\n",
    "ASi = astro530.find_Abundance(species=\"Si\")"
   ]
  },
  {
   "cell_type": "code",
   "execution_count": 25,
   "metadata": {},
   "outputs": [],
   "source": [
    "n_p=astro530.saha_LTE(species=\"H\",temp=T,Pe=Pe_true)*df[\"n_H\"].to_numpy()\n",
    "n_Fe=astro530.saha_LTE(species=\"Fe\",temp=T,Pe=Pe_true)*df[\"n_H\"].to_numpy()*AFe\n",
    "n_Mg=astro530.saha_LTE(species=\"Mg\",temp=T,Pe=Pe_true)*df[\"n_H\"].to_numpy()*AMg\n",
    "n_Si=astro530.saha_LTE(species=\"Si\",temp=T,Pe=Pe_true)*df[\"n_H\"].to_numpy()*ASi"
   ]
  },
  {
   "cell_type": "code",
   "execution_count": 26,
   "metadata": {},
   "outputs": [
    {
     "data": {
      "text/plain": [
       "array([2.47156115e+08, 3.41887161e+06, 5.74448278e+05, 5.12330817e+04,\n",
       "       1.32820586e+04, 6.67291150e+03, 3.44284918e+03, 2.12368464e+03,\n",
       "       1.70020750e+03, 1.51936417e+03, 1.39019184e+03, 1.13612938e+03,\n",
       "       9.49812997e+02, 8.27200265e+02, 5.58587858e+02, 2.68463147e+02,\n",
       "       1.92227531e+01, 7.06124348e+00, 2.80317795e+00, 9.64549882e-01,\n",
       "       6.28735218e-01, 3.91860328e-01, 2.09891636e-01, 9.56995814e-02,\n",
       "       5.44350661e-02, 2.31758805e-02, 5.34181935e-03, 1.08211985e-03,\n",
       "       4.79534315e-04, 1.38934119e-04, 5.30463843e-05, 1.98549084e-05,\n",
       "       5.84450951e-06, 2.21927880e-06, 8.75743141e-07, 4.68040655e-07,\n",
       "       1.07481807e-07, 4.23971460e-08, 1.05635396e-08, 1.21833227e-09,\n",
       "       1.85587739e-10, 6.56804910e-11, 2.57265396e-11, 1.36090018e-11,\n",
       "       9.55872130e-12, 8.47223063e-12, 8.93089607e-12, 9.91346927e-12,\n",
       "       1.07002401e-11, 1.18871866e-11, 1.40306197e-11, 1.60461994e-11])"
      ]
     },
     "execution_count": 26,
     "metadata": {},
     "output_type": "execute_result"
    }
   ],
   "source": [
    "astro530.saha_LTE(species=\"Fe\",temp=T,Pe=Pe_true)/(AFe*df[\"n_H\"].to_numpy())"
   ]
  },
  {
   "cell_type": "code",
   "execution_count": 27,
   "metadata": {},
   "outputs": [
    {
     "data": {
      "text/plain": [
       "array([3.47574347e+05, 2.84041549e+03, 3.04968408e+02, 1.05038315e+01,\n",
       "       1.27124382e+00, 4.04073559e-01, 1.28494229e-01, 5.42261821e-02,\n",
       "       3.64974459e-02, 3.08745356e-02, 2.72145464e-02, 2.02030247e-02,\n",
       "       1.52782729e-02, 1.19828110e-02, 5.73559659e-03, 1.37217791e-03,\n",
       "       5.12340391e-06, 5.03806881e-07, 5.56213845e-08, 4.56566094e-09,\n",
       "       2.17339007e-09, 1.04918387e-09, 4.08777637e-10, 1.29011734e-10,\n",
       "       5.64474722e-11, 1.76956804e-11, 2.55993563e-12, 3.81244985e-13,\n",
       "       1.50146132e-13, 3.72350881e-14, 1.27843674e-14, 4.21645315e-15,\n",
       "       1.01137851e-15, 3.07533407e-16, 8.59732797e-17, 3.67546509e-17,\n",
       "       3.58067964e-18, 7.36769889e-19, 7.92055821e-20, 3.41311171e-21,\n",
       "       2.64791804e-22, 7.47667183e-23, 3.53657684e-23, 4.43567819e-23,\n",
       "       8.30068455e-23, 2.19203730e-22, 4.52851813e-22, 1.15917402e-21,\n",
       "       3.64584270e-21, 8.69214176e-21, 2.57522299e-20, 6.39450127e-20])"
      ]
     },
     "execution_count": 27,
     "metadata": {},
     "output_type": "execute_result"
    }
   ],
   "source": [
    "astro530.saha_LTE(species=\"H\",temp=T,Pe=Pe_true)/df[\"n_H\"].to_numpy()"
   ]
  },
  {
   "cell_type": "code",
   "execution_count": null,
   "metadata": {},
   "outputs": [],
   "source": []
  },
  {
   "cell_type": "code",
   "execution_count": 28,
   "metadata": {},
   "outputs": [
    {
     "data": {
      "text/plain": [
       "[<matplotlib.lines.Line2D at 0x2e6c9421388>]"
      ]
     },
     "execution_count": 28,
     "metadata": {},
     "output_type": "execute_result"
    },
    {
     "data": {
      "image/png": "[encoded data removed]",
      "text/plain": [
       "<Figure size 432x288 with 1 Axes>"
      ]
     },
     "metadata": {
      "needs_background": "light"
     },
     "output_type": "display_data"
    }
   ],
   "source": [
    "plt.xlim([800,0])\n",
    "#plt.ylim([-10,150])\n",
    "plt.yscale(\"log\")\n",
    "plt.plot(df[\"h\"],Pe)\n",
    "plt.plot(df[\"h\"],Pe_true)"
   ]
  },
  {
   "cell_type": "code",
   "execution_count": 29,
   "metadata": {},
   "outputs": [
    {
     "data": {
      "image/png": "[encoded data removed]",
      "text/plain": [
       "<Figure size 432x288 with 1 Axes>"
      ]
     },
     "metadata": {
      "needs_background": "light"
     },
     "output_type": "display_data"
    }
   ],
   "source": [
    "fig, ax = plt.subplots(figsize = (6,4), nrows = 1, ncols = 1)\n",
    "fig.tight_layout(h_pad=-.5)\n",
    "\n",
    "    \n",
    "ax.yaxis.set_ticks_position('both')\n",
    "ax.xaxis.set_ticks_position('both')\n",
    "ax.minorticks_on()\n",
    "ax.grid(True,alpha=.3)\n",
    "\n",
    "ax.tick_params(direction='in', axis='both',which='minor',length=3,width=1)#,labelsize=8)\n",
    "ax.tick_params(direction='in',axis='both',which='major',length=6,width=2)#,labelsize=8)\n",
    "\n",
    "output_file = \"plots/19a.pdf\"\n",
    "#label = r\"$T = $\"+str((T*u.g/u.g).value*u.K)+r\" | log $P_g = $\"+str(round(np.log10((Pg*u.g/u.g).value),2))+r\" | log $P_e = $\"+str(round(np.log10(Pe_arr[-1].value),2))\n",
    "#ax.plot(i_arr,Pe_arr,lw=3,label=label)\n",
    "\n",
    "ax.set_yscale(\"log\")\n",
    "ax.set_xlim([800,0])\n",
    "ax.set_ylim([0.02,10**2])\n",
    "ax.plot(df[\"h\"],Pe,label=r\"$P_{e,\\mathrm{ideal}}$\")\n",
    "ax.plot(df[\"h\"],Pe_true,label=r\"$P_{e,\\mathrm{true}}$\")\n",
    "\n",
    "ax.set_xlabel(\"h (km)\")\n",
    "ax.set_ylabel(r\"$P_e$ (dyn cm$^{-2}$)\")\n",
    "\n",
    "ax.legend()\n",
    "\n",
    "fig.savefig(output_file,bbox_inches='tight')"
   ]
  },
  {
   "cell_type": "code",
   "execution_count": 30,
   "metadata": {},
   "outputs": [
    {
     "data": {
      "text/plain": [
       "[<matplotlib.lines.Line2D at 0x2e6ca582fc8>]"
      ]
     },
     "execution_count": 30,
     "metadata": {},
     "output_type": "execute_result"
    },
    {
     "data": {
      "image/png": "[encoded data removed]",
      "text/plain": [
       "<Figure size 432x288 with 1 Axes>"
      ]
     },
     "metadata": {
      "needs_background": "light"
     },
     "output_type": "display_data"
    }
   ],
   "source": [
    "plt.xlim([800,0])\n",
    "#plt.ylim([.1,1])\n",
    "plt.yscale(\"log\")\n",
    "plt.plot(df[\"h\"],n_p/n_e)\n",
    "plt.plot(df[\"h\"],n_Fe/n_e)\n",
    "plt.plot(df[\"h\"],n_Mg/n_e)\n",
    "plt.plot(df[\"h\"],n_Si/n_e)"
   ]
  },
  {
   "cell_type": "code",
   "execution_count": 31,
   "metadata": {},
   "outputs": [
    {
     "data": {
      "text/latex": [
       "$57.02061 \\; \\mathrm{\\frac{dyn}{cm^{2}}}$"
      ],
      "text/plain": [
       "<Quantity 57.02061041 dyn / cm2>"
      ]
     },
     "execution_count": 31,
     "metadata": {},
     "output_type": "execute_result"
    }
   ],
   "source": [
    "(6420*u.K*const.k_B*df.loc[df[\"h\"]==0].n_e.to_numpy()[0]*u.cm**-3).to(u.dyn/u.cm**2)"
   ]
  },
  {
   "cell_type": "code",
   "execution_count": 50,
   "metadata": {},
   "outputs": [],
   "source": [
    "sAjm=(2.2701*10**-24*u.g)"
   ]
  },
  {
   "cell_type": "code",
   "execution_count": 32,
   "metadata": {},
   "outputs": [
    {
     "data": {
      "text/plain": [
       "0.9886916789247833"
      ]
     },
     "execution_count": 32,
     "metadata": {},
     "output_type": "execute_result"
    }
   ],
   "source": [
    "astro530.stim_em_coeff(wavelength=5000*u.Angstrom,T=6420*u.K)"
   ]
  },
  {
   "cell_type": "code",
   "execution_count": 51,
   "metadata": {},
   "outputs": [
    {
     "data": {
      "text/latex": [
       "$0.63401812 \\; \\mathrm{\\frac{dyn}{g}}$"
      ],
      "text/plain": [
       "<Quantity 0.63401812 dyn / g>"
      ]
     },
     "execution_count": 51,
     "metadata": {},
     "output_type": "execute_result"
    }
   ],
   "source": [
    "astro530.k_Hnbf(Pe=57*u.dyn/u.cm**2,T=6420*u.K,wavelength=5000*u.Angstrom)/sAjm"
   ]
  },
  {
   "cell_type": "code",
   "execution_count": 52,
   "metadata": {},
   "outputs": [
    {
     "data": {
      "text/latex": [
       "$0.00014690009 \\; \\mathrm{\\frac{cm^{2}}{g}}$"
      ],
      "text/plain": [
       "<Quantity 0.0001469 cm2 / g>"
      ]
     },
     "execution_count": 52,
     "metadata": {},
     "output_type": "execute_result"
    }
   ],
   "source": [
    "astro530.k_e(Pe=57*u.dyn/u.cm**2,Pg=1.137e5*u.dyn/u.cm**2,species=[\"H\",\"Fe\",\"Mg\",\"Si\"])/sAjm"
   ]
  },
  {
   "cell_type": "code",
   "execution_count": 54,
   "metadata": {},
   "outputs": [
    {
     "data": {
      "text/latex": [
       "$113700 \\; \\mathrm{\\frac{dyn}{cm^{2}}}$"
      ],
      "text/plain": [
       "<Quantity 113700. dyn / cm2>"
      ]
     },
     "execution_count": 54,
     "metadata": {},
     "output_type": "execute_result"
    }
   ],
   "source": [
    "1.137e5*u.dyn/u.cm**2"
   ]
  },
  {
   "cell_type": "code",
   "execution_count": 63,
   "metadata": {},
   "outputs": [
    {
     "data": {
      "text/latex": [
       "$0.67280628 \\; \\mathrm{\\frac{cm^{2}}{g}}$"
      ],
      "text/plain": [
       "<Quantity 0.67280628 cm2 / g>"
      ]
     },
     "execution_count": 63,
     "metadata": {},
     "output_type": "execute_result"
    }
   ],
   "source": [
    "astro530.k_total(Pe=57*u.dyn/u.cm**2,T=6420*u.K,wavelength=5000*u.Angstrom,species=[\"H\",\"Fe\",\"Mg\",\"Si\"])/sAjm"
   ]
  },
  {
   "cell_type": "code",
   "execution_count": 34,
   "metadata": {},
   "outputs": [
    {
     "data": {
      "text/latex": [
       "$54.559295 \\; \\mathrm{\\frac{dyn}{cm^{2}}}$"
      ],
      "text/plain": [
       "<Quantity 54.55929459 dyn / cm2>"
      ]
     },
     "execution_count": 34,
     "metadata": {},
     "output_type": "execute_result"
    }
   ],
   "source": [
    "astro530.true_Pe(species=spec,T=6420*u.K,Pg = 1.137e5*u.dyn/u.cm**2,single=True)"
   ]
  },
  {
   "cell_type": "code",
   "execution_count": 61,
   "metadata": {},
   "outputs": [
    {
     "data": {
      "text/plain": [
       "<module 'src.astro530' from 'C:\\\\Users\\\\xkncr\\\\Documents\\\\PSU\\\\Astro530\\\\src\\\\astro530.py'>"
      ]
     },
     "execution_count": 61,
     "metadata": {},
     "output_type": "execute_result"
    }
   ],
   "source": [
    "reload(astro530)"
   ]
  },
  {
   "cell_type": "code",
   "execution_count": 69,
   "metadata": {},
   "outputs": [],
   "source": [
    "true_Pe = astro530.true_Pe"
   ]
  },
  {
   "cell_type": "code",
   "execution_count": 72,
   "metadata": {},
   "outputs": [],
   "source": [
    "k_total = astro530.k_total"
   ]
  },
  {
   "cell_type": "code",
   "execution_count": 121,
   "metadata": {},
   "outputs": [],
   "source": [
    "def k_cont(wavelength=5000*u.Angstrom,T=5000*u.K,n_e=6e14*u.cm**-3,species=\"H\",Pg=20*u.dyn/u.cm**2,print_bool = False,**kwargs):\n",
    "    sAjmu = 0\n",
    "    try:\n",
    "        ab_df\n",
    "    except:\n",
    "        try:\n",
    "            ab_df = pd.read_csv(\"data/SolarAbundance.csv\").fillna(\"-\")\n",
    "        except:\n",
    "            ab_df = pandas.read_csv(\"../data/SolarAbundance.csv\").fillna(\"-\")\n",
    "    \n",
    "    amu = (const.N_A)**-1*1*u.g/u.mol        \n",
    "    \n",
    "    if species == \"all\":\n",
    "        species = []\n",
    "        for element in ab_df.element:\n",
    "            A = (ab_df.loc[ab_df.element == element].A).values[0]\n",
    "            if A != \"-\" and A > 1e-10:\n",
    "                species.append(element)\n",
    "    \n",
    "    try:\n",
    "        for ele in species:\n",
    "            try:\n",
    "                df_e = ab_df.loc[ab_df[\"element\"]==ele]\n",
    "                A = df_e.A.to_numpy()[0]\n",
    "                mu = df_e.weight.to_numpy()[0]\n",
    "                sAjmu += A*mu\n",
    "            except:\n",
    "                raise ValueError(ele+\" is not a valid element\")\n",
    "    except:\n",
    "        try:\n",
    "            df_e = ab_df.loc[ab_df[\"element\"]==species]\n",
    "            A = df_e.A.to_numpy()[0]\n",
    "            mu = df_e.weight.to_numpy()[0]\n",
    "            sAjmu += A*mu\n",
    "        except:\n",
    "            raise ValueError(ele+\" is not a valid element\")\n",
    "    Pe = true_Pe(species=species,T=T,Pg=Pg,single=True,**kwargs)\n",
    "   \n",
    "    K_tot = k_total(Pe=Pe,T=T,wavelength=wavelength,Pg=Pg,species=species)\n",
    "    \n",
    "    if print_bool:\n",
    "        print(\"T =\",T)\n",
    "        print(\"P_e =\",Pe)\n",
    "        print(\"P_g =\",Pg)\n",
    "        print(\"Wavelength =\",wavelength)\n",
    "        print(\"Mean particle mass =\",sAjmu*amu)\n",
    "        print(\"Opacity =\",K_tot/sAjmu/amu)\n",
    "        \n",
    "    \n",
    "    return K_tot/sAjmu/amu\n",
    "def k_alt(wavelength=5000*u.Angstrom,T=5000*u.K,Pe=50*u.dyn/u.cm**2,Pg=2e5*u.dyn/u.cm**2,print_bool = False,**kwargs):\n",
    "    sAjmu = 0\n",
    "    try:\n",
    "        ab_df\n",
    "    except:\n",
    "        try:\n",
    "            ab_df = pd.read_csv(\"data/SolarAbundance.csv\").fillna(\"-\")\n",
    "        except:\n",
    "            ab_df = pandas.read_csv(\"../data/SolarAbundance.csv\").fillna(\"-\")\n",
    "    \n",
    "    amu = (const.N_A)**-1*1*u.g/u.mol        \n",
    "    \n",
    "    species = []\n",
    "    for element in ab_df.element:\n",
    "        A = (ab_df.loc[ab_df.element == element].A).values[0]\n",
    "        if A != \"-\" and A > 1e-10:\n",
    "            species.append(element)\n",
    "    \n",
    "    for ele in species:\n",
    "        df_e = ab_df.loc[ab_df[\"element\"]==ele]\n",
    "        A = df_e.A.to_numpy()[0]\n",
    "        mu = df_e.weight.to_numpy()[0]\n",
    "        sAjmu += A*mu\n",
    "   \n",
    "    K_tot = k_total(Pe=Pe,T=T,wavelength=wavelength,Pg=Pg,species=species)\n",
    "    \n",
    "    if print_bool:\n",
    "        print(\"T =\",T)\n",
    "        print(\"P_e =\",Pe)\n",
    "        print(\"P_g =\",Pg)\n",
    "        print(\"Wavelength =\",wavelength)\n",
    "        print(\"Mean particle mass =\",sAjmu*amu)\n",
    "        print(\"Opacity =\",K_tot/sAjmu/amu)\n",
    "        \n",
    "    \n",
    "    return K_tot/sAjmu/amu"
   ]
  },
  {
   "cell_type": "code",
   "execution_count": 118,
   "metadata": {},
   "outputs": [
    {
     "name": "stdout",
     "output_type": "stream",
     "text": [
      "T = 6420.0 K\n",
      "P_e = 55.751516426331875 dyn / cm2\n",
      "P_g = 113000.0 dyn / cm2\n",
      "Wavelength = 5000.0 Angstrom\n",
      "Mean particle mass = 2.270136654501767e-24 g\n",
      "Opacity = 0.6584006101279974 cm2 / g\n"
     ]
    },
    {
     "data": {
      "text/latex": [
       "$0.65840061 \\; \\mathrm{\\frac{cm^{2}}{g}}$"
      ],
      "text/plain": [
       "<Quantity 0.65840061 cm2 / g>"
      ]
     },
     "execution_count": 118,
     "metadata": {},
     "output_type": "execute_result"
    }
   ],
   "source": [
    "k_cont(wavelength=5000*u.Angstrom,T=6420*u.K,Pg=1.13e5*u.dyn/u.cm**2,n_e=6.433e13*u.cm**-3,species=\"all\",print_bool=True)"
   ]
  },
  {
   "cell_type": "code",
   "execution_count": 123,
   "metadata": {},
   "outputs": [
    {
     "name": "stdout",
     "output_type": "stream",
     "text": [
      "T = 6420.0 K\n",
      "P_e = 57.0 Ba\n",
      "P_g = 113000.0 Ba\n",
      "Wavelength = 5000.0 Angstrom\n",
      "Mean particle mass = 2.270136654501767e-24 g\n",
      "Opacity = 0.6729559487899747 cm2 / g\n"
     ]
    },
    {
     "data": {
      "text/latex": [
       "$0.67295595 \\; \\mathrm{\\frac{cm^{2}}{g}}$"
      ],
      "text/plain": [
       "<Quantity 0.67295595 cm2 / g>"
      ]
     },
     "execution_count": 123,
     "metadata": {},
     "output_type": "execute_result"
    }
   ],
   "source": [
    "k_alt(wavelength=5000*u.Angstrom,T=6420*u.K,Pe=57*u.Ba,Pg=1.13e5*u.Ba,print_bool=True)"
   ]
  },
  {
   "cell_type": "code",
   "execution_count": 75,
   "metadata": {},
   "outputs": [
    {
     "data": {
      "text/html": [
       "<div>\n",
       "<style scoped>\n",
       "    .dataframe tbody tr th:only-of-type {\n",
       "        vertical-align: middle;\n",
       "    }\n",
       "\n",
       "    .dataframe tbody tr th {\n",
       "        vertical-align: top;\n",
       "    }\n",
       "\n",
       "    .dataframe thead th {\n",
       "        text-align: right;\n",
       "    }\n",
       "</style>\n",
       "<table border=\"1\" class=\"dataframe\">\n",
       "  <thead>\n",
       "    <tr style=\"text-align: right;\">\n",
       "      <th></th>\n",
       "      <th>h</th>\n",
       "      <th>m</th>\n",
       "      <th>tau_500</th>\n",
       "      <th>T</th>\n",
       "      <th>V</th>\n",
       "      <th>n_H</th>\n",
       "      <th>n_e</th>\n",
       "      <th>Ptotal</th>\n",
       "      <th>Pgas/Ptotal</th>\n",
       "      <th>rho</th>\n",
       "    </tr>\n",
       "  </thead>\n",
       "  <tbody>\n",
       "    <tr>\n",
       "      <td>48</td>\n",
       "      <td>0.0</td>\n",
       "      <td>4.279</td>\n",
       "      <td>0.9953</td>\n",
       "      <td>6420.0</td>\n",
       "      <td>1.6</td>\n",
       "      <td>1.166000e+17</td>\n",
       "      <td>6.433000e+13</td>\n",
       "      <td>117200.0</td>\n",
       "      <td>0.9702</td>\n",
       "      <td>2.727000e-07</td>\n",
       "    </tr>\n",
       "  </tbody>\n",
       "</table>\n",
       "</div>"
      ],
      "text/plain": [
       "      h      m  tau_500       T    V           n_H           n_e    Ptotal  \\\n",
       "48  0.0  4.279   0.9953  6420.0  1.6  1.166000e+17  6.433000e+13  117200.0   \n",
       "\n",
       "    Pgas/Ptotal           rho  \n",
       "48       0.9702  2.727000e-07  "
      ]
     },
     "execution_count": 75,
     "metadata": {},
     "output_type": "execute_result"
    }
   ],
   "source": [
    "df.loc[df.h==0]"
   ]
  },
  {
   "cell_type": "code",
   "execution_count": 82,
   "metadata": {},
   "outputs": [
    {
     "data": {
      "text/latex": [
       "$1.5082078 \\times 10^{-18} \\; \\mathrm{cm^{2}}$"
      ],
      "text/plain": [
       "<Quantity 1.50820778e-18 cm2>"
      ]
     },
     "execution_count": 82,
     "metadata": {},
     "output_type": "execute_result"
    }
   ],
   "source": [
    "k_total(wavelength=5000*u.Angstrom,T=6420*u.K,Pg=1.13e5*u.dyn/u.cm**2,Pe=57*u.bar,species=[\"H\",\"Fe\",\"Mg\",\"Si\"])"
   ]
  },
  {
   "cell_type": "code",
   "execution_count": 125,
   "metadata": {},
   "outputs": [
    {
     "data": {
      "text/latex": [
       "$6405.8556 \\; \\mathrm{K}$"
      ],
      "text/plain": [
       "<Quantity 6405.85558582 K>"
      ]
     },
     "execution_count": 125,
     "metadata": {},
     "output_type": "execute_result"
    }
   ],
   "source": [
    "(true_Pe(species=[\"H\",\"Fe\",\"Mg\",\"Si\"],T=6420*u.K,Pg=1.13e5*u.dyn/u.cm**2,single=True)/(6.43e13*u.cm**-3*const.k_B)).cgs"
   ]
  },
  {
   "cell_type": "code",
   "execution_count": null,
   "metadata": {},
   "outputs": [],
   "source": []
  }
 ],
 "metadata": {
  "kernelspec": {
   "display_name": "Python 3",
   "language": "python",
   "name": "python3"
  },
  "language_info": {
   "codemirror_mode": {
    "name": "ipython",
    "version": 3
   },
   "file_extension": ".py",
   "mimetype": "text/x-python",
   "name": "python",
   "nbconvert_exporter": "python",
   "pygments_lexer": "ipython3",
   "version": "3.7.4"
  }
 },
 "nbformat": 4,
 "nbformat_minor": 2
}
