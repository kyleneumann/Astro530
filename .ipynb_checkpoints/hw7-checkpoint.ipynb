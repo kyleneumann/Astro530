{
 "cells": [
  {
   "cell_type": "code",
   "execution_count": 1,
   "metadata": {},
   "outputs": [],
   "source": [
    "from importlib import reload\n",
    "from astropy import units as u\n",
    "from astropy import constants as const\n",
    "# from astropy.modeling.models import BlackBody\n",
    "# from astropy.units.equivalencies import spectral\n",
    "\n",
    "import math\n",
    "\n",
    "import numpy as np\n",
    "import matplotlib.pyplot as plt\n",
    "import pandas\n",
    "from scipy.interpolate import UnivariateSpline\n",
    "\n",
    "# from scipy.special import expn\n",
    "# from scipy.integrate import simpson\n",
    "\n",
    "from src import astro530\n",
    "from src import N_integrator"
   ]
  },
  {
   "cell_type": "code",
   "execution_count": 2,
   "metadata": {},
   "outputs": [],
   "source": [
    "saha_LTE = astro530.saha_LTE"
   ]
  },
  {
   "cell_type": "code",
   "execution_count": 40,
   "metadata": {},
   "outputs": [],
   "source": [
    "def k_Hbf(T = 5000,wavelength = 1000,nmax = 100):    \n",
    "    \n",
    "    a0 = 1.0443e-26\n",
    "    \n",
    "    R=1.09678e-3\n",
    "    \n",
    "    if (wavelength*u.s).unit == u.s:\n",
    "        pass\n",
    "    else:\n",
    "        wavelength = (wavelength.to(u.angstrom)).value\n",
    "        T = (T.to(u.K)).value\n",
    "    K=0\n",
    "    for n in range(1,nmax):\n",
    "        chi = 13.6*(1-1/n**2)\n",
    "        gbf = 1.-0.3456/(wavelength*R)**(1/3) * (wavelength*R/n**2 - 1/2)\n",
    "        \n",
    "        K+= (wavelength/n)**3*gbf*10**(-5040/T * chi)\n",
    "    K *= a0\n",
    "    \n",
    "    return K*u.cm**2\n",
    "\n",
    "def k_Hff(T = 5000,wavelength = 1000):\n",
    "    a0 = 1.0443e-26\n",
    "    \n",
    "    R=1.09678e-3\n",
    "    \n",
    "    if (wavelength*u.s).unit == u.s:\n",
    "        pass\n",
    "    else:\n",
    "        wavelength = (wavelength.to(u.angstrom)).value\n",
    "        T = (T.to(u.K)).value\n",
    "        \n",
    "    theta = 5040/T\n",
    "    loge = 0.43429    \n",
    "    I = ((const.h*const.c*const.Ryd).to(u.eV)).value    \n",
    "    chi = 1.2398e4 / wavelength    \n",
    "    gff = 1+ 0.3456/(wavelength*R)**(1/3) * (loge/(theta*chi)+1/2)\n",
    "    \n",
    "    K = a0*wavelength**3*gff*loge/(2*theta*I)*10**(-theta*I)\n",
    "    \n",
    "    return K*u.cm**2\n",
    "\n",
    "def k_Hnbf(Pe,T = 5000,wavelength = 1000):\n",
    "    if (wavelength*u.s).unit == u.s:\n",
    "        pass\n",
    "    else:\n",
    "        wavelength = (wavelength.to(u.angstrom)).value\n",
    "        T = (T.to(u.K)).value\n",
    "        (Pe.to(u.dyne*u.cm**-2)).value\n",
    "    \n",
    "    a0 = 1.99654\n",
    "    a1 = -1.18267e-5\n",
    "    a2 = 2.64243e-6\n",
    "    a3 = -4.40524e-10\n",
    "    a4 = 3.23992e-14\n",
    "    a5 = -1.39568e-18\n",
    "    a6 = 2.78701e-23\n",
    "    \n",
    "    abf = (a0+a1*wavelength+a2*wavelength**2+a3*wavelength**3+a4*wavelength**4+\n",
    "           a5*wavelength**5+a6*wavelength**6)\n",
    "    \n",
    "    theta = 5040/T\n",
    "    \n",
    "    K = 4.158e-10*abf*Pe*theta**(5/2) * 10**(0.754*theta)\n",
    "    \n",
    "    return K*u.cm**2\n",
    "\n",
    "def k_Hnff(Pe,T = 5000,wavelength = 9000):\n",
    "    if (wavelength*u.s).unit == u.s:\n",
    "        pass\n",
    "    else:\n",
    "        wavelength = (wavelength.to(u.angstrom)).value\n",
    "        T = (T.to(u.K)).value\n",
    "        Pe = (Pe.to(u.dyne*u.cm**-2)).value\n",
    "        \n",
    "#     if wavelength >= 2600 and wavelength <= 113900:\n",
    "#         pass\n",
    "#     else:\n",
    "#         raise ValueError(\"Wavelength is out of range. Try again.\")\n",
    "        \n",
    "    logl = np.log10(wavelength)\n",
    "    logth = np.log10(5040/T)\n",
    "        \n",
    "    f0 = -2.2763 - 1.6850*logl + 0.76661*logl**2-0.053346*logl**3\n",
    "    f1 = 15.2827-9.2846*logl+1.99381*logl**2-0.142631*logl**3\n",
    "    f2 = -197.789+190.266*logl-67.9775*logl**2+10.6913*logl**3-0.625151*logl**4\n",
    "    \n",
    "    K = 1e-26*Pe*10**(f0+f1*logth+f2*logth**2)\n",
    "    \n",
    "    return K*u.cm**2"
   ]
  },
  {
   "cell_type": "code",
   "execution_count": 19,
   "metadata": {},
   "outputs": [],
   "source": [
    "def k_total(Pe=10*u.dyne/u.cm**2,T = 5000*u.K,wavelength = 9000*u.angstrom,**kwargs):\n",
    "    if (wavelength*u.s).unit == u.s:\n",
    "        pass\n",
    "    else:\n",
    "        wavelength = (wavelength.to(u.angstrom)).value\n",
    "        T = (T.to(u.K)).value\n",
    "        Pe = (Pe.to(u.dyne*u.cm**-2)).value\n",
    "        \n",
    "    KHbf = k_Hbf(T=T,wavelength=wavelength,**kwargs)\n",
    "    KHff = k_Hff(T=T,wavelength=wavelength)\n",
    "    KHnbf = k_Hnbf(Pe,T=T,wavelength=wavelength)\n",
    "    KHnff = k_Hnff(Pe,T=T,wavelength=wavelength)\n",
    "    \n",
    "    chi = 1.2398e4/wavelength\n",
    "    theta = 5040/T\n",
    "    \n",
    "    phi = saha_LTE(\"H\",temp=T)\n",
    "    \n",
    "    Kt = ((KHbf+KHff+KHnbf)*(1-10**(-chi*theta))+KHnff)*1/(1+phi/Pe)\n",
    "    \n",
    "    return Kt"
   ]
  },
  {
   "cell_type": "code",
   "execution_count": 67,
   "metadata": {},
   "outputs": [],
   "source": [
    "n = 1\n",
    "R=1.09678e-3\n",
    "wavelength = lb_arr#912\n",
    "T=7715\n",
    "\n",
    "chi = 13.6*(1-1/n**2)\n",
    "gbf = 1-0.3456/(wavelength*R)**(1/3) * (wavelength*R/n**2 - 1/2)\n",
    "\n",
    "#print(0.3456/(wavelength*R)**(1/3) * (wavelength*R/n**2 - 1/2))\n",
    "#print(10**(-5040/T * chi))"
   ]
  },
  {
   "cell_type": "code",
   "execution_count": 68,
   "metadata": {},
   "outputs": [
    {
     "data": {
      "text/plain": [
       "[<matplotlib.lines.Line2D at 0x1af36f9e948>]"
      ]
     },
     "execution_count": 68,
     "metadata": {},
     "output_type": "execute_result"
    },
    {
     "data": {
      "image/png": "[encoded data removed]",
      "text/plain": [
       "<Figure size 432x288 with 1 Axes>"
      ]
     },
     "metadata": {
      "needs_background": "light"
     },
     "output_type": "display_data"
    }
   ],
   "source": [
    "abf = 1.0449e-26 * gbf *wavelength**3/n**5\n",
    "\n",
    "plt.plot(lb_arr,abf)"
   ]
  },
  {
   "cell_type": "code",
   "execution_count": 66,
   "metadata": {},
   "outputs": [
    {
     "name": "stdout",
     "output_type": "stream",
     "text": [
      "   Z Element     mu       1ion\n",
      "0  1       H  1.008  13.598434\n"
     ]
    }
   ],
   "source": [
    "lb_arr = np.linspace(.1,2000,100)\n",
    "T= 7715*u.K\n",
    "Pe = 10**2.5\n",
    "#T_arr = np.array()\n",
    "KHbf = k_Hbf(T=T.value,wavelength=lb_arr)\n",
    "Kt = k_total(Pe=Pe,T=T.value,wavelength=lb_arr)"
   ]
  },
  {
   "cell_type": "code",
   "execution_count": 29,
   "metadata": {},
   "outputs": [
    {
     "data": {
      "text/plain": [
       "[<matplotlib.lines.Line2D at 0x1af3624c188>]"
      ]
     },
     "execution_count": 29,
     "metadata": {},
     "output_type": "execute_result"
    },
    {
     "data": {
      "image/png": "[encoded data removed]",
      "text/plain": [
       "<Figure size 432x288 with 1 Axes>"
      ]
     },
     "metadata": {
      "needs_background": "light"
     },
     "output_type": "display_data"
    }
   ],
   "source": [
    "plt.plot(lb_arr,KHbf)"
   ]
  },
  {
   "cell_type": "code",
   "execution_count": null,
   "metadata": {},
   "outputs": [],
   "source": [
    "print(const.Ryd)"
   ]
  },
  {
   "cell_type": "code",
   "execution_count": 34,
   "metadata": {},
   "outputs": [
    {
     "data": {
      "text/latex": [
       "$-6.564645 \\times 10^{-15} \\; \\mathrm{cm^{2}}$"
      ],
      "text/plain": [
       "<Quantity -6.56464501e-15 cm2>"
      ]
     },
     "execution_count": 34,
     "metadata": {},
     "output_type": "execute_result"
    }
   ],
   "source": [
    "k_Hbf(T=7715,wavelength=10000,nmax=3)"
   ]
  },
  {
   "cell_type": "code",
   "execution_count": null,
   "metadata": {},
   "outputs": [],
   "source": []
  }
 ],
 "metadata": {
  "kernelspec": {
   "display_name": "Python 3",
   "language": "python",
   "name": "python3"
  },
  "language_info": {
   "codemirror_mode": {
    "name": "ipython",
    "version": 3
   },
   "file_extension": ".py",
   "mimetype": "text/x-python",
   "name": "python",
   "nbconvert_exporter": "python",
   "pygments_lexer": "ipython3",
   "version": "3.7.4"
  }
 },
 "nbformat": 4,
 "nbformat_minor": 2
}
